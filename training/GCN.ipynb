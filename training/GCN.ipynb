{
 "cells": [
  {
   "cell_type": "code",
   "execution_count": 1,
   "outputs": [],
   "source": [
    "RANDOM_STATE = 1234"
   ],
   "metadata": {
    "collapsed": false,
    "ExecuteTime": {
     "end_time": "2024-01-30T13:09:41.600007900Z",
     "start_time": "2024-01-30T13:09:41.598001900Z"
    }
   },
   "id": "7b2b1b0260178936"
  },
  {
   "cell_type": "code",
   "execution_count": 2,
   "id": "initial_id",
   "metadata": {
    "collapsed": true,
    "ExecuteTime": {
     "end_time": "2024-01-30T13:09:48.051067Z",
     "start_time": "2024-01-30T13:09:41.600007900Z"
    }
   },
   "outputs": [],
   "source": [
    "import numpy as np\n",
    "import pandas as pd\n",
    "import torch\n",
    "from data.featurization.dgl_Graph import DGL_Graph\n",
    "from model.dgl.GCN import GCN\n",
    "from sklearn.metrics import mean_squared_error, r2_score\n",
    "from sklearn.model_selection import KFold\n",
    "from hyperopt import STATUS_OK, Trials, fmin, hp, tpe"
   ]
  },
  {
   "cell_type": "code",
   "execution_count": 3,
   "outputs": [],
   "source": [
    "torch.manual_seed(RANDOM_STATE)\n",
    "np.random.seed(RANDOM_STATE)\n",
    "if torch.cuda.is_available():\n",
    "    torch.cuda.manual_seed_all(RANDOM_STATE)"
   ],
   "metadata": {
    "collapsed": false,
    "ExecuteTime": {
     "end_time": "2024-01-30T13:09:48.061831900Z",
     "start_time": "2024-01-30T13:09:48.050417800Z"
    }
   },
   "id": "7859a50771161b54"
  },
  {
   "cell_type": "code",
   "execution_count": 4,
   "outputs": [],
   "source": [
    "import warnings\n",
    "\n",
    "warnings.simplefilter(action='ignore', category=FutureWarning)"
   ],
   "metadata": {
    "collapsed": false,
    "ExecuteTime": {
     "end_time": "2024-01-30T13:09:48.074751900Z",
     "start_time": "2024-01-30T13:09:48.061327700Z"
    }
   },
   "id": "259fdb5615cf777"
  },
  {
   "cell_type": "code",
   "execution_count": 5,
   "outputs": [],
   "source": [
    "trn = pd.read_csv(\"../data/processed/trn.csv\")\n",
    "tst_08SC = pd.read_csv(\"../data/processed/tst.08SC.csv\")\n",
    "tst1_19SC = pd.read_csv(\"../data/processed/tst.19SC.1.csv\")\n",
    "tst2_19SC = pd.read_csv(\"../data/processed/tst.19SC.2.csv\")\n",
    "\n",
    "trn_y, trn_X = trn[\"Solubility\"], trn[\"SMILES\"]\n",
    "tst_08SC_y, tst_08SC_X = tst_08SC[\"Solubility\"], tst_08SC[\"SMILES\"]\n",
    "tst1_19SC_y, tst1_19SC_X = tst1_19SC[\"Solubility\"], tst1_19SC[\"SMILES\"]\n",
    "tst2_19SC_y, tst2_19SC_X = tst2_19SC[\"Solubility\"], tst2_19SC[\"SMILES\"]"
   ],
   "metadata": {
    "collapsed": false,
    "ExecuteTime": {
     "end_time": "2024-01-30T13:09:48.099024600Z",
     "start_time": "2024-01-30T13:09:48.062882700Z"
    }
   },
   "id": "2c181213e5aa7580"
  },
  {
   "cell_type": "code",
   "execution_count": 6,
   "outputs": [],
   "source": [
    "featurizer = DGL_Graph(\n",
    "    graph_type=\"BI_GRAPH\",\n",
    "    featurize_type=\"Canonical\",\n",
    "    self_loop=True\n",
    ")\n",
    "trn_X = featurizer.convert(trn_X)\n",
    "tst_08SC_X = featurizer.convert(tst_08SC_X)\n",
    "tst1_19SC_X = featurizer.convert(tst1_19SC_X)\n",
    "tst2_19SC_X = featurizer.convert(tst2_19SC_X)"
   ],
   "metadata": {
    "collapsed": false,
    "ExecuteTime": {
     "end_time": "2024-01-30T13:09:50.477339200Z",
     "start_time": "2024-01-30T13:09:48.099024600Z"
    }
   },
   "id": "4fe40d076dfa1460"
  },
  {
   "cell_type": "code",
   "execution_count": 7,
   "outputs": [],
   "source": [
    "tune_space = {\n",
    "    \"hidden_feats\": hp.choice(\"hidden_feats\",\n",
    "                              [[64], [64, 64], [128, 64], [256, 128, 64],\n",
    "                               [128, 128, 64], [256, 128, 128]]),\n",
    "    \"gnn_norm\": hp.choice(\"gnn_norm\", ['right', 'both', 'none']),\n",
    "    \"residual\": hp.choice(\"residual\", [True, False]),\n",
    "    \"batchnorm\": hp.choice(\"batchnorm\", [True, False]),\n",
    "    \"dropout\": hp.uniform(\"dropout\", 0, 1),\n",
    "    \"lr\": hp.choice(\"lr\", [0.1, 0.01, 0.001]),\n",
    "    \"weight_decay\": hp.uniform(\"weight_decay\", 0, 1),\n",
    "\n",
    "    \"batch_size\": 4096,\n",
    "}"
   ],
   "metadata": {
    "collapsed": false,
    "ExecuteTime": {
     "end_time": "2024-01-30T08:57:23.748973400Z",
     "start_time": "2024-01-30T08:57:23.739570900Z"
    }
   },
   "id": "4bacd244edb9d278"
  },
  {
   "cell_type": "code",
   "execution_count": 8,
   "outputs": [],
   "source": [
    "def tune_obj(space):\n",
    "    kf = KFold(n_splits=3, shuffle=True, random_state=RANDOM_STATE)\n",
    "    rmse = []\n",
    "\n",
    "    for trn_idx, val_idx in kf.split(trn_X):\n",
    "        tX, vX = trn_X[trn_idx], trn_X[val_idx]\n",
    "        ty, vy = trn_y[trn_idx], trn_y[val_idx]\n",
    "\n",
    "        model = GCN(\n",
    "            n_tasks=1,\n",
    "            in_feats=featurizer.get_node_feat_size(),\n",
    "            hidden_feats=space[\"hidden_feats\"],\n",
    "            gnn_norm=space[\"gnn_norm\"],\n",
    "            activation=torch.nn.functional.relu,\n",
    "            residual=space[\"residual\"],\n",
    "            batchnorm=space[\"batchnorm\"],\n",
    "            dropout=space[\"dropout\"],\n",
    "            classifier_hidden_feats=128,\n",
    "            classifier_dropout=0,\n",
    "            predictor_hidden_feats=128,\n",
    "            predictor_dropout=0,\n",
    "            lr=space[\"lr\"],\n",
    "            weight_decay=space[\"weight_decay\"],\n",
    "            batch_size=4096\n",
    "        )\n",
    "\n",
    "        scores = model.fit(tX, ty,\n",
    "                           val_X=vX, val_y=vy,\n",
    "                           epochs=800, min_epochs=500, early_stop_epochs=10, verbose=False)\n",
    "        rmse.append(scores[\"rmse\"][-1])\n",
    "\n",
    "    return {\"loss\": np.mean(rmse), 'status': STATUS_OK}\n"
   ],
   "metadata": {
    "collapsed": false,
    "ExecuteTime": {
     "end_time": "2024-01-30T08:57:23.749977Z",
     "start_time": "2024-01-30T08:57:23.743172400Z"
    }
   },
   "id": "44d17c4d83da3a62"
  },
  {
   "cell_type": "code",
   "execution_count": 9,
   "outputs": [
    {
     "name": "stdout",
     "output_type": "stream",
     "text": [
      "[DEVICE] cuda                                          \n",
      "[DEVICE] cuda                                          \n",
      "[DEVICE] cuda                                          \n",
      "[DEVICE] cuda                                                                       \n",
      "[DEVICE] cuda                                                                       \n",
      "[DEVICE] cuda                                                                       \n",
      "[DEVICE] cuda                                                                       \n",
      "[DEVICE] cuda                                                                       \n",
      "[DEVICE] cuda                                                                       \n",
      "[DEVICE] cuda                                                                       \n",
      "[DEVICE] cuda                                                                       \n",
      "[DEVICE] cuda                                                                       \n",
      "[DEVICE] cuda                                                                       \n",
      "[DEVICE] cuda                                                                       \n",
      "[DEVICE] cuda                                                                       \n",
      "[DEVICE] cuda                                                                       \n",
      "[DEVICE] cuda                                                                       \n",
      "[DEVICE] cuda                                                                       \n",
      "[DEVICE] cuda                                                                       \n",
      "[DEVICE] cuda                                                                       \n",
      "[DEVICE] cuda                                                                       \n",
      "[DEVICE] cuda                                                                       \n",
      "[DEVICE] cuda                                                                      \n",
      "[DEVICE] cuda                                                                      \n",
      "[DEVICE] cuda                                                                       \n",
      "[DEVICE] cuda                                                                       \n",
      "[DEVICE] cuda                                                                       \n",
      "[DEVICE] cuda                                                                       \n",
      "[DEVICE] cuda                                                                       \n",
      "[DEVICE] cuda                                                                       \n",
      "[DEVICE] cuda                                                                       \n",
      "[DEVICE] cuda                                                                       \n",
      "[DEVICE] cuda                                                                       \n",
      "[DEVICE] cuda                                                                       \n",
      "[DEVICE] cuda                                                                       \n",
      "[DEVICE] cuda                                                                       \n",
      "[DEVICE] cuda                                                                       \n",
      "[DEVICE] cuda                                                                       \n",
      "[DEVICE] cuda                                                                       \n",
      "[DEVICE] cuda                                                                       \n",
      "[DEVICE] cuda                                                                       \n",
      "[DEVICE] cuda                                                                       \n",
      "[DEVICE] cuda                                                                       \n",
      "[DEVICE] cuda                                                                       \n",
      "[DEVICE] cuda                                                                       \n",
      "[DEVICE] cuda                                                                       \n",
      "[DEVICE] cuda                                                                       \n",
      "[DEVICE] cuda                                                                       \n",
      "[DEVICE] cuda                                                                       \n",
      "[DEVICE] cuda                                                                       \n",
      "[DEVICE] cuda                                                                       \n",
      "[DEVICE] cuda                                                                       \n",
      "[DEVICE] cuda                                                                       \n",
      "[DEVICE] cuda                                                                       \n",
      "[DEVICE] cuda                                                                       \n",
      "[DEVICE] cuda                                                                       \n",
      "[DEVICE] cuda                                                                       \n",
      "[DEVICE] cuda                                                                       \n",
      "[DEVICE] cuda                                                                       \n",
      "[DEVICE] cuda                                                                       \n",
      "[DEVICE] cuda                                                                       \n",
      "[DEVICE] cuda                                                                       \n",
      "[DEVICE] cuda                                                                       \n",
      "[DEVICE] cuda                                                                       \n",
      "[DEVICE] cuda                                                                       \n",
      "[DEVICE] cuda                                                                       \n",
      "[DEVICE] cuda                                                                       \n",
      "[DEVICE] cuda                                                                       \n",
      "[DEVICE] cuda                                                                       \n",
      "[DEVICE] cuda                                                                       \n",
      "[DEVICE] cuda                                                                       \n",
      "[DEVICE] cuda                                                                       \n",
      "[DEVICE] cuda                                                                       \n",
      "[DEVICE] cuda                                                                       \n",
      "[DEVICE] cuda                                                                       \n",
      "[DEVICE] cuda                                                                       \n",
      "[DEVICE] cuda                                                                       \n",
      "[DEVICE] cuda                                                                       \n",
      "[DEVICE] cuda                                                                       \n",
      "[DEVICE] cuda                                                                       \n",
      "[DEVICE] cuda                                                                       \n",
      "[DEVICE] cuda                                                                       \n",
      "[DEVICE] cuda                                                                       \n",
      "[DEVICE] cuda                                                                       \n",
      "[DEVICE] cuda                                                                       \n",
      "[DEVICE] cuda                                                                       \n",
      "[DEVICE] cuda                                                                       \n",
      "[DEVICE] cuda                                                                       \n",
      "[DEVICE] cuda                                                                       \n",
      "[DEVICE] cuda                                                                       \n",
      "[DEVICE] cuda                                                                       \n",
      "[DEVICE] cuda                                                                       \n",
      "[DEVICE] cuda                                                                       \n",
      "[DEVICE] cuda                                                                       \n",
      "[DEVICE] cuda                                                                       \n",
      "[DEVICE] cuda                                                                       \n",
      "[DEVICE] cuda                                                                       \n",
      "[DEVICE] cuda                                                                       \n",
      "[DEVICE] cuda                                                                       \n",
      "[DEVICE] cuda                                                                       \n",
      "[DEVICE] cuda                                                                       \n",
      "[DEVICE] cuda                                                                       \n",
      "[DEVICE] cuda                                                                       \n",
      "[DEVICE] cuda                                                                       \n",
      "[DEVICE] cuda                                                                       \n",
      "[DEVICE] cuda                                                                       \n",
      "[DEVICE] cuda                                                                       \n",
      "[DEVICE] cuda                                                                       \n",
      "[DEVICE] cuda                                                                       \n",
      "[DEVICE] cuda                                                                       \n",
      "[DEVICE] cuda                                                                       \n",
      "[DEVICE] cuda                                                                       \n",
      "[DEVICE] cuda                                                                       \n",
      "[DEVICE] cuda                                                                       \n",
      "[DEVICE] cuda                                                                       \n",
      "[DEVICE] cuda                                                                       \n",
      "[DEVICE] cuda                                                                       \n",
      "[DEVICE] cuda                                                                       \n",
      "[DEVICE] cuda                                                                       \n",
      "[DEVICE] cuda                                                                       \n",
      "[DEVICE] cuda                                                                       \n",
      "[DEVICE] cuda                                                                       \n",
      "[DEVICE] cuda                                                                       \n",
      "[DEVICE] cuda                                                                       \n",
      "[DEVICE] cuda                                                                       \n",
      "[DEVICE] cuda                                                                       \n",
      "[DEVICE] cuda                                                                       \n",
      "[DEVICE] cuda                                                                       \n",
      "[DEVICE] cuda                                                                       \n",
      "[DEVICE] cuda                                                                       \n",
      "[DEVICE] cuda                                                                       \n",
      "[DEVICE] cuda                                                                       \n",
      "[DEVICE] cuda                                                                       \n",
      "[DEVICE] cuda                                                                       \n",
      "[DEVICE] cuda                                                                       \n",
      "[DEVICE] cuda                                                                       \n",
      "[DEVICE] cuda                                                                       \n",
      "[DEVICE] cuda                                                                         \n",
      "[DEVICE] cuda                                                                         \n",
      "[DEVICE] cuda                                                                         \n",
      "[DEVICE] cuda                                                                         \n",
      "[DEVICE] cuda                                                                         \n",
      "[DEVICE] cuda                                                                         \n",
      "[DEVICE] cuda                                                                         \n",
      "[DEVICE] cuda                                                                         \n",
      "[DEVICE] cuda                                                                         \n",
      "[DEVICE] cuda                                                                         \n",
      "[DEVICE] cuda                                                                         \n",
      "[DEVICE] cuda                                                                         \n",
      "[DEVICE] cuda                                                                         \n",
      "[DEVICE] cuda                                                                         \n",
      "[DEVICE] cuda                                                                         \n",
      "[DEVICE] cuda                                                                         \n",
      "[DEVICE] cuda                                                                         \n",
      "[DEVICE] cuda                                                                         \n",
      "[DEVICE] cuda                                                                         \n",
      "[DEVICE] cuda                                                                         \n",
      "[DEVICE] cuda                                                                         \n",
      "[DEVICE] cuda                                                                         \n",
      "[DEVICE] cuda                                                                         \n",
      "[DEVICE] cuda                                                                         \n",
      "[DEVICE] cuda                                                                         \n",
      "[DEVICE] cuda                                                                         \n",
      "[DEVICE] cuda                                                                         \n",
      "[DEVICE] cuda                                                                         \n",
      "[DEVICE] cuda                                                                         \n",
      "[DEVICE] cuda                                                                         \n",
      "[DEVICE] cuda                                                                         \n",
      "[DEVICE] cuda                                                                         \n",
      "[DEVICE] cuda                                                                       \n",
      "[DEVICE] cuda                                                                       \n",
      "[DEVICE] cuda                                                                       \n",
      "[DEVICE] cuda                                                                       \n",
      "[DEVICE] cuda                                                                       \n",
      "[DEVICE] cuda                                                                       \n",
      "[DEVICE] cuda                                                                       \n",
      "[DEVICE] cuda                                                                       \n",
      "[DEVICE] cuda                                                                       \n",
      "[DEVICE] cuda                                                                       \n",
      "[DEVICE] cuda                                                                       \n",
      "[DEVICE] cuda                                                                         \n",
      "[DEVICE] cuda                                                                         \n",
      "[DEVICE] cuda                                                                         \n",
      "[DEVICE] cuda                                                                         \n",
      "[DEVICE] cuda                                                                       \n",
      "[DEVICE] cuda                                                                       \n",
      "[DEVICE] cuda                                                                       \n",
      "[DEVICE] cuda                                                                       \n",
      "[DEVICE] cuda                                                                       \n",
      "[DEVICE] cuda                                                                       \n",
      "[DEVICE] cuda                                                                       \n",
      "[DEVICE] cuda                                                                       \n",
      "[DEVICE] cuda                                                                       \n",
      "[DEVICE] cuda                                                                       \n",
      "[DEVICE] cuda                                                                       \n",
      "[DEVICE] cuda                                                                       \n",
      "[DEVICE] cuda                                                                       \n",
      "[DEVICE] cuda                                                                       \n",
      "[DEVICE] cuda                                                                       \n",
      "[DEVICE] cuda                                                                       \n",
      "[DEVICE] cuda                                                                       \n",
      "[DEVICE] cuda                                                                       \n",
      "[DEVICE] cuda                                                                       \n",
      "[DEVICE] cuda                                                                       \n",
      "[DEVICE] cuda                                                                       \n",
      "[DEVICE] cuda                                                                       \n",
      "[DEVICE] cuda                                                                       \n",
      "[DEVICE] cuda                                                                       \n",
      "[DEVICE] cuda                                                                       \n",
      "[DEVICE] cuda                                                                       \n",
      "[DEVICE] cuda                                                                       \n",
      "[DEVICE] cuda                                                                       \n",
      "[DEVICE] cuda                                                                       \n",
      "[DEVICE] cuda                                                                       \n",
      "[DEVICE] cuda                                                                       \n",
      "[DEVICE] cuda                                                                       \n",
      "[DEVICE] cuda                                                                       \n",
      "[DEVICE] cuda                                                                       \n",
      "[DEVICE] cuda                                                                       \n",
      "[DEVICE] cuda                                                                       \n",
      "[DEVICE] cuda                                                                       \n",
      "[DEVICE] cuda                                                                       \n",
      "[DEVICE] cuda                                                                       \n",
      "[DEVICE] cuda                                                                       \n",
      "[DEVICE] cuda                                                                       \n",
      "[DEVICE] cuda                                                                       \n",
      "[DEVICE] cuda                                                                       \n",
      "[DEVICE] cuda                                                                       \n",
      "[DEVICE] cuda                                                                       \n",
      "[DEVICE] cuda                                                                       \n",
      "[DEVICE] cuda                                                                       \n",
      "[DEVICE] cuda                                                                       \n",
      "[DEVICE] cuda                                                                       \n",
      "[DEVICE] cuda                                                                       \n",
      "[DEVICE] cuda                                                                       \n",
      "[DEVICE] cuda                                                                       \n",
      "[DEVICE] cuda                                                                       \n",
      "[DEVICE] cuda                                                                        \n",
      "[DEVICE] cuda                                                                        \n",
      "[DEVICE] cuda                                                                        \n",
      "[DEVICE] cuda                                                                        \n",
      "[DEVICE] cuda                                                                       \n",
      "[DEVICE] cuda                                                                       \n",
      "[DEVICE] cuda                                                                        \n",
      "[DEVICE] cuda                                                                        \n",
      "[DEVICE] cuda                                                                        \n",
      "[DEVICE] cuda                                                                        \n",
      "[DEVICE] cuda                                                                       \n",
      "[DEVICE] cuda                                                                       \n",
      "[DEVICE] cuda                                                                       \n",
      "[DEVICE] cuda                                                                       \n",
      "[DEVICE] cuda                                                                       \n",
      "[DEVICE] cuda                                                                       \n",
      "[DEVICE] cuda                                                                       \n",
      "[DEVICE] cuda                                                                       \n",
      "[DEVICE] cuda                                                                       \n",
      "[DEVICE] cuda                                                                       \n",
      "[DEVICE] cuda                                                                       \n",
      "[DEVICE] cuda                                                                        \n",
      "[DEVICE] cuda                                                                        \n",
      "[DEVICE] cuda                                                                        \n",
      "[DEVICE] cuda                                                                        \n",
      "[DEVICE] cuda                                                                       \n",
      "[DEVICE] cuda                                                                       \n",
      "[DEVICE] cuda                                                                       \n",
      "[DEVICE] cuda                                                                       \n",
      "[DEVICE] cuda                                                                       \n",
      "[DEVICE] cuda                                                                       \n",
      "[DEVICE] cuda                                                                       \n",
      "[DEVICE] cuda                                                                       \n",
      "[DEVICE] cuda                                                                        \n",
      "[DEVICE] cuda                                                                        \n",
      "[DEVICE] cuda                                                                        \n",
      "[DEVICE] cuda                                                                        \n",
      "[DEVICE] cuda                                                                       \n",
      "[DEVICE] cuda                                                                       \n",
      "[DEVICE] cuda                                                                        \n",
      "[DEVICE] cuda                                                                        \n",
      "[DEVICE] cuda                                                                        \n",
      "[DEVICE] cuda                                                                        \n",
      "[DEVICE] cuda                                                                       \n",
      "[DEVICE] cuda                                                                       \n",
      "[DEVICE] cuda                                                                        \n",
      "[DEVICE] cuda                                                                        \n",
      "[DEVICE] cuda                                                                        \n",
      "[DEVICE] cuda                                                                        \n",
      "[DEVICE] cuda                                                                        \n",
      "[DEVICE] cuda                                                                        \n",
      "[DEVICE] cuda                                                                        \n",
      "[DEVICE] cuda                                                                        \n",
      "[DEVICE] cuda                                                                        \n",
      "[DEVICE] cuda                                                                        \n",
      "[DEVICE] cuda                                                                        \n",
      "[DEVICE] cuda                                                                        \n",
      "[DEVICE] cuda                                                                        \n",
      "[DEVICE] cuda                                                                        \n",
      "[DEVICE] cuda                                                                        \n",
      "[DEVICE] cuda                                                                        \n",
      "[DEVICE] cuda                                                                       \n",
      "[DEVICE] cuda                                                                       \n",
      "100%|██████████| 100/100 [2:25:36<00:00, 87.36s/trial, best loss: 0.6189354062080383] \n"
     ]
    }
   ],
   "source": [
    "trials = Trials()\n",
    "best_params = fmin(\n",
    "    fn=tune_obj,\n",
    "    space=tune_space,\n",
    "    algo=tpe.suggest,\n",
    "    max_evals=100,\n",
    "    trials=trials\n",
    ")"
   ],
   "metadata": {
    "collapsed": false,
    "ExecuteTime": {
     "end_time": "2024-01-30T11:23:00.156749100Z",
     "start_time": "2024-01-30T08:57:23.749977Z"
    }
   },
   "id": "8551278ffe3425b5"
  },
  {
   "cell_type": "code",
   "execution_count": 10,
   "outputs": [
    {
     "data": {
      "text/plain": "{'batchnorm': 1,\n 'dropout': 0.07075484753350235,\n 'gnn_norm': 1,\n 'hidden_feats': 3,\n 'lr': 2,\n 'residual': 1,\n 'weight_decay': 0.003975036016795143}"
     },
     "execution_count": 10,
     "metadata": {},
     "output_type": "execute_result"
    }
   ],
   "source": [
    "best_params"
   ],
   "metadata": {
    "collapsed": false,
    "ExecuteTime": {
     "end_time": "2024-01-30T11:23:00.176648500Z",
     "start_time": "2024-01-30T11:23:00.157749600Z"
    }
   },
   "id": "5134d1e923b56c58"
  },
  {
   "cell_type": "code",
   "execution_count": 7,
   "outputs": [],
   "source": [
    "best_params = {\n",
    "    \"hidden_feats\": [256, 128, 64],\n",
    "    \"gnn_norm\": 'both',\n",
    "    \"residual\": True,\n",
    "    \"batchnorm\": True,\n",
    "    \"dropout\": 0.07075484753350235,\n",
    "    \"lr\": 0.001,\n",
    "    \"weight_decay\": 0.003975036016795143,\n",
    "    \"batch_size\": 4096,\n",
    "}"
   ],
   "metadata": {
    "collapsed": false,
    "ExecuteTime": {
     "end_time": "2024-01-30T13:09:50.492442700Z",
     "start_time": "2024-01-30T13:09:50.488344900Z"
    }
   },
   "id": "5a971fe984822998"
  },
  {
   "cell_type": "code",
   "execution_count": 26,
   "outputs": [
    {
     "name": "stdout",
     "output_type": "stream",
     "text": [
      "[DEVICE] cuda\n"
     ]
    },
    {
     "name": "stderr",
     "output_type": "stream",
     "text": [
      " 54%|█████▎    | 429/800 [00:24<00:21, 17.50it/s, trn_loss:0.016 val_loss:0.155 rmse:0.583 r2:0.913]\n"
     ]
    },
    {
     "name": "stdout",
     "output_type": "stream",
     "text": [
      "[DEVICE] cuda\n"
     ]
    },
    {
     "name": "stderr",
     "output_type": "stream",
     "text": [
      " 59%|█████▉    | 474/800 [00:27<00:18, 17.52it/s, trn_loss:0.016 val_loss:0.166 rmse:0.661 r2:0.884]\n"
     ]
    },
    {
     "name": "stdout",
     "output_type": "stream",
     "text": [
      "[DEVICE] cuda\n"
     ]
    },
    {
     "name": "stderr",
     "output_type": "stream",
     "text": [
      " 55%|█████▍    | 437/800 [00:25<00:20, 17.36it/s, trn_loss:0.018 val_loss:0.184 rmse:0.680 r2:0.867]\n"
     ]
    },
    {
     "name": "stdout",
     "output_type": "stream",
     "text": [
      "[DEVICE] cuda\n"
     ]
    },
    {
     "name": "stderr",
     "output_type": "stream",
     "text": [
      " 56%|█████▋    | 450/800 [00:25<00:20, 17.33it/s, trn_loss:0.015 val_loss:0.176 rmse:0.641 r2:0.904]\n"
     ]
    },
    {
     "name": "stdout",
     "output_type": "stream",
     "text": [
      "[DEVICE] cuda\n"
     ]
    },
    {
     "name": "stderr",
     "output_type": "stream",
     "text": [
      " 58%|█████▊    | 461/800 [00:25<00:19, 17.79it/s, trn_loss:0.015 val_loss:0.185 rmse:0.654 r2:0.907]\n"
     ]
    }
   ],
   "source": [
    "kf = KFold(n_splits=5, shuffle=True, random_state=RANDOM_STATE)\n",
    "\n",
    "pred_19t1, pred_19t2, pred_08t = [], [], []\n",
    "\n",
    "for trn_idx, val_idx in kf.split(trn_X):\n",
    "    tX, vX = trn_X[trn_idx], trn_X[val_idx]\n",
    "    ty, vy = trn_y[trn_idx], trn_y[val_idx]\n",
    "\n",
    "    model = GCN(\n",
    "        n_tasks=1,\n",
    "        in_feats=featurizer.get_node_feat_size(),\n",
    "        hidden_feats=best_params[\"hidden_feats\"],\n",
    "        gnn_norm=best_params[\"gnn_norm\"],\n",
    "        activation=torch.nn.functional.relu,\n",
    "        residual=best_params[\"residual\"],\n",
    "        batchnorm=best_params[\"batchnorm\"],\n",
    "        dropout=best_params[\"dropout\"],\n",
    "        classifier_hidden_feats=128,\n",
    "        classifier_dropout=0,\n",
    "        predictor_hidden_feats=128,\n",
    "        predictor_dropout=0,\n",
    "        lr=best_params[\"lr\"],\n",
    "        weight_decay=best_params[\"weight_decay\"],\n",
    "        batch_size=4096\n",
    "    )\n",
    "\n",
    "    scores = model.fit(tX, ty, val_X=vX, val_y=vy, epochs=800, min_epochs=400, early_stop_epochs=10)\n",
    "\n",
    "    pred_19t1.append(model.predict(tst1_19SC_X).cpu())\n",
    "    pred_19t2.append(model.predict(tst2_19SC_X).cpu())\n",
    "    pred_08t.append(model.predict(tst_08SC_X).cpu())"
   ],
   "metadata": {
    "collapsed": false,
    "ExecuteTime": {
     "end_time": "2024-01-30T13:58:01.213468100Z",
     "start_time": "2024-01-30T13:55:52.332614900Z"
    }
   },
   "id": "2207b4e8f4db83a3"
  },
  {
   "cell_type": "code",
   "execution_count": 27,
   "outputs": [],
   "source": [
    "pred_19t1 = [torch.mean(pred_i).item() for pred_i in torch.cat(pred_19t1, 1)]\n",
    "pred_19t2 = [torch.mean(pred_i).item() for pred_i in torch.cat(pred_19t2, 1)]\n",
    "pred_08t = [torch.mean(pred_i).item() for pred_i in torch.cat(pred_08t, 1)]"
   ],
   "metadata": {
    "collapsed": false,
    "ExecuteTime": {
     "end_time": "2024-01-30T13:58:01.214471300Z",
     "start_time": "2024-01-30T13:58:01.211993400Z"
    }
   },
   "id": "4742a033b298af2b"
  },
  {
   "cell_type": "code",
   "execution_count": 28,
   "outputs": [
    {
     "data": {
      "text/plain": "{'2019SC TST1 (RMSE)': 0.7033446436245765,\n '2019SC TST2 (RMSE)': 1.6627868685836469,\n '2008SC TST  (RMSE)': 0.9440606250900933,\n '2019SC TST1 (R^2)': 0.5925717029212769,\n '2019SC TST2 (R^2)': 0.31272448977527845,\n '2008SC TST  (R^2)': 0.5160519748320276}"
     },
     "execution_count": 28,
     "metadata": {},
     "output_type": "execute_result"
    }
   ],
   "source": [
    "performance = {\n",
    "    \"2019SC TST1 (RMSE)\": mean_squared_error(tst1_19SC_y, pred_19t1, squared=False),\n",
    "    \"2019SC TST2 (RMSE)\": mean_squared_error(tst2_19SC_y, pred_19t2, squared=False),\n",
    "    \"2008SC TST  (RMSE)\": mean_squared_error(tst_08SC_y, pred_08t, squared=False),\n",
    "    \"2019SC TST1 (R^2)\": r2_score(tst1_19SC_y, pred_19t1),\n",
    "    \"2019SC TST2 (R^2)\": r2_score(tst2_19SC_y, pred_19t2),\n",
    "    \"2008SC TST  (R^2)\": r2_score(tst_08SC_y, pred_08t),\n",
    "}\n",
    "performance"
   ],
   "metadata": {
    "collapsed": false,
    "ExecuteTime": {
     "end_time": "2024-01-30T13:58:01.230491600Z",
     "start_time": "2024-01-30T13:58:01.215471Z"
    }
   },
   "id": "a178edf26214da0a"
  },
  {
   "cell_type": "code",
   "execution_count": 27,
   "outputs": [
    {
     "ename": "ModuleNotFoundError",
     "evalue": "No module named 'matplotlib'",
     "output_type": "error",
     "traceback": [
      "\u001B[1;31m---------------------------------------------------------------------------\u001B[0m",
      "\u001B[1;31mModuleNotFoundError\u001B[0m                       Traceback (most recent call last)",
      "Cell \u001B[1;32mIn[27], line 1\u001B[0m\n\u001B[1;32m----> 1\u001B[0m \u001B[38;5;28;01mimport\u001B[39;00m \u001B[38;5;21;01mmatplotlib\u001B[39;00m\u001B[38;5;21;01m.\u001B[39;00m\u001B[38;5;21;01mpyplot\u001B[39;00m \u001B[38;5;28;01mas\u001B[39;00m \u001B[38;5;21;01mplt\u001B[39;00m\n\u001B[0;32m      2\u001B[0m \u001B[38;5;28;01mimport\u001B[39;00m \u001B[38;5;21;01mseaborn\u001B[39;00m \u001B[38;5;28;01mas\u001B[39;00m \u001B[38;5;21;01msns\u001B[39;00m\n\u001B[0;32m      4\u001B[0m model_name \u001B[38;5;241m=\u001B[39m \u001B[38;5;124m\"\u001B[39m\u001B[38;5;124mGCN\u001B[39m\u001B[38;5;124m\"\u001B[39m\n",
      "\u001B[1;31mModuleNotFoundError\u001B[0m: No module named 'matplotlib'"
     ]
    }
   ],
   "source": [
    "import matplotlib.pyplot as plt\n",
    "import seaborn as sns\n",
    "\n",
    "model_name = \"GCN\"\n",
    "min_ax1, max_ax1 = -7, -1\n",
    "min_ax2, max_ax2 = -10.5, -1\n",
    "min_ax3, max_ax3 = -8, -1\n",
    "\n",
    "fig, (ax1, ax2, ax3) = plt.subplots(nrows=1, ncols=3, figsize=(12, 4))\n",
    "\n",
    "sns.lineplot(x=[min_ax1, max_ax1], y=[min_ax1, max_ax1], ax=ax1, color=\"black\")\n",
    "sns.lineplot(x=[min_ax2, max_ax2], y=[min_ax2, max_ax2], ax=ax2, color=\"black\")\n",
    "sns.lineplot(x=[min_ax3, max_ax3], y=[min_ax3, max_ax3], ax=ax3, color=\"black\")\n",
    "\n",
    "sns.regplot(\n",
    "    data=pd.DataFrame({\n",
    "        \"True log$S$ (mol/L)\": tst1_19SC_y.values,\n",
    "        \"Predicted log$S$ (mol/L)\": pred_19t1\n",
    "    }),\n",
    "    x=\"True log$S$ (mol/L)\",\n",
    "    y=\"Predicted log$S$ (mol/L)\",\n",
    "    ax=ax1\n",
    ")\n",
    "sns.regplot(\n",
    "    data=pd.DataFrame({\n",
    "        \"True log$S$ (mol/L)\": tst2_19SC_y.values,\n",
    "        \"Predicted log$S$ (mol/L)\": pred_19t2\n",
    "    }),\n",
    "    x=\"True log$S$ (mol/L)\",\n",
    "    y=\"Predicted log$S$ (mol/L)\",\n",
    "    ax=ax2\n",
    ")\n",
    "sns.regplot(\n",
    "    data=pd.DataFrame({\n",
    "        \"True log$S$ (mol/L)\": tst_08SC_y.values,\n",
    "        \"Predicted log$S$ (mol/L)\": pred_08t\n",
    "    }),\n",
    "    x=\"True log$S$ (mol/L)\",\n",
    "    y=\"Predicted log$S$ (mol/L)\",\n",
    "    ax=ax3\n",
    ")\n",
    "\n",
    "ax1.set_xlim(min_ax1, max_ax1)\n",
    "ax1.set_ylim(min_ax1, max_ax1)\n",
    "ax2.set_xlim(min_ax2, max_ax2)\n",
    "ax2.set_ylim(min_ax2, max_ax2)\n",
    "ax3.set_xlim(min_ax3, max_ax3)\n",
    "ax3.set_ylim(min_ax3, max_ax3)\n",
    "\n",
    "ax1.set_title(f\"2019SC Tst1 ({model_name})\\n\"\n",
    "              f\"RMSE: {performance['2019SC TST1 (RMSE)']:.3f}, \"\n",
    "              f\"$R^2$: {performance['2019SC TST1 (R^2)']:.3f}\")\n",
    "ax2.set_title(f\"2019SC Tst2 ({model_name})\\n\"\n",
    "              f\"RMSE: {performance['2019SC TST2 (RMSE)']:.3f}, \"\n",
    "              f\"$R^2$: {performance['2019SC TST2 (R^2)']:.3f}\")\n",
    "ax3.set_title(f\"2008SC Tst  ({model_name})\\n\"\n",
    "              f\"RMSE: {performance['2008SC TST  (RMSE)']:.3f}, \"\n",
    "              f\"$R^2$: {performance['2008SC TST  (R^2)']:.3f}\")\n",
    "\n",
    "plt.axis(\"equal\")\n",
    "plt.tight_layout()"
   ],
   "metadata": {
    "collapsed": false,
    "ExecuteTime": {
     "end_time": "2024-01-27T22:11:29.699440400Z",
     "start_time": "2024-01-27T22:11:29.655325800Z"
    }
   },
   "id": "ca2df91a46c3dbaf"
  },
  {
   "cell_type": "code",
   "execution_count": null,
   "outputs": [],
   "source": [],
   "metadata": {
    "collapsed": false,
    "ExecuteTime": {
     "start_time": "2023-10-29T17:13:44.752096700Z"
    }
   },
   "id": "724d35f6aa014c8d"
  },
  {
   "cell_type": "code",
   "execution_count": null,
   "outputs": [],
   "source": [],
   "metadata": {
    "collapsed": false,
    "ExecuteTime": {
     "start_time": "2023-10-29T17:13:44.752096700Z"
    }
   },
   "id": "2eec1fe05007b8ba"
  }
 ],
 "metadata": {
  "kernelspec": {
   "display_name": "Python 3",
   "language": "python",
   "name": "python3"
  },
  "language_info": {
   "codemirror_mode": {
    "name": "ipython",
    "version": 2
   },
   "file_extension": ".py",
   "mimetype": "text/x-python",
   "name": "python",
   "nbconvert_exporter": "python",
   "pygments_lexer": "ipython2",
   "version": "2.7.6"
  }
 },
 "nbformat": 4,
 "nbformat_minor": 5
}
