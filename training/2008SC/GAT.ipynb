{
 "cells": [
  {
   "cell_type": "markdown",
   "source": [
    "# GAT\n",
    "\n",
    "Velickovic et al. (2017) introduced a novel neural network architecture, known as the graph attention network (GAT), for processing graph-structured data. GATs overcome the limitations of previous graph convolution-based methods by utilizing masked self-attentional layers. Through layer stacking, nodes are empowered to attend to the features of their neighborhoods, allowing for the implicit assignment of varying weights to different nodes without the need for expensive matrix operations or prior knowledge of the graph structure. Given an input graph $\\mathcal{G} = (\\mathcal{V}, \\mathcal{E})$ and a set of node features $\\textbf{X} \\in \\mathbb{R}^{d \\times |\\mathcal{V}|}$, Velickovic et al. (2017) describe their graph attention mechanism as follows.\n",
    "\n",
    "$$\n",
    "\\alpha_{un} = \\frac{\n",
    "\\text{exp} \\left( \\text{LeakyReLu} \\left( \\vec{\\textbf{a}}^\\textbf{T} \\left[ \\textbf{W}_u || \\textbf{W}_n \\right] \\right) \\right)\n",
    "}{\n",
    "\\sum_{v\\in \\mathcal{N}(u)} \\text{exp} \\left( \\text{LeakyReLu} \\left( \\vec{\\textbf{a}}^\\textbf{T} \\left[ \\textbf{W}_u || \\textbf{W}_v \\right] \\right) \\right) }\n",
    "$$\n",
    "\n",
    "where\n",
    "\n",
    "- for each node $u \\in \\mathcal{V}$, $v \\in \\mathcal{N}(u)$ and $\\mathcal{N}(u)$ is the set of neighbourhood nodes of $u$\n",
    "- $\\alpha_{un}$ is the attention coefficient that indicates the importance of node $n$'s features to node $u$\n",
    "- LeakyReLu is the activation function\n",
    "- $.^T$ represents transposition\n",
    "- $||$ is the concatenation operator\n",
    "- $\\vec{\\textbf{a}}$ is a weight vector that parameterise the attention mechanism $a$, where $a$ can be a neural network\n",
    "\n",
    "The graph structure is injected into the mechanism by performing *masked attention*, which computes $a ( \\textbf{W}_u, \\textbf{W}_v )$ for nodes $v \\in \\mathcal{N}(u) $. The normalized attention coefficients are employed to compute a linear combination of the corresponding features, thereby producing the final output features for each node. To enhance the learning process of self-attention, a multi-head attention mechanism is utilized.\n",
    "\n",
    "$$\n",
    "u' = \\text{\\LARGE $||$}^M_{m=1} \\sigma \\left( \\sum_{v \\in \\mathcal{N}(u)} \\alpha_{uv}^{(m)} \\textbf{W}^{(m)}_v \\right)\n",
    "$$\n",
    "\n",
    "where\n",
    "\n",
    "- $\\sigma$ is the potential nonlinearity\n",
    "- $M$ is the number of independent attention mechanisms to execute\n",
    "- $\\alpha_{uv}^{(m)}$ are normalized attention coefficients computed by the $m^{\\text{th}}$ attention mechanism $a^{(m)}$ and $W^{(m)}$ is the corresponding input linear transformation's weight matrix."
   ],
   "metadata": {
    "collapsed": false
   }
  },
  {
   "cell_type": "code",
   "execution_count": 1,
   "metadata": {
    "collapsed": true
   },
   "outputs": [],
   "source": [
    "import math\n",
    "import sys\n",
    "\n",
    "sys.path.insert(0, '..')"
   ]
  },
  {
   "cell_type": "code",
   "execution_count": 2,
   "outputs": [],
   "source": [
    "from data.dataset import Dataset\n",
    "from model.dgl.GAT import GAT\n",
    "from sklearn.metrics import mean_squared_error, r2_score\n",
    "from data.featurization.dgl_Graph import DGL_Graph\n",
    "from model.dgl.DGLModel import DGLModel\n",
    "from model.abstractmodel import AbstractModel\n",
    "from ray import tune\n",
    "import pandas as pd\n",
    "import torch"
   ],
   "metadata": {
    "collapsed": false
   }
  },
  {
   "cell_type": "code",
   "execution_count": 3,
   "outputs": [],
   "source": [
    "TRN = Dataset.load_csv(\"ds/TRN_DC\")\n",
    "TST = Dataset.load_csv(\"ds/TST\")"
   ],
   "metadata": {
    "collapsed": false
   }
  },
  {
   "cell_type": "code",
   "execution_count": 4,
   "outputs": [],
   "source": [
    "featurizer = DGL_Graph(\n",
    "    graph_type=\"BI_GRAPH\",\n",
    "    featurize_type=\"Canonical\",\n",
    "    self_loop=True\n",
    ")\n",
    "TRN.X = TRN.featurize(featurizer)\n",
    "TST.X = TST.featurize(featurizer)"
   ],
   "metadata": {
    "collapsed": false
   }
  },
  {
   "cell_type": "code",
   "execution_count": 5,
   "outputs": [],
   "source": [
    "RANDOM_STATE = 1234\n",
    "SPACE = {\n",
    "    \"hidden_feats\": tune.choice([[64], [64, 64], [64, 64, 64], [64, 128], [64, 128, 256]]),\n",
    "    \"num_heads\": tune.randint(2, 6),\n",
    "    \"feat_drops\": tune.uniform(0, 1),\n",
    "    \"attn_drops\": tune.uniform(0, 1),\n",
    "    \"alphas\": tune.uniform(0, 1),\n",
    "    \"residuals\": tune.choice([True, False]),\n",
    "    \"agg_modes\": tune.choice([\"flatten\", \"mean\"]),\n",
    "    \"biases\": tune.choice([True, False]),\n",
    "    \"lr\": tune.choice([0.1, 0.01, 0.001]),\n",
    "    \"weight_decay\": tune.uniform(0, 1),\n",
    "    \"epoch\": tune.choice([100, 150, 200, 250, 300]),\n",
    "}"
   ],
   "metadata": {
    "collapsed": false
   }
  },
  {
   "cell_type": "code",
   "execution_count": 6,
   "outputs": [],
   "source": [
    "def trainable_func(config: dict, dataset: Dataset):\n",
    "    AbstractModel.set_seed(RANDOM_STATE)\n",
    "    trn, val = dataset.split()\n",
    "    model = GAT(\n",
    "        task_type=\"regression\",\n",
    "        # GAT Configuration\n",
    "        n_tasks=1,\n",
    "        in_feats=featurizer.get_node_feat_size(),\n",
    "        hidden_feats=config[\"hidden_feats\"],\n",
    "        num_heads=config[\"num_heads\"],\n",
    "        feat_drops=config[\"feat_drops\"],\n",
    "        attn_drops=config[\"attn_drops\"],\n",
    "        alphas=config[\"alphas\"],\n",
    "        residuals=config[\"residuals\"],\n",
    "        agg_modes=config[\"agg_modes\"],\n",
    "        biases=config[\"biases\"],\n",
    "        # classifier_hidden_feats=128,\n",
    "        # classifier_dropout=0,\n",
    "        predictor_hidden_feats=128,\n",
    "        predictor_dropout=0,\n",
    "        # Abstract DGL Configuration\n",
    "        lr=config[\"lr\"],\n",
    "        y_name=\"LogS exp (mol/L)\",\n",
    "        weight_decay=config[\"weight_decay\"],\n",
    "        batch_size=4096,\n",
    "        verbose=False\n",
    "    )\n",
    "    scores = model.fit(trn, val=val, epochs=config[\"epoch\"], verbose=False)\n",
    "    tune.report(rmse=scores[\"rmse\"][-1])"
   ],
   "metadata": {
    "collapsed": false
   }
  },
  {
   "cell_type": "code",
   "execution_count": 7,
   "outputs": [
    {
     "data": {
      "text/plain": "<IPython.core.display.HTML object>",
      "text/html": ""
     },
     "metadata": {},
     "output_type": "display_data"
    },
    {
     "name": "stderr",
     "output_type": "stream",
     "text": [
      "2023-03-24 18:47:54,482\tINFO worker.py:1544 -- Started a local Ray instance. View the dashboard at \u001B[1m\u001B[32m127.0.0.1:8265 \u001B[39m\u001B[22m\n",
      "2023-03-24 18:48:00,077\tWARNING tune.py:146 -- Stop signal received (e.g. via SIGINT/Ctrl+C), ending Ray Tune run. This will try to checkpoint the experiment state one last time. Press CTRL+C (or send SIGINT/SIGKILL/SIGTERM) to skip. \n",
      "\n",
      "KeyboardInterrupt\n",
      "\n"
     ]
    }
   ],
   "source": [
    "from ray.tune.search import BasicVariantGenerator\n",
    "\n",
    "tuner = DGLModel.tuner(\n",
    "    trainable_func,\n",
    "    SPACE,\n",
    "    num_samples=50,\n",
    "    search_alg=BasicVariantGenerator(max_concurrent=10),\n",
    "    dataset=TRN\n",
    ")\n",
    "tune_result = tuner.fit()"
   ],
   "metadata": {
    "collapsed": false
   }
  },
  {
   "cell_type": "code",
   "execution_count": null,
   "outputs": [],
   "source": [
    "best_result = tune_result.get_best_result(metric=\"rmse\", mode=\"min\")\n",
    "best_result.config"
   ],
   "metadata": {
    "collapsed": false
   }
  },
  {
   "cell_type": "code",
   "execution_count": null,
   "outputs": [],
   "source": [
    "MODEL = GAT(\n",
    "    task_type=\"regression\",\n",
    "    # GAT Configuration\n",
    "    n_tasks=1,\n",
    "    in_feats=featurizer.get_node_feat_size(),\n",
    "    hidden_feats=[64],\n",
    "    num_heads=5,\n",
    "    feat_drops=0.2023595030995624,\n",
    "    attn_drops=0.26105451494398646,\n",
    "    alphas=0.5288055588532301,\n",
    "    residuals=True,\n",
    "    agg_modes=\"flatten\",\n",
    "    biases=True,\n",
    "    classifier_hidden_feats=128,\n",
    "    classifier_dropout=0,\n",
    "    predictor_hidden_feats=128,\n",
    "    predictor_dropout=0,\n",
    "    # Abstract DGL Configuration\n",
    "    lr=0.001,\n",
    "    y_name=\"LogS exp (mol/L)\",\n",
    "    weight_decay=0,\n",
    "    batch_size=4096\n",
    ")\n",
    "trn, val = TRN.split()\n",
    "scores = MODEL.fit(trn, val=val, epochs=250)"
   ],
   "metadata": {
    "collapsed": false
   }
  },
  {
   "cell_type": "code",
   "execution_count": null,
   "outputs": [],
   "source": [
    "pd.DataFrame({\n",
    "    \"loss\": [v.item() for v in MODEL.scores[\"loss\"]],\n",
    "    \"rmse\": [v.item() for v in MODEL.scores[\"rmse\"]]\n",
    "}).plot()"
   ],
   "metadata": {
    "collapsed": false
   }
  },
  {
   "cell_type": "code",
   "execution_count": null,
   "outputs": [],
   "source": [
    "result = MODEL.cross_validate(\n",
    "    dataset=TRN,\n",
    "    epochs=best_result.config[\"epoch\"],\n",
    "    extra_eval_set=TST,\n",
    "    cv=5,\n",
    "    verbose=True\n",
    ")"
   ],
   "metadata": {
    "collapsed": false
   }
  },
  {
   "cell_type": "code",
   "execution_count": null,
   "outputs": [],
   "source": [
    "print(f\"TST : RMSE {mean_squared_error(TST.y, MODEL.predict(TST).cpu(), squared=False)}\")"
   ],
   "metadata": {
    "collapsed": false
   }
  },
  {
   "cell_type": "code",
   "execution_count": null,
   "outputs": [],
   "source": [
    "SPACE = {\n",
    "    \"num_heads\": tune.uniform(4, 8),\n",
    "    \"feat_drops\": tune.uniform(0, 0.4),\n",
    "    \"attn_drops\": tune.uniform(0, 0.4),\n",
    "    \"alphas\": tune.uniform(0, 1),\n",
    "    \"weight_decay\": tune.uniform(0, 1),\n",
    "    \"epoch\": tune.uniform(200, 400),\n",
    "}"
   ],
   "metadata": {
    "collapsed": false
   }
  },
  {
   "cell_type": "code",
   "execution_count": null,
   "outputs": [],
   "source": [
    "def trainable_func(config: dict, dataset: Dataset):\n",
    "    trn, val = dataset.split()\n",
    "    model = GAT(\n",
    "        task_type=\"regression\",\n",
    "        # GAT Configuration\n",
    "        n_tasks=1,\n",
    "        in_feats=featurizer.get_node_feat_size(),\n",
    "        hidden_feats=[64, 64],\n",
    "        num_heads=int(config[\"num_heads\"]),\n",
    "        feat_drops=config[\"feat_drops\"],\n",
    "        attn_drops=config[\"attn_drops\"],\n",
    "        alphas=config[\"alphas\"],\n",
    "        residuals=True,\n",
    "        agg_modes=\"flatten\",\n",
    "        biases=True,\n",
    "        classifier_hidden_feats=128,\n",
    "        classifier_dropout=0,\n",
    "        predictor_hidden_feats=128,\n",
    "        predictor_dropout=0,\n",
    "        # Abstract DGL Configuration\n",
    "        lr=0.001,\n",
    "        y_name=\"LogS exp (mol/L)\",\n",
    "        weight_decay=config[\"weight_decay\"],\n",
    "        batch_size=4096,\n",
    "        verbose=False\n",
    "    )\n",
    "    scores = model.fit(trn, val=val, epochs=int(config[\"epoch\"]), verbose=False)\n",
    "    tune.report(rmse=scores[\"rmse\"][-1])"
   ],
   "metadata": {
    "collapsed": false
   }
  },
  {
   "cell_type": "code",
   "execution_count": null,
   "outputs": [],
   "source": [
    "from ray.tune.search.bayesopt import BayesOptSearch\n",
    "from ray.tune.search import ConcurrencyLimiter\n",
    "\n",
    "tuner = DGLModel.tuner(\n",
    "    trainable_func,\n",
    "    space=SPACE,\n",
    "    num_samples=50,\n",
    "    search_alg=ConcurrencyLimiter(BayesOptSearch(metric=\"rmse\", mode=\"min\"), max_concurrent=1),\n",
    "    dataset=TRN\n",
    ")\n",
    "tune_result = tuner.fit()"
   ],
   "metadata": {
    "collapsed": false
   }
  },
  {
   "cell_type": "code",
   "execution_count": 8,
   "outputs": [],
   "source": [
    "TRN = Dataset.load_csv(\"ds/TRN_DC\")\n",
    "TST = Dataset.load_csv(\"ds/TST\")"
   ],
   "metadata": {
    "collapsed": false
   }
  },
  {
   "cell_type": "code",
   "execution_count": 9,
   "outputs": [],
   "source": [
    "featurizer = DGL_Graph(\n",
    "    graph_type=\"BI_GRAPH\",\n",
    "    featurize_type=\"Canonical\",\n",
    "    self_loop=True\n",
    ")\n",
    "TRN.X = TRN.featurize(featurizer)\n",
    "TST.X = TST.featurize(featurizer)"
   ],
   "metadata": {
    "collapsed": false
   }
  },
  {
   "cell_type": "code",
   "execution_count": 10,
   "outputs": [],
   "source": [
    "trn_sets, val_sets = TRN.k_fold_split(5)"
   ],
   "metadata": {
    "collapsed": false
   }
  },
  {
   "cell_type": "code",
   "execution_count": 11,
   "outputs": [
    {
     "name": "stdout",
     "output_type": "stream",
     "text": [
      "[INFO] Expect to use 'DGL_Graph' to featurize SMILES\n",
      "[INFO] Device cuda\n"
     ]
    },
    {
     "name": "stderr",
     "output_type": "stream",
     "text": [
      " 82%|████████▏ | 326/400 [00:39<00:08,  8.31it/s, loss: 0.005 rmse: 1.081]\n"
     ]
    },
    {
     "name": "stdout",
     "output_type": "stream",
     "text": [
      "[INFO] Expect to use 'DGL_Graph' to featurize SMILES\n",
      "[INFO] Device cuda\n"
     ]
    },
    {
     "name": "stderr",
     "output_type": "stream",
     "text": [
      " 86%|████████▋ | 345/400 [00:27<00:04, 12.63it/s, loss: 0.005 rmse: 0.710]\n"
     ]
    },
    {
     "name": "stdout",
     "output_type": "stream",
     "text": [
      "[INFO] Expect to use 'DGL_Graph' to featurize SMILES\n",
      "[INFO] Device cuda\n"
     ]
    },
    {
     "name": "stderr",
     "output_type": "stream",
     "text": [
      " 81%|████████  | 323/400 [00:27<00:06, 11.88it/s, loss: 0.015 rmse: 0.721]\n"
     ]
    },
    {
     "name": "stdout",
     "output_type": "stream",
     "text": [
      "[INFO] Expect to use 'DGL_Graph' to featurize SMILES\n",
      "[INFO] Device cuda\n"
     ]
    },
    {
     "name": "stderr",
     "output_type": "stream",
     "text": [
      " 84%|████████▍ | 335/400 [00:23<00:04, 14.18it/s, loss: 0.004 rmse: 1.127]\n"
     ]
    },
    {
     "name": "stdout",
     "output_type": "stream",
     "text": [
      "[INFO] Expect to use 'DGL_Graph' to featurize SMILES\n",
      "[INFO] Device cuda\n"
     ]
    },
    {
     "name": "stderr",
     "output_type": "stream",
     "text": [
      " 82%|████████▏ | 327/400 [00:22<00:05, 14.56it/s, loss: 0.003 rmse: 0.712]\n"
     ]
    }
   ],
   "source": [
    "num_heads = 5\n",
    "AbstractModel.set_seed(2387)\n",
    "\n",
    "k_pred_tst1 = []\n",
    "\n",
    "for trn, val in zip(trn_sets, val_sets):\n",
    "    model = GAT(\n",
    "        task_type=\"regression\",\n",
    "        # GAT Configuration\n",
    "        n_tasks=1,\n",
    "        in_feats=featurizer.get_node_feat_size(),\n",
    "        hidden_feats=[64, 64 * num_heads],\n",
    "        num_heads=num_heads,\n",
    "        feat_drops=0,\n",
    "        attn_drops=0,\n",
    "        alphas=0,\n",
    "        residuals=True,\n",
    "        agg_modes=\"flatten\",\n",
    "        biases=True,\n",
    "        classifier_hidden_feats=128,\n",
    "        classifier_dropout=0,\n",
    "        predictor_hidden_feats=128,\n",
    "        predictor_dropout=0,\n",
    "        # Abstract DGL Configuration\n",
    "        lr=0.001,\n",
    "        y_name=\"LogS exp (mol/L)\",\n",
    "        weight_decay=0,\n",
    "        batch_size=4096,\n",
    "    )\n",
    "    model.fit(trn, val=val, epochs=400, min_epoch=300, early_stop=20)\n",
    "\n",
    "    k_pred_tst1.append(model.predict(TST).cpu())"
   ],
   "metadata": {
    "collapsed": false
   }
  },
  {
   "cell_type": "code",
   "execution_count": 12,
   "outputs": [],
   "source": [
    "pred_tst1 = [torch.mean(pred_i).item() for pred_i in torch.cat(k_pred_tst1, 1)]"
   ],
   "metadata": {
    "collapsed": false
   }
  },
  {
   "cell_type": "code",
   "execution_count": 13,
   "outputs": [
    {
     "name": "stdout",
     "output_type": "stream",
     "text": [
      "TST : RMSE 0.8575179825352407\n",
      "TST : R^2 0.6008285817277461\n"
     ]
    }
   ],
   "source": [
    "print(f\"TST : RMSE {mean_squared_error(TST.y, pred_tst1, squared=False)}\")\n",
    "print(f\"TST : R^2 {r2_score(TST.y, pred_tst1)}\")"
   ],
   "metadata": {
    "collapsed": false
   }
  },
  {
   "cell_type": "code",
   "execution_count": 14,
   "outputs": [
    {
     "data": {
      "text/plain": "Text(0.5, 1.0, '2008 Solubility Challenge Test Set (GAT)\\nRMSE: 0.858, $R^2$: 0.601')"
     },
     "execution_count": 14,
     "metadata": {},
     "output_type": "execute_result"
    },
    {
     "data": {
      "text/plain": "<Figure size 1200x500 with 2 Axes>",
      "image/png": "[encoded data removed]"
     },
     "metadata": {},
     "output_type": "display_data"
    }
   ],
   "source": [
    "import matplotlib.pyplot as plt\n",
    "import seaborn as sns\n",
    "\n",
    "model_name = \"GAT\"\n",
    "min_ax1, max_ax1 = -8, -1.5\n",
    "\n",
    "fig, (ax1, _) = plt.subplots(nrows=1, ncols=2, figsize=(12, 5))\n",
    "\n",
    "sns.lineplot(x=[min_ax1, max_ax1], y=[min_ax1, max_ax1], ax=ax1, color=\"black\")\n",
    "\n",
    "sns.regplot(\n",
    "    data=pd.DataFrame({\n",
    "        \"True logS (mol/L)\": TST.y.values[:, 0],\n",
    "        \"Predicted logS (mol/L)\": pred_tst1\n",
    "    }),\n",
    "    x=\"True logS (mol/L)\",\n",
    "    y=\"Predicted logS (mol/L)\",\n",
    "    ax=ax1\n",
    ")\n",
    "\n",
    "ax1.set_xlim(min_ax1, max_ax1)\n",
    "ax1.set_ylim(min_ax1, max_ax1)\n",
    "\n",
    "ax1.set_title(f\"2008 Solubility Challenge Test Set ({model_name})\\n\"\n",
    "              f\"RMSE: {mean_squared_error(TST.y, pred_tst1, squared=False):.3f}, $R^2$: {r2_score(TST.y, pred_tst1):.3f}\")"
   ],
   "metadata": {
    "collapsed": false
   }
  },
  {
   "cell_type": "code",
   "execution_count": 15,
   "outputs": [],
   "source": [
    "TRN = Dataset.load_csv(\"ds/08SC/TRN\")\n",
    "TST = Dataset.load_csv(\"ds/TST\")"
   ],
   "metadata": {
    "collapsed": false
   }
  },
  {
   "cell_type": "code",
   "execution_count": 16,
   "outputs": [],
   "source": [
    "featurizer = DGL_Graph(\n",
    "    graph_type=\"BI_GRAPH\",\n",
    "    featurize_type=\"Canonical\",\n",
    "    self_loop=True\n",
    ")\n",
    "TRN.X = TRN.featurize(featurizer)\n",
    "TST.X = TST.featurize(featurizer)"
   ],
   "metadata": {
    "collapsed": false
   }
  },
  {
   "cell_type": "code",
   "execution_count": 17,
   "outputs": [],
   "source": [
    "trn_sets, val_sets = TRN.k_fold_split(5)"
   ],
   "metadata": {
    "collapsed": false
   }
  },
  {
   "cell_type": "code",
   "execution_count": 18,
   "outputs": [
    {
     "name": "stdout",
     "output_type": "stream",
     "text": [
      "[INFO] Expect to use 'DGL_Graph' to featurize SMILES\n",
      "[INFO] Device cuda\n"
     ]
    },
    {
     "name": "stderr",
     "output_type": "stream",
     "text": [
      " 82%|████████▏ | 329/400 [00:12<00:02, 27.29it/s, loss: 0.000 rmse: 1.983] \n"
     ]
    },
    {
     "name": "stdout",
     "output_type": "stream",
     "text": [
      "[INFO] Expect to use 'DGL_Graph' to featurize SMILES\n",
      "[INFO] Device cuda\n"
     ]
    },
    {
     "name": "stderr",
     "output_type": "stream",
     "text": [
      " 81%|████████  | 324/400 [00:11<00:02, 27.61it/s, loss: 0.000 rmse: 1.345]  \n"
     ]
    },
    {
     "name": "stdout",
     "output_type": "stream",
     "text": [
      "[INFO] Expect to use 'DGL_Graph' to featurize SMILES\n",
      "[INFO] Device cuda\n"
     ]
    },
    {
     "name": "stderr",
     "output_type": "stream",
     "text": [
      " 84%|████████▍ | 336/400 [00:13<00:02, 24.64it/s, loss: 0.000 rmse: 0.847]  \n"
     ]
    },
    {
     "name": "stdout",
     "output_type": "stream",
     "text": [
      "[INFO] Expect to use 'DGL_Graph' to featurize SMILES\n",
      "[INFO] Device cuda\n"
     ]
    },
    {
     "name": "stderr",
     "output_type": "stream",
     "text": [
      " 83%|████████▎ | 333/400 [00:15<00:03, 21.26it/s, loss: 0.000 rmse: 0.947]\n"
     ]
    },
    {
     "name": "stdout",
     "output_type": "stream",
     "text": [
      "[INFO] Expect to use 'DGL_Graph' to featurize SMILES\n",
      "[INFO] Device cuda\n"
     ]
    },
    {
     "name": "stderr",
     "output_type": "stream",
     "text": [
      " 81%|████████  | 323/400 [00:15<00:03, 21.33it/s, loss: 0.000 rmse: 1.415]\n"
     ]
    }
   ],
   "source": [
    "num_heads = 5\n",
    "AbstractModel.set_seed(2387)\n",
    "\n",
    "k_pred_tst1 = []\n",
    "\n",
    "for trn, val in zip(trn_sets, val_sets):\n",
    "    model = GAT(\n",
    "        task_type=\"regression\",\n",
    "        # GAT Configuration\n",
    "        n_tasks=1,\n",
    "        in_feats=featurizer.get_node_feat_size(),\n",
    "        hidden_feats=[64, 64 * num_heads],\n",
    "        num_heads=num_heads,\n",
    "        feat_drops=0,\n",
    "        attn_drops=0,\n",
    "        alphas=0,\n",
    "        residuals=True,\n",
    "        agg_modes=\"flatten\",\n",
    "        biases=True,\n",
    "        classifier_hidden_feats=128,\n",
    "        classifier_dropout=0,\n",
    "        predictor_hidden_feats=128,\n",
    "        predictor_dropout=0,\n",
    "        # Abstract DGL Configuration\n",
    "        lr=0.001,\n",
    "        y_name=\"LogS exp (mol/L)\",\n",
    "        weight_decay=0,\n",
    "        batch_size=4096,\n",
    "    )\n",
    "    model.fit(trn, val=val, epochs=400, min_epoch=300, early_stop=20)\n",
    "\n",
    "    k_pred_tst1.append(model.predict(TST).cpu())"
   ],
   "metadata": {
    "collapsed": false
   }
  },
  {
   "cell_type": "code",
   "execution_count": 19,
   "outputs": [],
   "source": [
    "pred_tst1 = [torch.mean(pred_i).item() for pred_i in torch.cat(k_pred_tst1, 1)]"
   ],
   "metadata": {
    "collapsed": false
   }
  },
  {
   "cell_type": "code",
   "execution_count": 20,
   "outputs": [
    {
     "name": "stdout",
     "output_type": "stream",
     "text": [
      "TST : RMSE 0.984872441064748\n",
      "TST : R^2 0.47345810155318613\n"
     ]
    }
   ],
   "source": [
    "print(f\"TST : RMSE {mean_squared_error(TST.y, pred_tst1, squared=False)}\")\n",
    "print(f\"TST : R^2 {r2_score(TST.y, pred_tst1)}\")"
   ],
   "metadata": {
    "collapsed": false
   }
  },
  {
   "cell_type": "code",
   "execution_count": null,
   "outputs": [],
   "source": [],
   "metadata": {
    "collapsed": false
   }
  }
 ],
 "metadata": {
  "kernelspec": {
   "display_name": "Python 3",
   "language": "python",
   "name": "python3"
  },
  "language_info": {
   "codemirror_mode": {
    "name": "ipython",
    "version": 2
   },
   "file_extension": ".py",
   "mimetype": "text/x-python",
   "name": "python",
   "nbconvert_exporter": "python",
   "pygments_lexer": "ipython2",
   "version": "2.7.6"
  }
 },
 "nbformat": 4,
 "nbformat_minor": 0
}
