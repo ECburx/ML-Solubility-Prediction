{
 "cells": [
  {
   "cell_type": "markdown",
   "source": [
    "# Graph Convolutional Networks\n",
    "\n",
    "The Graphical Convolutional Network (GCN) is a scalable approach presented by Kipf and Welling (2016) for semi-supervised learning on graph-structured data. It is based on a variant of convolutional neural networks that operate directly on graphs.\n",
    "\n",
    "Similar to the convolution operation, convolution in GCNs involves the model learning features by examining neighbouring nodes. If we consider that CNNs are designed to operate on Euclidean structured data, GNNs can be considered the generalized version of CNNs, as they can handle varying numbers of node connections and unordered nodes on irregular or non-Euclidean structured data.\n",
    "\n",
    "Given an undirected graph $\\mathcal{G}$, Kipf and Welling (2016) proposed a multi-layer GCN that employs the following layer-wise propagation rule\n",
    "\n",
    "$$\n",
    "\\textbf{H}^{(l)} = \\sigma \\left( \\tilde{\\textbf{D}}^{-\\frac{1}{2}} \\tilde{\\textbf{A}} \\tilde{\\textbf{D}}^{-\\frac{1}{2}} \\textbf{H}^{(l-1)} \\textbf{W}^{(l-1)} \\right)\n",
    "$$\n",
    "\n",
    "and the definition of the spectral convolution of a signal $x$ with a filter $g_{\\theta'}$ at each iteration $k \\in K$\n",
    "\n",
    "$$\n",
    "g_{\\theta'} \\star x \\approx \\sum^K_{k=0} \\theta'_k T_k (\\tilde{\\textbf{L}})x\n",
    "$$\n",
    "\n",
    "where\n",
    "\n",
    "- $\\textbf{H}^{(l)}$ is the matrix of node representations at layer $l$\n",
    "- $\\sigma$ is the activation function\n",
    "- $\\textbf{W}$ is the trainable parameter matrix\n",
    "- the Chebyshev polynomials are recursively defined as $T_k(x) = 2xT_{k-1}(x) - T_{k-2}(x)$\n",
    "- $\\theta' \\in \\mathbb{R}^K$ is a vector of Chebyshev coefficients\n",
    "- given the identity matrix $\\textbf{I}$ and the normalized graph Laplacian $\\textbf{L}$\n",
    "    - $\\tilde{\\textbf{A}} = \\textbf{A} + \\textbf{I}$ is the graph adjacency matrix with added self-connections\n",
    "    - $\\tilde{\\textbf{D}}_{ii} = \\sum_j \\tilde{\\textbf{A}} _{ij}$\n",
    "    - $\\tilde{\\textbf{L}} = \\frac{2}{\\lambda_{\\text{max}}}\\textbf{L} - \\textbf{I}$ (here $\\lambda_{\\text{max}}$ denotes the largest eigenvalue of $\\textbf{L}$)"
   ],
   "metadata": {
    "collapsed": false
   }
  },
  {
   "cell_type": "code",
   "execution_count": 1,
   "metadata": {
    "collapsed": true
   },
   "outputs": [],
   "source": [
    "import sys\n",
    "\n",
    "sys.path.insert(0, '..')"
   ]
  },
  {
   "cell_type": "code",
   "execution_count": 2,
   "outputs": [],
   "source": [
    "from data.dataset import Dataset\n",
    "import torch\n",
    "from sklearn.metrics import mean_squared_error, r2_score\n",
    "from model.dgl.DGLModel import DGLModel\n",
    "from data.featurization.dgl_Graph import DGL_Graph\n",
    "from model.abstractmodel import AbstractModel\n",
    "from ray import tune\n",
    "import pandas as pd"
   ],
   "metadata": {
    "collapsed": false
   }
  },
  {
   "cell_type": "code",
   "execution_count": 3,
   "outputs": [],
   "source": [
    "TRN = Dataset.load_csv(\"ds/TRN_DC\")\n",
    "TST = Dataset.load_csv(\"ds/TST\")"
   ],
   "metadata": {
    "collapsed": false
   }
  },
  {
   "cell_type": "code",
   "execution_count": 4,
   "outputs": [],
   "source": [
    "featurizer = DGL_Graph(\n",
    "    graph_type=\"BI_GRAPH\",\n",
    "    featurize_type=\"Canonical\",\n",
    "    self_loop=True\n",
    ")\n",
    "TRN.X = TRN.featurize(featurizer)\n",
    "TST.X = TST.featurize(featurizer)"
   ],
   "metadata": {
    "collapsed": false
   }
  },
  {
   "cell_type": "code",
   "execution_count": null,
   "outputs": [],
   "source": [
    "RANDOM_STATE = 1234\n",
    "SPACE = {\n",
    "    \"hidden_feats\": tune.choice([[64], [64, 64], [64, 128], [64, 128, 256]]),\n",
    "    \"gnn_norm\": tune.choice([\"right\", \"both\", \"none\"]),\n",
    "    \"residual\": tune.choice([True, False]),\n",
    "    \"batchnorm\": tune.choice([True, False]),\n",
    "    \"dropout\": tune.uniform(0, 1),\n",
    "    \"lr\": tune.choice([0.001, 0.01, 0.1]),\n",
    "    \"weight_decay\": tune.uniform(0, 0.5),\n",
    "    \"epoch\": tune.choice([100, 200, 300])\n",
    "}"
   ],
   "metadata": {
    "collapsed": false
   }
  },
  {
   "cell_type": "code",
   "execution_count": null,
   "outputs": [],
   "source": [
    "from model.dgl.GCN import GCN\n",
    "from torch.nn.functional import relu\n",
    "import numpy as np\n",
    "\n",
    "\n",
    "def trainable_func(config: dict, dataset: Dataset):\n",
    "    AbstractModel.set_seed(RANDOM_STATE)\n",
    "    trn, val = dataset.split()\n",
    "    model = GCN(\n",
    "        task_type=\"regression\",\n",
    "        # GCN Configuration\n",
    "        n_tasks=1,\n",
    "        in_feats=featurizer.get_node_feat_size(),\n",
    "        hidden_feats=config[\"hidden_feats\"],\n",
    "        gnn_norm=config[\"gnn_norm\"],\n",
    "        activation=relu,\n",
    "        residual=config[\"residual\"],\n",
    "        batchnorm=config[\"batchnorm\"],\n",
    "        dropout=config[\"dropout\"],\n",
    "        classifier_hidden_feats=128,\n",
    "        classifier_dropout=0,\n",
    "        predictor_hidden_feats=128,\n",
    "        predictor_dropout=0,\n",
    "        # General DGL Configuration\n",
    "        lr=config[\"lr\"],\n",
    "        y_name=\"LogS exp (mol/L)\",\n",
    "        weight_decay=config[\"weight_decay\"],\n",
    "        batch_size=4096,\n",
    "        verbose=False,\n",
    "        device=torch.device(\"cpu\")\n",
    "    )\n",
    "    scores = model.fit(trn, val=val, epochs=config[\"epoch\"], verbose=False)\n",
    "    tune.report(rmse=scores[\"rmse\"][-1])"
   ],
   "metadata": {
    "collapsed": false
   }
  },
  {
   "cell_type": "code",
   "execution_count": null,
   "outputs": [],
   "source": [
    "from ray.tune.search import BasicVariantGenerator\n",
    "\n",
    "tuner = DGLModel.tuner(\n",
    "    trainable_func,\n",
    "    SPACE,\n",
    "    num_samples=50,\n",
    "    search_alg=BasicVariantGenerator(max_concurrent=10),\n",
    "    dataset=TRN\n",
    ")\n",
    "tune_result = tuner.fit()"
   ],
   "metadata": {
    "collapsed": false
   }
  },
  {
   "cell_type": "code",
   "execution_count": null,
   "outputs": [],
   "source": [
    "best_result = tune_result.get_best_result(metric=\"rmse\", mode=\"min\")\n",
    "best_result.config"
   ],
   "metadata": {
    "collapsed": false
   }
  },
  {
   "cell_type": "code",
   "execution_count": null,
   "outputs": [],
   "source": [
    "MODEL = GCN(\n",
    "    task_type=\"regression\",\n",
    "    # GCN Configuration\n",
    "    n_tasks=1,\n",
    "    in_feats=featurizer.get_node_feat_size(),\n",
    "    hidden_feats=best_result.config[\"hidden_feats\"],\n",
    "    gnn_norm=best_result.config[\"gnn_norm\"],\n",
    "    activation=relu,\n",
    "    residual=best_result.config[\"residual\"],\n",
    "    batchnorm=best_result.config[\"batchnorm\"],\n",
    "    dropout=best_result.config[\"dropout\"],\n",
    "    classifier_hidden_feats=128,\n",
    "    classifier_dropout=0,\n",
    "    predictor_hidden_feats=128,\n",
    "    predictor_dropout=0,\n",
    "    # Abstract DGL Configuration\n",
    "    lr=best_result.config[\"lr\"],\n",
    "    y_name=\"LogS exp (mol/L)\",\n",
    "    weight_decay=best_result.config[\"weight_decay\"],\n",
    "    batch_size=4096\n",
    ")\n",
    "trn, val = TRN.split()\n",
    "scores = MODEL.fit(trn, val=val, epochs=best_result.config[\"epoch\"])"
   ],
   "metadata": {
    "collapsed": false
   }
  },
  {
   "cell_type": "code",
   "execution_count": null,
   "outputs": [],
   "source": [
    "pd.DataFrame({\n",
    "    \"loss\": [v.item() for v in MODEL.scores[\"loss\"]],\n",
    "    \"rmse\": [v.item() for v in MODEL.scores[\"rmse\"]]\n",
    "}).plot()"
   ],
   "metadata": {
    "collapsed": false
   }
  },
  {
   "cell_type": "code",
   "execution_count": null,
   "outputs": [],
   "source": [
    "result = MODEL.cross_validate(\n",
    "    dataset=TRN,\n",
    "    epochs=best_result.config[\"epoch\"],\n",
    "    extra_eval_set=TST,\n",
    "    cv=5,\n",
    "    verbose=True\n",
    ")"
   ],
   "metadata": {
    "collapsed": false
   }
  },
  {
   "cell_type": "code",
   "execution_count": null,
   "outputs": [],
   "source": [
    "print(f\"TST : RMSE {mean_squared_error(TST.y, MODEL.predict(TST).cpu(), squared=False)}\")"
   ],
   "metadata": {
    "collapsed": false
   }
  },
  {
   "cell_type": "code",
   "execution_count": null,
   "outputs": [],
   "source": [
    "def trainable_func(config: dict, dataset: Dataset):\n",
    "    AbstractModel.set_seed(RANDOM_STATE)\n",
    "    trn, val = dataset.split()\n",
    "    model = GCN(\n",
    "        task_type=\"regression\",\n",
    "        # GCN Configuration\n",
    "        n_tasks=1,\n",
    "        in_feats=featurizer.get_node_feat_size(),\n",
    "        hidden_feats=[64, 128, 256],\n",
    "        gnn_norm='both',\n",
    "        activation=relu,\n",
    "        residual=True,\n",
    "        batchnorm=False,\n",
    "        dropout=config[\"dropout\"],\n",
    "        classifier_hidden_feats=128,\n",
    "        classifier_dropout=0,\n",
    "        predictor_hidden_feats=128,\n",
    "        predictor_dropout=0,\n",
    "        # General DGL Configuration\n",
    "        lr=0.001,\n",
    "        y_name=\"LogS exp (mol/L)\",\n",
    "        weight_decay=config[\"weight_decay\"],\n",
    "        batch_size=4096,\n",
    "        verbose=False,\n",
    "        device=torch.device(\"cpu\")\n",
    "    )\n",
    "    scores = model.fit(trn, val=val, epochs=int(config[\"epoch\"]), verbose=False)\n",
    "    tune.report(rmse=scores[\"rmse\"][-1])"
   ],
   "metadata": {
    "collapsed": false
   }
  },
  {
   "cell_type": "code",
   "execution_count": null,
   "outputs": [],
   "source": [
    "SPACE = {\n",
    "    'dropout': tune.uniform(0, 0.35),\n",
    "    'weight_decay': tune.uniform(0, 0.01),\n",
    "    'epoch': tune.uniform(10, 500)\n",
    "}"
   ],
   "metadata": {
    "collapsed": false
   }
  },
  {
   "cell_type": "code",
   "execution_count": null,
   "outputs": [],
   "source": [
    "from ray.tune.search.bayesopt import BayesOptSearch\n",
    "\n",
    "tuner = DGLModel.tuner(\n",
    "    trainable_func,\n",
    "    space=SPACE,\n",
    "    num_samples=50,\n",
    "    search_alg=BayesOptSearch(metric=\"rmse\", mode=\"min\"),\n",
    "    dataset=TRN\n",
    ")\n",
    "tune_result = tuner.fit()"
   ],
   "metadata": {
    "collapsed": false
   }
  },
  {
   "cell_type": "code",
   "execution_count": 4,
   "outputs": [],
   "source": [
    "TRN = Dataset.load_csv(\"ds/TRN_DC\")\n",
    "TST = Dataset.load_csv(\"ds/TST\")"
   ],
   "metadata": {
    "collapsed": false
   }
  },
  {
   "cell_type": "code",
   "execution_count": 5,
   "outputs": [],
   "source": [
    "featurizer = DGL_Graph(\n",
    "    graph_type=\"BI_GRAPH\",\n",
    "    featurize_type=\"Canonical\",\n",
    "    self_loop=True\n",
    ")\n",
    "TRN.X = TRN.featurize(featurizer)\n",
    "TST.X = TST.featurize(featurizer)"
   ],
   "metadata": {
    "collapsed": false
   }
  },
  {
   "cell_type": "code",
   "execution_count": 6,
   "outputs": [],
   "source": [
    "trn_sets, val_sets = TRN.k_fold_split(5)"
   ],
   "metadata": {
    "collapsed": false
   }
  },
  {
   "cell_type": "code",
   "execution_count": 45,
   "outputs": [
    {
     "name": "stdout",
     "output_type": "stream",
     "text": [
      "[INFO] Expect to use 'DGL_Graph' to featurize SMILES\n",
      "[INFO] Device cuda\n"
     ]
    },
    {
     "name": "stderr",
     "output_type": "stream",
     "text": [
      " 41%|████      | 325/800 [00:21<00:31, 15.10it/s, loss: 0.101 rmse: 1.085]\n"
     ]
    },
    {
     "name": "stdout",
     "output_type": "stream",
     "text": [
      "[INFO] Expect to use 'DGL_Graph' to featurize SMILES\n",
      "[INFO] Device cuda\n"
     ]
    },
    {
     "name": "stderr",
     "output_type": "stream",
     "text": [
      " 41%|████      | 329/800 [00:21<00:30, 15.35it/s, loss: 0.110 rmse: 0.765]\n"
     ]
    },
    {
     "name": "stdout",
     "output_type": "stream",
     "text": [
      "[INFO] Expect to use 'DGL_Graph' to featurize SMILES\n",
      "[INFO] Device cuda\n"
     ]
    },
    {
     "name": "stderr",
     "output_type": "stream",
     "text": [
      " 41%|████      | 328/800 [00:21<00:31, 14.95it/s, loss: 0.106 rmse: 0.765]\n"
     ]
    },
    {
     "name": "stdout",
     "output_type": "stream",
     "text": [
      "[INFO] Expect to use 'DGL_Graph' to featurize SMILES\n",
      "[INFO] Device cuda\n"
     ]
    },
    {
     "name": "stderr",
     "output_type": "stream",
     "text": [
      " 40%|████      | 322/800 [00:19<00:29, 16.23it/s, loss: 0.111 rmse: 1.299]\n"
     ]
    },
    {
     "name": "stdout",
     "output_type": "stream",
     "text": [
      "[INFO] Expect to use 'DGL_Graph' to featurize SMILES\n",
      "[INFO] Device cuda\n"
     ]
    },
    {
     "name": "stderr",
     "output_type": "stream",
     "text": [
      " 43%|████▎     | 344/800 [00:20<00:26, 16.95it/s, loss: 0.131 rmse: 1.103]\n"
     ]
    }
   ],
   "source": [
    "from model.dgl.GCN import GCN\n",
    "from torch.nn.functional import relu\n",
    "\n",
    "AbstractModel.set_seed(2387)\n",
    "\n",
    "k_pred_tst1 = []\n",
    "\n",
    "for trn, val in zip(trn_sets, val_sets):\n",
    "    model = GCN(\n",
    "        task_type=\"regression\",\n",
    "        # GCN Configuration\n",
    "        n_tasks=1,\n",
    "        in_feats=featurizer.get_node_feat_size(),\n",
    "        hidden_feats=[64, 128, 256],\n",
    "        gnn_norm=\"both\",\n",
    "        activation=relu,\n",
    "        residual=True,\n",
    "        batchnorm=False,\n",
    "        dropout=0.13108904159657686,\n",
    "        classifier_hidden_feats=128,\n",
    "        classifier_dropout=0,\n",
    "        predictor_hidden_feats=128,\n",
    "        predictor_dropout=0,\n",
    "        # Abstract DGL Configuration\n",
    "        lr=0.001,\n",
    "        y_name=\"LogS exp (mol/L)\",\n",
    "        weight_decay=0.007319939418114051,\n",
    "        batch_size=4096\n",
    "    )\n",
    "    model.fit(trn, val=val, epochs=800, min_epoch=300, early_stop=20)\n",
    "    k_pred_tst1.append(model.predict(TST).cpu())"
   ],
   "metadata": {
    "collapsed": false
   }
  },
  {
   "cell_type": "code",
   "execution_count": 46,
   "outputs": [],
   "source": [
    "pred_tst1 = [torch.mean(pred_i).item() for pred_i in torch.cat(k_pred_tst1, 1)]"
   ],
   "metadata": {
    "collapsed": false
   }
  },
  {
   "cell_type": "code",
   "execution_count": 47,
   "outputs": [
    {
     "name": "stdout",
     "output_type": "stream",
     "text": [
      "TST : RMSE 0.670786488708243\n",
      "TST : R^2 0.7557460603618242\n"
     ]
    }
   ],
   "source": [
    "print(f\"TST : RMSE {mean_squared_error(TST.y, pred_tst1, squared=False)}\")\n",
    "print(f\"TST : R^2 {r2_score(TST.y, pred_tst1)}\")"
   ],
   "metadata": {
    "collapsed": false
   }
  },
  {
   "cell_type": "code",
   "execution_count": 48,
   "outputs": [
    {
     "data": {
      "text/plain": "Text(0.5, 1.0, '2008 Solubility Challenge Test Set (GCN)\\nRMSE: 0.671, $R^2$: 0.756')"
     },
     "execution_count": 48,
     "metadata": {},
     "output_type": "execute_result"
    },
    {
     "data": {
      "text/plain": "<Figure size 1200x500 with 2 Axes>",
      "image/png": "[encoded data removed]"
     },
     "metadata": {},
     "output_type": "display_data"
    }
   ],
   "source": [
    "import matplotlib.pyplot as plt\n",
    "import seaborn as sns\n",
    "\n",
    "model_name = \"GCN\"\n",
    "min_ax1, max_ax1 = -8, -1.5\n",
    "\n",
    "fig, (ax1, _) = plt.subplots(nrows=1, ncols=2, figsize=(12, 5))\n",
    "\n",
    "sns.lineplot(x=[min_ax1, max_ax1], y=[min_ax1, max_ax1], ax=ax1, color=\"black\")\n",
    "\n",
    "sns.regplot(\n",
    "    data=pd.DataFrame({\n",
    "        \"True logS (mol/L)\": TST.y.values[:, 0],\n",
    "        \"Predicted logS (mol/L)\": pred_tst1\n",
    "    }),\n",
    "    x=\"True logS (mol/L)\",\n",
    "    y=\"Predicted logS (mol/L)\",\n",
    "    ax=ax1\n",
    ")\n",
    "\n",
    "ax1.set_xlim(min_ax1, max_ax1)\n",
    "ax1.set_ylim(min_ax1, max_ax1)\n",
    "\n",
    "ax1.set_title(f\"2008 Solubility Challenge Test Set ({model_name})\\n\"\n",
    "              f\"RMSE: {mean_squared_error(TST.y, pred_tst1, squared=False):.3f}, $R^2$: {r2_score(TST.y, pred_tst1):.3f}\")"
   ],
   "metadata": {
    "collapsed": false
   }
  },
  {
   "cell_type": "code",
   "execution_count": 49,
   "outputs": [],
   "source": [
    "TRN = Dataset.load_csv(\"ds/08SC/TRN\")\n",
    "TST = Dataset.load_csv(\"ds/TST\")"
   ],
   "metadata": {
    "collapsed": false
   }
  },
  {
   "cell_type": "code",
   "execution_count": 50,
   "outputs": [],
   "source": [
    "featurizer = DGL_Graph(\n",
    "    graph_type=\"BI_GRAPH\",\n",
    "    featurize_type=\"Canonical\",\n",
    "    self_loop=True\n",
    ")\n",
    "TRN.X = TRN.featurize(featurizer)\n",
    "TST.X = TST.featurize(featurizer)"
   ],
   "metadata": {
    "collapsed": false
   }
  },
  {
   "cell_type": "code",
   "execution_count": 51,
   "outputs": [],
   "source": [
    "trn_sets, val_sets = TRN.k_fold_split(5)"
   ],
   "metadata": {
    "collapsed": false
   }
  },
  {
   "cell_type": "code",
   "execution_count": 55,
   "outputs": [
    {
     "name": "stdout",
     "output_type": "stream",
     "text": [
      "[INFO] Expect to use 'DGL_Graph' to featurize SMILES\n",
      "[INFO] Device cuda\n"
     ]
    },
    {
     "name": "stderr",
     "output_type": "stream",
     "text": [
      " 57%|█████▋    | 459/800 [00:16<00:12, 27.48it/s, loss: 0.019 rmse: 2.493]\n"
     ]
    },
    {
     "name": "stdout",
     "output_type": "stream",
     "text": [
      "[INFO] Expect to use 'DGL_Graph' to featurize SMILES\n",
      "[INFO] Device cuda\n"
     ]
    },
    {
     "name": "stderr",
     "output_type": "stream",
     "text": [
      " 54%|█████▍    | 435/800 [00:15<00:12, 28.35it/s, loss: 0.030 rmse: 1.458]\n"
     ]
    },
    {
     "name": "stdout",
     "output_type": "stream",
     "text": [
      "[INFO] Expect to use 'DGL_Graph' to featurize SMILES\n",
      "[INFO] Device cuda\n"
     ]
    },
    {
     "name": "stderr",
     "output_type": "stream",
     "text": [
      " 56%|█████▌    | 448/800 [00:16<00:12, 27.26it/s, loss: 0.019 rmse: 0.758]\n"
     ]
    },
    {
     "name": "stdout",
     "output_type": "stream",
     "text": [
      "[INFO] Expect to use 'DGL_Graph' to featurize SMILES\n",
      "[INFO] Device cuda\n"
     ]
    },
    {
     "name": "stderr",
     "output_type": "stream",
     "text": [
      " 56%|█████▋    | 451/800 [00:16<00:12, 27.56it/s, loss: 0.019 rmse: 1.155]\n"
     ]
    },
    {
     "name": "stdout",
     "output_type": "stream",
     "text": [
      "[INFO] Expect to use 'DGL_Graph' to featurize SMILES\n",
      "[INFO] Device cuda\n"
     ]
    },
    {
     "name": "stderr",
     "output_type": "stream",
     "text": [
      " 55%|█████▍    | 437/800 [00:16<00:13, 27.17it/s, loss: 0.024 rmse: 1.794]\n"
     ]
    }
   ],
   "source": [
    "from model.dgl.GCN import GCN\n",
    "from torch.nn.functional import relu\n",
    "\n",
    "AbstractModel.set_seed(2387)\n",
    "\n",
    "k_pred_tst1 = []\n",
    "\n",
    "for trn, val in zip(trn_sets, val_sets):\n",
    "    model = GCN(\n",
    "        task_type=\"regression\",\n",
    "        # GCN Configuration\n",
    "        n_tasks=1,\n",
    "        in_feats=featurizer.get_node_feat_size(),\n",
    "        hidden_feats=[64, 128, 256],\n",
    "        gnn_norm=\"both\",\n",
    "        activation=relu,\n",
    "        residual=True,\n",
    "        batchnorm=False,\n",
    "        dropout=0.13108904159657686,\n",
    "        classifier_hidden_feats=128,\n",
    "        classifier_dropout=0,\n",
    "        predictor_hidden_feats=128,\n",
    "        predictor_dropout=0,\n",
    "        # Abstract DGL Configuration\n",
    "        lr=0.001,\n",
    "        y_name=\"LogS exp (mol/L)\",\n",
    "        weight_decay=0.007319939418114051,\n",
    "        batch_size=4096\n",
    "    )\n",
    "    model.fit(trn, val=val, epochs=800, min_epoch=400, early_stop=20)\n",
    "    k_pred_tst1.append(model.predict(TST).cpu())"
   ],
   "metadata": {
    "collapsed": false
   }
  },
  {
   "cell_type": "code",
   "execution_count": 56,
   "outputs": [],
   "source": [
    "pred_tst1 = [torch.mean(pred_i).item() for pred_i in torch.cat(k_pred_tst1, 1)]"
   ],
   "metadata": {
    "collapsed": false
   }
  },
  {
   "cell_type": "code",
   "execution_count": 57,
   "outputs": [
    {
     "name": "stdout",
     "output_type": "stream",
     "text": [
      "TST : RMSE 1.1626021687845336\n",
      "TST : R^2 0.2662717808575559\n"
     ]
    }
   ],
   "source": [
    "print(f\"TST : RMSE {mean_squared_error(TST.y, pred_tst1, squared=False)}\")\n",
    "print(f\"TST : R^2 {r2_score(TST.y, pred_tst1)}\")"
   ],
   "metadata": {
    "collapsed": false
   }
  },
  {
   "cell_type": "code",
   "execution_count": null,
   "outputs": [],
   "source": [],
   "metadata": {
    "collapsed": false
   }
  }
 ],
 "metadata": {
  "kernelspec": {
   "display_name": "Python 3",
   "language": "python",
   "name": "python3"
  },
  "language_info": {
   "codemirror_mode": {
    "name": "ipython",
    "version": 2
   },
   "file_extension": ".py",
   "mimetype": "text/x-python",
   "name": "python",
   "nbconvert_exporter": "python",
   "pygments_lexer": "ipython2",
   "version": "2.7.6"
  }
 },
 "nbformat": 4,
 "nbformat_minor": 0
}
