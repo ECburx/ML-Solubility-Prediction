{
 "cells": [
  {
   "cell_type": "markdown",
   "source": [
    "# 1D-CNN\n",
    "\n",
    "Inspired by the second place solution of the Mechanisms of Action (MoA) Prediction Challange\\footnote{https://www.kaggle.com/c/lish-moa/discussion/202256}, we develop a model that based on 1D convolutional layers. The dimensions of the input features are initially expanded to $2^{12}$ using a fully connected layer, followed by reshaping into segmented sequences. This procedure enables the model to have sufficient capacity to execute subsequential operations and learn patterns. Subsequently, four convolutional components are concatenated. A pooling operation is performed between the first two convolutional layers to decrease the dimensions of the hidden layer by consolidating the outputs of neuron clusters in the previous layer into a single neuron in the subsequent layer. The output of the second convolutional component is connected to the last convolutional layer through production as a shortcut mechanism.\n",
    "\n",
    "In each convolutional component, the signal sequences are first batch normalized to enhance the training process's efficiency and stability by re-centring and re-scaling. The subsequential dropout layer helps avoid overfitting by scaling inputs not set to 0 up by $1/(1 - \\text{rate})$ such that the sum over all inputs remains constant. A Rectified Linear Unit (ReLU) layer is chosen as the activation function. Similar to the 2D convolution, the key operation of the component, the computation of a neuron in a 1D convolution operation, can also be described as\n",
    "\n",
    "$$\n",
    "\\hat{y}_{i,k} = B_k + \\sum_{u=0}^{f_d-1} { \\sum_{k'=0}^{f_{n'}-1} { x_{i',k'} \\cdot w_{u,k',k} } } \\ \\text{with} \\ i' = i \\times s_d + u\n",
    "$$\n",
    "\n",
    "where\n",
    "\n",
    "- $\\hat{y}_{i,k}$ is the output of the neuron in position $i$ and feature map $k$ in the convolutional layer $l$\n",
    "- $x_{i',k'}$ is the output of the neuron in position $i'$ and the convolutional layer $l-1$\n",
    "- $B_k$ is the bias term for feature map $k$ in the convolutional layer $l$\n",
    "- $s_d$ is the strides\n",
    "- $f_d$ is the length of the strides\n",
    "- $f_{n'}$ is the number of feature maps in the convolutional layer $l-1$\n",
    "- $\\cdot w_{u,k',k}$ is the connection weight between any neuron in feature map $k$ of the convolutional layer $l$ and its input located at position $u$ and feature map $k'$"
   ],
   "metadata": {
    "collapsed": false
   }
  },
  {
   "cell_type": "code",
   "execution_count": 1,
   "metadata": {
    "collapsed": true
   },
   "outputs": [],
   "source": [
    "import sys\n",
    "\n",
    "sys.path.insert(0, '..')"
   ]
  },
  {
   "cell_type": "code",
   "execution_count": 2,
   "outputs": [],
   "source": [
    "from data.dataset import Dataset\n",
    "from model.cnn1d.CNN1D import CNN1D\n",
    "from model.abstractmodel import AbstractModel\n",
    "from sklearn.metrics import mean_squared_error, r2_score\n",
    "import numpy as np"
   ],
   "metadata": {
    "collapsed": false
   }
  },
  {
   "cell_type": "code",
   "execution_count": 10,
   "outputs": [],
   "source": [
    "TRN = Dataset.load_csv(\"ds/08SC/TRN_All\")\n",
    "TST = Dataset.load_csv(\"ds/TST_All\")"
   ],
   "metadata": {
    "collapsed": false
   }
  },
  {
   "cell_type": "code",
   "execution_count": 11,
   "outputs": [],
   "source": [
    "trn_sets, val_sets = TRN.k_fold_split(5)"
   ],
   "metadata": {
    "collapsed": false
   }
  },
  {
   "cell_type": "code",
   "execution_count": 12,
   "outputs": [
    {
     "name": "stdout",
     "output_type": "stream",
     "text": [
      "[INFO] Expect to use '1D Tabular Data' to featurize SMILES\n"
     ]
    },
    {
     "name": "stderr",
     "output_type": "stream",
     "text": [
      " 75%|███████▍  | 224/300 [00:03<00:01, 69.68it/s, loss: 0.238 val_loss: 3.698 val_rmse: 4.288]\n"
     ]
    },
    {
     "name": "stdout",
     "output_type": "stream",
     "text": [
      "[INFO] Expect to use '1D Tabular Data' to featurize SMILES\n"
     ]
    },
    {
     "name": "stderr",
     "output_type": "stream",
     "text": [
      " 81%|████████  | 243/300 [00:03<00:00, 76.16it/s, loss: 0.251 val_loss: 1.232 val_rmse: 1.808]\n"
     ]
    },
    {
     "name": "stdout",
     "output_type": "stream",
     "text": [
      "[INFO] Expect to use '1D Tabular Data' to featurize SMILES\n"
     ]
    },
    {
     "name": "stderr",
     "output_type": "stream",
     "text": [
      " 67%|██████▋   | 200/300 [00:02<00:01, 75.97it/s, loss: 0.451 val_loss: 0.142 val_rmse: 0.532]\n"
     ]
    },
    {
     "name": "stdout",
     "output_type": "stream",
     "text": [
      "[INFO] Expect to use '1D Tabular Data' to featurize SMILES\n"
     ]
    },
    {
     "name": "stderr",
     "output_type": "stream",
     "text": [
      " 67%|██████▋   | 200/300 [00:02<00:01, 76.85it/s, loss: 0.566 val_loss: 0.041 val_rmse: 0.287]\n"
     ]
    },
    {
     "name": "stdout",
     "output_type": "stream",
     "text": [
      "[INFO] Expect to use '1D Tabular Data' to featurize SMILES\n"
     ]
    },
    {
     "name": "stderr",
     "output_type": "stream",
     "text": [
      " 67%|██████▋   | 200/300 [00:02<00:01, 75.96it/s, loss: 0.375 val_loss: 0.706 val_rmse: 1.283]\n"
     ]
    }
   ],
   "source": [
    "AbstractModel.set_seed(4567)\n",
    "\n",
    "k_pred_tst1 = []\n",
    "\n",
    "for trn, val in zip(trn_sets, val_sets):\n",
    "    model = CNN1D(\n",
    "        task_type=\"regression\",\n",
    "        n_tasks=1,\n",
    "        dense_feats=2 ** 12,\n",
    "        in_feats=TRN.X.shape[1],\n",
    "        lr=0.01,\n",
    "        weight_decay=0.32,\n",
    "        celu_alpha=0.6,\n",
    "        dropout=0.1,\n",
    "        conv2_1_dropout=0.01,\n",
    "        conv2_2_dropout=0.2,\n",
    "        decoder_dropout=0.2\n",
    "    )\n",
    "    model.fit(trn, val=val, max_epochs=300, min_epochs=180, early_stop=20, batch_size=len(TRN))\n",
    "    k_pred_tst1.append(model.predict(TST, use_best_state=True))"
   ],
   "metadata": {
    "collapsed": false
   }
  },
  {
   "cell_type": "code",
   "execution_count": 13,
   "outputs": [],
   "source": [
    "pred_tst1 = np.mean(np.concatenate(k_pred_tst1, axis=1), axis=1)"
   ],
   "metadata": {
    "collapsed": false
   }
  },
  {
   "cell_type": "code",
   "execution_count": 14,
   "outputs": [
    {
     "name": "stdout",
     "output_type": "stream",
     "text": [
      "TST1 : RMSE 1.653492280436183\n",
      "TST1 : R^2 -0.48414833143171254\n"
     ]
    }
   ],
   "source": [
    "print(f\"TST1 : RMSE {mean_squared_error(TST.y, pred_tst1, squared=False)}\")\n",
    "print(f\"TST1 : R^2 {r2_score(TST.y, pred_tst1)}\")"
   ],
   "metadata": {
    "collapsed": false
   }
  },
  {
   "cell_type": "code",
   "execution_count": 15,
   "outputs": [
    {
     "data": {
      "text/plain": "Text(0.5, 1.0, '2008 Solubility Challenge Test Set (1D-CNN)\\nRMSE: 1.653, $R^2$: -0.484')"
     },
     "execution_count": 15,
     "metadata": {},
     "output_type": "execute_result"
    },
    {
     "data": {
      "text/plain": "<Figure size 1200x500 with 2 Axes>",
      "image/png": "[encoded data removed]"
     },
     "metadata": {},
     "output_type": "display_data"
    }
   ],
   "source": [
    "import pandas as pd\n",
    "import matplotlib.pyplot as plt\n",
    "import seaborn as sns\n",
    "\n",
    "model_name = \"1D-CNN\"\n",
    "min_ax1, max_ax1 = -8, -1.5\n",
    "\n",
    "fig, (ax1, _) = plt.subplots(nrows=1, ncols=2, figsize=(12, 5))\n",
    "\n",
    "sns.lineplot(x=[min_ax1, max_ax1], y=[min_ax1, max_ax1], ax=ax1, color=\"black\")\n",
    "\n",
    "sns.regplot(\n",
    "    data=pd.DataFrame({\n",
    "        \"True logS (mol/L)\": TST.y.values[:, 0],\n",
    "        \"Predicted logS (mol/L)\": pred_tst1\n",
    "    }),\n",
    "    x=\"True logS (mol/L)\",\n",
    "    y=\"Predicted logS (mol/L)\",\n",
    "    ax=ax1\n",
    ")\n",
    "\n",
    "ax1.set_xlim(min_ax1, max_ax1)\n",
    "ax1.set_ylim(min_ax1, max_ax1)\n",
    "\n",
    "ax1.set_title(f\"2008 Solubility Challenge Test Set ({model_name})\\n\"\n",
    "              f\"RMSE: {mean_squared_error(TST.y, pred_tst1, squared=False):.3f}, $R^2$: {r2_score(TST.y, pred_tst1):.3f}\")"
   ],
   "metadata": {
    "collapsed": false
   }
  },
  {
   "cell_type": "code",
   "execution_count": 33,
   "outputs": [],
   "source": [
    "TRN = Dataset.load_csv(\"ds/SHAP_140_TRN\")\n",
    "TST = Dataset.load_csv(\"ds/SHAP_140_TST\")"
   ],
   "metadata": {
    "collapsed": false
   }
  },
  {
   "cell_type": "code",
   "execution_count": 34,
   "outputs": [
    {
     "name": "stdout",
     "output_type": "stream",
     "text": [
      "[INFO] Expect to use '1D Tabular Data' to featurize SMILES\n"
     ]
    },
    {
     "name": "stderr",
     "output_type": "stream",
     "text": [
      " 84%|████████▍ | 420/500 [00:11<00:02, 35.47it/s, loss: 0.376 val_loss: 0.518 val_rmse: 1.065]\n"
     ]
    }
   ],
   "source": [
    "model = CNN1D(\n",
    "    task_type=\"regression\",\n",
    "    n_tasks=1,\n",
    "    dense_feats=2 ** 12,\n",
    "    in_feats=TRN.X.shape[1],\n",
    "    lr=0.01,\n",
    "    weight_decay=0.32,\n",
    "    celu_alpha=0.6,\n",
    "    dropout=0.1,\n",
    "    conv2_1_dropout=0.01,\n",
    "    conv2_2_dropout=0.2,\n",
    "    decoder_dropout=0.2\n",
    ")\n",
    "scores = model.fit(TRN, val=TST, max_epochs=500, min_epochs=400, early_stop=20, batch_size=len(TRN))"
   ],
   "metadata": {
    "collapsed": false
   }
  },
  {
   "cell_type": "code",
   "execution_count": 36,
   "outputs": [
    {
     "name": "stdout",
     "output_type": "stream",
     "text": [
      "TST1 : RMSE 0.9490082225550983\n",
      "TST1 : R^2 0.511108017214917\n"
     ]
    }
   ],
   "source": [
    "pred_tst1 = model.predict(TST, use_best_state=True)\n",
    "print(f\"TST1 : RMSE {mean_squared_error(TST.y, pred_tst1, squared=False)}\")\n",
    "print(f\"TST1 : R^2 {r2_score(TST.y, pred_tst1)}\")"
   ],
   "metadata": {
    "collapsed": false
   }
  },
  {
   "cell_type": "code",
   "execution_count": null,
   "outputs": [],
   "source": [],
   "metadata": {
    "collapsed": false
   }
  }
 ],
 "metadata": {
  "kernelspec": {
   "display_name": "Python 3",
   "language": "python",
   "name": "python3"
  },
  "language_info": {
   "codemirror_mode": {
    "name": "ipython",
    "version": 2
   },
   "file_extension": ".py",
   "mimetype": "text/x-python",
   "name": "python",
   "nbconvert_exporter": "python",
   "pygments_lexer": "ipython2",
   "version": "2.7.6"
  }
 },
 "nbformat": 4,
 "nbformat_minor": 0
}
