{
 "cells": [
  {
   "cell_type": "code",
   "execution_count": 1,
   "id": "initial_id",
   "metadata": {
    "collapsed": true,
    "ExecuteTime": {
     "end_time": "2023-10-28T10:25:01.644059900Z",
     "start_time": "2023-10-28T10:25:01.641737200Z"
    }
   },
   "outputs": [],
   "source": [
    "RANDOM_STATE = 1234"
   ]
  },
  {
   "cell_type": "code",
   "execution_count": 2,
   "outputs": [],
   "source": [
    "import numpy as np\n",
    "import pandas as pd\n",
    "import torch\n",
    "from data.featurization.dgl_Graph import DGL_Graph\n",
    "from model.dgl.GIN import GIN\n",
    "from sklearn.metrics import mean_squared_error, r2_score\n",
    "from sklearn.model_selection import KFold\n",
    "from hyperopt import STATUS_OK, Trials, fmin, hp, tpe"
   ],
   "metadata": {
    "collapsed": false,
    "ExecuteTime": {
     "end_time": "2023-10-28T10:25:03.368748100Z",
     "start_time": "2023-10-28T10:25:01.644059900Z"
    }
   },
   "id": "448c7aa50717752d"
  },
  {
   "cell_type": "code",
   "execution_count": 3,
   "outputs": [],
   "source": [
    "torch.manual_seed(RANDOM_STATE)\n",
    "np.random.seed(RANDOM_STATE)\n",
    "if torch.cuda.is_available():\n",
    "    torch.cuda.manual_seed_all(RANDOM_STATE)"
   ],
   "metadata": {
    "collapsed": false,
    "ExecuteTime": {
     "end_time": "2023-10-28T10:25:03.372243500Z",
     "start_time": "2023-10-28T10:25:03.368748100Z"
    }
   },
   "id": "63fdeee1dfbadfb4"
  },
  {
   "cell_type": "code",
   "execution_count": 4,
   "outputs": [],
   "source": [
    "import warnings\n",
    "\n",
    "warnings.simplefilter(action='ignore', category=FutureWarning)"
   ],
   "metadata": {
    "collapsed": false,
    "ExecuteTime": {
     "end_time": "2023-10-28T10:25:03.384553400Z",
     "start_time": "2023-10-28T10:25:03.372243500Z"
    }
   },
   "id": "1b03828d93b668cb"
  },
  {
   "cell_type": "code",
   "execution_count": 5,
   "outputs": [],
   "source": [
    "trn = pd.read_csv(\"../data/SMILES/TRN_clean_small.csv\")\n",
    "tst_08SC = pd.read_csv(\"../data/SMILES/TST_2008SC_clean.csv\")\n",
    "tst1_19SC = pd.read_csv(\"../data/SMILES/TST1_2019SC.csv\")\n",
    "tst2_19SC = pd.read_csv(\"../data/SMILES/TST2_2019SC.csv\")\n",
    "\n",
    "trn_y, trn_X = trn[\"Solubility\"], trn[\"SMILES\"]\n",
    "tst_08SC_y, tst_08SC_X = tst_08SC[\"Solubility\"], tst_08SC[\"SMILES\"]\n",
    "tst1_19SC_y, tst1_19SC_X = tst1_19SC[\"Solubility\"], tst1_19SC[\"SMILES\"]\n",
    "tst2_19SC_y, tst2_19SC_X = tst2_19SC[\"Solubility\"], tst2_19SC[\"SMILES\"]"
   ],
   "metadata": {
    "collapsed": false,
    "ExecuteTime": {
     "end_time": "2023-10-28T10:25:03.396977700Z",
     "start_time": "2023-10-28T10:25:03.385183700Z"
    }
   },
   "id": "ae96b4c36faa75be"
  },
  {
   "cell_type": "code",
   "execution_count": 6,
   "outputs": [],
   "source": [
    "featurizer = DGL_Graph(\n",
    "    graph_type=\"BI_GRAPH\",\n",
    "    featurize_type=\"Pretrain\",\n",
    "    self_loop=True\n",
    ")\n",
    "trn_X = featurizer.convert(trn_X)\n",
    "tst_08SC_X = featurizer.convert(tst_08SC_X)\n",
    "tst1_19SC_X = featurizer.convert(tst1_19SC_X)\n",
    "tst2_19SC_X = featurizer.convert(tst2_19SC_X)"
   ],
   "metadata": {
    "collapsed": false,
    "ExecuteTime": {
     "end_time": "2023-10-28T10:25:05.026839600Z",
     "start_time": "2023-10-28T10:25:03.396977700Z"
    }
   },
   "id": "9cfb6bf0b12ea874"
  },
  {
   "cell_type": "code",
   "execution_count": 7,
   "outputs": [],
   "source": [
    "tune_space = {\n",
    "    \"pretrained\": hp.choice(\"pretrained\", [\"gin_supervised_contextpred\", \"gin_supervised_infomax\",\n",
    "                                           \"gin_supervised_edgepred\", \"gin_supervised_masking\"]),\n",
    "    \"num_layers\": hp.randint(\"num_layers\", 2, 6),\n",
    "    \"emb_dim\": hp.choice(\"emb_dim\", [200, 250, 300, 350, 400]),\n",
    "    \"JK\": hp.choice(\"JK\", [\"concat\", \"last\", \"max\", \"sum\"]),\n",
    "    \"dropout\": hp.uniform(\"dropout\", 0, 1),\n",
    "    \"readout\": hp.choice(\"readout\", [\"sum\", \"mean\", \"max\", \"attention\", \"set2set\"]),\n",
    "    \"lr\": hp.choice(\"lr\", [0.1, 0.01, 0.001]),\n",
    "    \"weight_decay\": hp.uniform(\"weight_decay\", 0, 1),\n",
    "\n",
    "    \"batch_size\": 4096,\n",
    "}"
   ],
   "metadata": {
    "collapsed": false,
    "ExecuteTime": {
     "end_time": "2023-10-28T10:25:05.027386200Z",
     "start_time": "2023-10-28T10:25:05.024270200Z"
    }
   },
   "id": "d3c604f3207e729e"
  },
  {
   "cell_type": "code",
   "execution_count": 8,
   "outputs": [],
   "source": [
    "def tune_obj(space):\n",
    "    model = GIN(\n",
    "        n_tasks=1,\n",
    "        pretrained=space[\"pretrained\"],\n",
    "        num_node_emb_list=[\n",
    "            len(featurizer.node_featurizer._atomic_number_types) + 1,\n",
    "            len(featurizer.node_featurizer._chiral_types) + 1\n",
    "        ],\n",
    "        num_edge_emb_list=[\n",
    "            len(featurizer.edge_featurizer._bond_types) + 1,\n",
    "            len(featurizer.edge_featurizer._bond_direction_types) + 1\n",
    "        ],\n",
    "        num_layers=space[\"num_layers\"],\n",
    "        emb_dim=space[\"emb_dim\"],\n",
    "        JK=space[\"JK\"],\n",
    "        dropout=space[\"dropout\"],\n",
    "        readout=space[\"readout\"],\n",
    "        lr=space[\"lr\"],\n",
    "        weight_decay=space[\"weight_decay\"],\n",
    "        batch_size=4096\n",
    "    )\n",
    "    model.fit(trn_X, trn_y, verbose=False, epochs=400)\n",
    "    pred_19t1 = model.predict(tst1_19SC_X).cpu()\n",
    "    pred_19t2 = model.predict(tst2_19SC_X).cpu()\n",
    "    pred_08t = model.predict(tst_08SC_X).cpu()\n",
    "    return {\n",
    "        \"loss\": np.mean([\n",
    "            mean_squared_error(tst1_19SC_y, pred_19t1, squared=False),\n",
    "            mean_squared_error(tst2_19SC_y, pred_19t2, squared=False),\n",
    "            mean_squared_error(tst_08SC_y, pred_08t, squared=False)]),\n",
    "        'status': STATUS_OK\n",
    "    }"
   ],
   "metadata": {
    "collapsed": false,
    "ExecuteTime": {
     "end_time": "2023-10-28T10:25:05.040216100Z",
     "start_time": "2023-10-28T10:25:05.027386200Z"
    }
   },
   "id": "bbf3d0cf726180ab"
  },
  {
   "cell_type": "code",
   "execution_count": null,
   "outputs": [],
   "source": [
    "trials = Trials()\n",
    "best_params = fmin(\n",
    "    fn=tune_obj,\n",
    "    space=tune_space,\n",
    "    algo=tpe.suggest,\n",
    "    max_evals=150,\n",
    "    trials=trials\n",
    ")"
   ],
   "metadata": {
    "collapsed": false
   },
   "id": "a70929fde88bed9c"
  },
  {
   "cell_type": "code",
   "execution_count": null,
   "outputs": [],
   "source": [
    "best_params"
   ],
   "metadata": {
    "collapsed": false,
    "ExecuteTime": {
     "end_time": "2023-10-28T10:25:05.374376600Z",
     "start_time": "2023-10-28T10:25:05.374376600Z"
    }
   },
   "id": "e6d19b13feee103"
  },
  {
   "cell_type": "code",
   "execution_count": null,
   "outputs": [],
   "source": [
    "best_params = {\n",
    "    \"pretrained\": \"gin_supervised_contextpred\",\n",
    "    \"num_layers\": 5,\n",
    "    \"emb_dim\": 300,\n",
    "    \"JK\": \"concat\",\n",
    "    \"dropout\": 0.0554778022998591,\n",
    "    \"readout\": \"sum\",\n",
    "    \"lr\": 0.01,\n",
    "    \"weight_decay\": 0.0042748880398552624,\n",
    "    \"batch_size\": 4096,\n",
    "}"
   ],
   "metadata": {
    "collapsed": false,
    "ExecuteTime": {
     "start_time": "2023-10-28T10:25:05.374376600Z"
    }
   },
   "id": "76dbc887e91af23b"
  },
  {
   "cell_type": "code",
   "execution_count": null,
   "outputs": [],
   "source": [
    "kf = KFold(n_splits=5, shuffle=True, random_state=RANDOM_STATE)\n",
    "\n",
    "pred_19t1, pred_19t2, pred_08t = [], [], []\n",
    "\n",
    "for trn_idx, val_idx in kf.split(trn_X):\n",
    "    tX, vX = trn_X[trn_idx], trn_X[val_idx]\n",
    "    ty, vy = trn_y[trn_idx], trn_y[val_idx]\n",
    "\n",
    "    model = GIN(\n",
    "        n_tasks=1,\n",
    "        pretrained=best_params[\"pretrained\"],\n",
    "        num_node_emb_list=[\n",
    "            len(featurizer.node_featurizer._atomic_number_types) + 1,\n",
    "            len(featurizer.node_featurizer._chiral_types) + 1\n",
    "        ],\n",
    "        num_edge_emb_list=[\n",
    "            len(featurizer.edge_featurizer._bond_types) + 1,\n",
    "            len(featurizer.edge_featurizer._bond_direction_types) + 1\n",
    "        ],\n",
    "        num_layers=best_params[\"num_layers\"],\n",
    "        emb_dim=best_params[\"emb_dim\"],\n",
    "        JK=best_params[\"JK\"],\n",
    "        dropout=best_params[\"dropout\"],\n",
    "        readout=best_params[\"readout\"],\n",
    "        lr=best_params[\"lr\"],\n",
    "        weight_decay=best_params[\"weight_decay\"],\n",
    "        batch_size=4096\n",
    "    )\n",
    "\n",
    "    scores = model.fit(tX, ty, val_X=vX, val_y=vy, epochs=800, min_epochs=500, early_stop_epochs=10)\n",
    "\n",
    "    pred_19t1.append(model.predict(tst1_19SC_X).cpu())\n",
    "    pred_19t2.append(model.predict(tst2_19SC_X).cpu())\n",
    "    pred_08t.append(model.predict(tst_08SC_X).cpu())"
   ],
   "metadata": {
    "collapsed": false,
    "ExecuteTime": {
     "start_time": "2023-10-28T10:25:05.374376600Z"
    }
   },
   "id": "92306466a2fbd7cd"
  },
  {
   "cell_type": "code",
   "execution_count": null,
   "outputs": [],
   "source": [
    "pred_19t1 = [torch.mean(pred_i).item() for pred_i in torch.cat(pred_19t1, 1)]\n",
    "pred_19t2 = [torch.mean(pred_i).item() for pred_i in torch.cat(pred_19t2, 1)]\n",
    "pred_08t = [torch.mean(pred_i).item() for pred_i in torch.cat(pred_08t, 1)]"
   ],
   "metadata": {
    "collapsed": false,
    "ExecuteTime": {
     "start_time": "2023-10-28T10:25:05.374376600Z"
    }
   },
   "id": "61d0492a578e9083"
  },
  {
   "cell_type": "code",
   "execution_count": null,
   "outputs": [],
   "source": [
    "performance = {\n",
    "    \"2019SC TST1 (RMSE)\": mean_squared_error(tst1_19SC_y, pred_19t1, squared=False),\n",
    "    \"2019SC TST2 (RMSE)\": mean_squared_error(tst2_19SC_y, pred_19t2, squared=False),\n",
    "    \"2008SC TST  (RMSE)\": mean_squared_error(tst_08SC_y, pred_08t, squared=False),\n",
    "    \"2019SC TST1 (R^2)\": r2_score(tst1_19SC_y, pred_19t1),\n",
    "    \"2019SC TST2 (R^2)\": r2_score(tst2_19SC_y, pred_19t2),\n",
    "    \"2008SC TST  (R^2)\": r2_score(tst_08SC_y, pred_08t),\n",
    "}\n",
    "performance"
   ],
   "metadata": {
    "collapsed": false,
    "ExecuteTime": {
     "start_time": "2023-10-28T10:25:05.374376600Z"
    }
   },
   "id": "ec6a9bbd69311991"
  },
  {
   "cell_type": "code",
   "execution_count": null,
   "outputs": [],
   "source": [
    "import matplotlib.pyplot as plt\n",
    "import seaborn as sns\n",
    "\n",
    "model_name = \"GIN\"\n",
    "min_ax1, max_ax1 = -7, -1\n",
    "min_ax2, max_ax2 = -10.5, -1\n",
    "min_ax3, max_ax3 = -8, -1\n",
    "\n",
    "fig, (ax1, ax2, ax3) = plt.subplots(nrows=1, ncols=3, figsize=(12, 4))\n",
    "\n",
    "sns.lineplot(x=[min_ax1, max_ax1], y=[min_ax1, max_ax1], ax=ax1, color=\"black\")\n",
    "sns.lineplot(x=[min_ax2, max_ax2], y=[min_ax2, max_ax2], ax=ax2, color=\"black\")\n",
    "sns.lineplot(x=[min_ax3, max_ax3], y=[min_ax3, max_ax3], ax=ax3, color=\"black\")\n",
    "\n",
    "sns.regplot(\n",
    "    data=pd.DataFrame({\n",
    "        \"True log$S$ (mol/L)\": tst1_19SC_y.values,\n",
    "        \"Predicted log$S$ (mol/L)\": pred_19t1\n",
    "    }),\n",
    "    x=\"True log$S$ (mol/L)\",\n",
    "    y=\"Predicted log$S$ (mol/L)\",\n",
    "    ax=ax1\n",
    ")\n",
    "sns.regplot(\n",
    "    data=pd.DataFrame({\n",
    "        \"True log$S$ (mol/L)\": tst2_19SC_y.values,\n",
    "        \"Predicted log$S$ (mol/L)\": pred_19t2\n",
    "    }),\n",
    "    x=\"True log$S$ (mol/L)\",\n",
    "    y=\"Predicted log$S$ (mol/L)\",\n",
    "    ax=ax2\n",
    ")\n",
    "sns.regplot(\n",
    "    data=pd.DataFrame({\n",
    "        \"True log$S$ (mol/L)\": tst_08SC_y.values,\n",
    "        \"Predicted log$S$ (mol/L)\": pred_08t\n",
    "    }),\n",
    "    x=\"True log$S$ (mol/L)\",\n",
    "    y=\"Predicted log$S$ (mol/L)\",\n",
    "    ax=ax3\n",
    ")\n",
    "\n",
    "ax1.set_xlim(min_ax1, max_ax1)\n",
    "ax1.set_ylim(min_ax1, max_ax1)\n",
    "ax2.set_xlim(min_ax2, max_ax2)\n",
    "ax2.set_ylim(min_ax2, max_ax2)\n",
    "ax3.set_xlim(min_ax3, max_ax3)\n",
    "ax3.set_ylim(min_ax3, max_ax3)\n",
    "\n",
    "ax1.set_title(f\"2019SC Tst1 ({model_name})\\n\"\n",
    "              f\"RMSE: {performance['2019SC TST1 (RMSE)']:.3f}, \"\n",
    "              f\"$R^2$: {performance['2019SC TST1 (R^2)']:.3f}\")\n",
    "ax2.set_title(f\"2019SC Tst2 ({model_name})\\n\"\n",
    "              f\"RMSE: {performance['2019SC TST2 (RMSE)']:.3f}, \"\n",
    "              f\"$R^2$: {performance['2019SC TST2 (R^2)']:.3f}\")\n",
    "ax3.set_title(f\"2008SC Tst  ({model_name})\\n\"\n",
    "              f\"RMSE: {performance['2008SC TST  (RMSE)']:.3f}, \"\n",
    "              f\"$R^2$: {performance['2008SC TST  (R^2)']:.3f}\")\n",
    "\n",
    "plt.axis(\"equal\")\n",
    "plt.tight_layout()"
   ],
   "metadata": {
    "collapsed": false,
    "ExecuteTime": {
     "start_time": "2023-10-28T10:25:05.374376600Z"
    }
   },
   "id": "f94191153abd4a9b"
  }
 ],
 "metadata": {
  "kernelspec": {
   "display_name": "Python 3",
   "language": "python",
   "name": "python3"
  },
  "language_info": {
   "codemirror_mode": {
    "name": "ipython",
    "version": 2
   },
   "file_extension": ".py",
   "mimetype": "text/x-python",
   "name": "python",
   "nbconvert_exporter": "python",
   "pygments_lexer": "ipython2",
   "version": "2.7.6"
  }
 },
 "nbformat": 4,
 "nbformat_minor": 5
}
