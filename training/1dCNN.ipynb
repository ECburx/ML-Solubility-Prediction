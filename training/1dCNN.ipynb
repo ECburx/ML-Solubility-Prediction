{
 "cells": [
  {
   "cell_type": "code",
   "execution_count": null,
   "id": "initial_id",
   "metadata": {
    "collapsed": true
   },
   "outputs": [],
   "source": [
    "import pandas as pd\n",
    "import torch\n",
    "import numpy as np\n",
    "from sklearn.metrics import mean_squared_error, r2_score\n",
    "from hyperopt import STATUS_OK, Trials, fmin, hp, tpe"
   ]
  },
  {
   "cell_type": "code",
   "execution_count": null,
   "outputs": [],
   "source": [
    "trn = pd.read_csv(\"../data/processed/trn.feat.csv\")\n",
    "tst_08SC = pd.read_csv(\"../data/processed/tst.08SC.feat.csv\")\n",
    "tst1_19SC = pd.read_csv(\"../data/processed/tst.19SC.1.feat.csv\")\n",
    "tst2_19SC = pd.read_csv(\"../data/processed/tst.19SC.2.feat.csv\")\n",
    "\n",
    "trn_y, trn_X = trn[\"Solubility\"], trn.drop([\"Solubility\", \"Name\", \"SMILES\"], axis=1)\n",
    "tst_08SC_y, tst_08SC_X = tst_08SC[\"Solubility\"], tst_08SC.drop([\"Solubility\", \"Name\", \"SMILES\"], axis=1)\n",
    "tst1_19SC_y, tst1_19SC_X = tst1_19SC[\"Solubility\"], tst1_19SC.drop([\"Solubility\", \"Name\", \"SMILES\"], axis=1)\n",
    "tst2_19SC_y, tst2_19SC_X = tst2_19SC[\"Solubility\"], tst2_19SC.drop([\"Solubility\", \"Name\", \"SMILES\"], axis=1)"
   ],
   "metadata": {
    "collapsed": false
   },
   "id": "bc8e044ba2bca4b4"
  }
 ],
 "metadata": {
  "kernelspec": {
   "display_name": "Python 3",
   "language": "python",
   "name": "python3"
  },
  "language_info": {
   "codemirror_mode": {
    "name": "ipython",
    "version": 2
   },
   "file_extension": ".py",
   "mimetype": "text/x-python",
   "name": "python",
   "nbconvert_exporter": "python",
   "pygments_lexer": "ipython2",
   "version": "2.7.6"
  }
 },
 "nbformat": 4,
 "nbformat_minor": 5
}
