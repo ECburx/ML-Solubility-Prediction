{
 "cells": [
  {
   "cell_type": "code",
   "execution_count": 1,
   "metadata": {
    "collapsed": true
   },
   "outputs": [],
   "source": [
    "import sys\n",
    "\n",
    "sys.path.insert(0, '..')"
   ]
  },
  {
   "cell_type": "code",
   "execution_count": 2,
   "outputs": [],
   "source": [
    "from data.dataset import Dataset\n",
    "from sklearn.metrics import mean_squared_error"
   ],
   "metadata": {
    "collapsed": false
   }
  },
  {
   "cell_type": "code",
   "execution_count": 3,
   "outputs": [],
   "source": [
    "TRN = Dataset.load_csv(\"ds/TRN_LARGE\")\n",
    "TST1 = Dataset.load_csv(\"ds/TST_1\")\n",
    "TST2 = Dataset.load_csv(\"ds/TST_2\")"
   ],
   "metadata": {
    "collapsed": false
   }
  },
  {
   "cell_type": "code",
   "execution_count": 4,
   "outputs": [],
   "source": [
    "from data.featurization.dgl_Graph import DGL_Graph\n",
    "\n",
    "featurizer = DGL_Graph(\n",
    "        graph_type=\"BI_GRAPH\",\n",
    "        featurize_type=\"Canonical\",\n",
    "        self_loop=True\n",
    ")\n",
    "TRN.X = TRN.featurize(featurizer)\n",
    "TST1.X = TST1.featurize(featurizer)\n",
    "TST2.X = TST2.featurize(featurizer)"
   ],
   "metadata": {
    "collapsed": false
   }
  },
  {
   "cell_type": "code",
   "execution_count": 5,
   "outputs": [
    {
     "name": "stdout",
     "output_type": "stream",
     "text": [
      "[INFO] Expect to use 'DGL_Graph' to featurize SMILES\n",
      "[INFO] Device cuda\n"
     ]
    },
    {
     "name": "stderr",
     "output_type": "stream",
     "text": [
      "[CV 0]: 100%|██████████| 80/80 [01:48<00:00,  1.36s/it, loss: 4.341, val_rmse: 3.558, extra_rmse: 3.038]\n",
      "[CV 1]: 100%|██████████| 80/80 [01:42<00:00,  1.28s/it, loss: 3.933, val_rmse: 6.939, extra_rmse: 2.700]\n",
      "[CV 2]: 100%|██████████| 80/80 [01:36<00:00,  1.20s/it, loss: 3.887, val_rmse: 8.076, extra_rmse: 2.708]\n",
      "[CV 3]: 100%|██████████| 80/80 [01:48<00:00,  1.35s/it, loss: 4.176, val_rmse: 5.393, extra_rmse: 2.949]\n",
      "[CV 4]: 100%|██████████| 80/80 [01:46<00:00,  1.33s/it, loss: 4.295, val_rmse: 3.867, extra_rmse: 2.732]\n"
     ]
    },
    {
     "name": "stdout",
     "output_type": "stream",
     "text": [
      "TST1 : RMSE 2.7323691218529773\n",
      "TST2 : RMSE 9.772260662464246\n",
      "TST1^: RMSE 2.585474830674696\n",
      "TST2^: RMSE 9.45174161053901\n"
     ]
    }
   ],
   "source": [
    "from model.dgl.Weave import Weave\n",
    "import torch\n",
    "\n",
    "MODEL = Weave(\n",
    "        task_type=\"regression\",\n",
    "        # Weave Configuration\n",
    "        n_tasks=1,\n",
    "        node_in_feats=featurizer.get_node_feat_size(),\n",
    "        edge_in_feats=featurizer.get_edge_feat_size(),\n",
    "        num_gnn_layers=3,\n",
    "        gnn_hidden_feats=50,\n",
    "        gnn_activation=torch.nn.functional.relu,\n",
    "        graph_feats=50,\n",
    "        gaussian_expand=True,\n",
    "        readout_activation=torch.nn.Tanh(),\n",
    "        # Abstract DGL Configuration\n",
    "        lr=0.01,\n",
    "        y_name=\"LogS exp (mol/L)\",\n",
    "        weight_decay=0,\n",
    "        batch_size=4096\n",
    ")\n",
    "MODEL.fit(\n",
    "        dataset=TRN,\n",
    "        epochs=80,\n",
    "        extra_eval_set=TST1,\n",
    "        cv=5\n",
    ")\n",
    "\n",
    "print(f\"TST1 : RMSE {mean_squared_error(TST1.y, MODEL.predict(TST1).cpu())}\")\n",
    "print(f\"TST2 : RMSE {mean_squared_error(TST2.y, MODEL.predict(TST2).cpu())}\")\n",
    "print(f\"TST1^: RMSE {mean_squared_error(TST1.y, MODEL.predict(TST1, True).cpu())}\")\n",
    "print(f\"TST2^: RMSE {mean_squared_error(TST2.y, MODEL.predict(TST2, True).cpu())}\")"
   ],
   "metadata": {
    "collapsed": false
   }
  },
  {
   "cell_type": "code",
   "execution_count": 5,
   "outputs": [],
   "source": [],
   "metadata": {
    "collapsed": false
   }
  }
 ],
 "metadata": {
  "kernelspec": {
   "display_name": "Python 3",
   "language": "python",
   "name": "python3"
  },
  "language_info": {
   "codemirror_mode": {
    "name": "ipython",
    "version": 2
   },
   "file_extension": ".py",
   "mimetype": "text/x-python",
   "name": "python",
   "nbconvert_exporter": "python",
   "pygments_lexer": "ipython2",
   "version": "2.7.6"
  }
 },
 "nbformat": 4,
 "nbformat_minor": 0
}
