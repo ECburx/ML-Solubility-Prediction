{
 "cells": [
  {
   "cell_type": "markdown",
   "source": [
    "# GAT\n",
    "\n",
    "Velickovic et al. (2017) introduced a novel neural network architecture, known as the graph attention network (GAT), for processing graph-structured data. GATs overcome the limitations of previous graph convolution-based methods by utilizing masked self-attentional layers. Through layer stacking, nodes are empowered to attend to the features of their neighborhoods, allowing for the implicit assignment of varying weights to different nodes without the need for expensive matrix operations or prior knowledge of the graph structure. Given an input graph $\\mathcal{G} = (\\mathcal{V}, \\mathcal{E})$ and a set of node features $\\textbf{X} \\in \\mathbb{R}^{d \\times |\\mathcal{V}|}$, Velickovic et al. (2017) describe their graph attention mechanism as follows.\n",
    "\n",
    "$$\n",
    "\\alpha_{un} = \\frac{\n",
    "\\text{exp} \\left( \\text{LeakyReLu} \\left( \\vec{\\textbf{a}}^\\textbf{T} \\left[ \\textbf{W}_u || \\textbf{W}_n \\right] \\right) \\right)\n",
    "}{\n",
    "\\sum_{v\\in \\mathcal{N}(u)} \\text{exp} \\left( \\text{LeakyReLu} \\left( \\vec{\\textbf{a}}^\\textbf{T} \\left[ \\textbf{W}_u || \\textbf{W}_v \\right] \\right) \\right) }\n",
    "$$\n",
    "\n",
    "where\n",
    "\n",
    "- for each node $u \\in \\mathcal{V}$, $v \\in \\mathcal{N}(u)$ and $\\mathcal{N}(u)$ is the set of neighbourhood nodes of $u$\n",
    "- $\\alpha_{un}$ is the attention coefficient that indicates the importance of node $n$'s features to node $u$\n",
    "- LeakyReLu is the activation function\n",
    "- $.^T$ represents transposition\n",
    "- $||$ is the concatenation operator\n",
    "- $\\vec{\\textbf{a}}$ is a weight vector that parameterise the attention mechanism $a$, where $a$ can be a neural network\n",
    "\n",
    "The graph structure is injected into the mechanism by performing *masked attention*, which computes $a ( \\textbf{W}_u, \\textbf{W}_v )$ for nodes $v \\in \\mathcal{N}(u) $. The normalized attention coefficients are employed to compute a linear combination of the corresponding features, thereby producing the final output features for each node. To enhance the learning process of self-attention, a multi-head attention mechanism is utilized.\n",
    "\n",
    "$$\n",
    "u' = \\text{\\LARGE $||$}^M_{m=1} \\sigma \\left( \\sum_{v \\in \\mathcal{N}(u)} \\alpha_{uv}^{(m)} \\textbf{W}^{(m)}_v \\right)\n",
    "$$\n",
    "\n",
    "where\n",
    "\n",
    "- $\\sigma$ is the potential nonlinearity\n",
    "- $M$ is the number of independent attention mechanisms to execute\n",
    "- $\\alpha_{uv}^{(m)}$ are normalized attention coefficients computed by the $m^{\\text{th}}$ attention mechanism $a^{(m)}$ and $W^{(m)}$ is the corresponding input linear transformation's weight matrix."
   ],
   "metadata": {
    "collapsed": false
   }
  },
  {
   "cell_type": "code",
   "execution_count": 1,
   "metadata": {
    "collapsed": true
   },
   "outputs": [],
   "source": [
    "import sys\n",
    "\n",
    "sys.path.insert(0, '..')"
   ]
  },
  {
   "cell_type": "code",
   "execution_count": 2,
   "outputs": [],
   "source": [
    "from data.dataset import Dataset\n",
    "from model.dgl.GAT import GAT\n",
    "from sklearn.metrics import mean_squared_error, r2_score\n",
    "from data.featurization.dgl_Graph import DGL_Graph\n",
    "from model.dgl.DGLModel import DGLModel\n",
    "from model.abstractmodel import AbstractModel\n",
    "from ray import tune\n",
    "import pandas as pd\n",
    "import torch\n",
    "import seaborn as sns\n",
    "import matplotlib.pyplot as plt\n",
    "import numpy as np"
   ],
   "metadata": {
    "collapsed": false
   }
  },
  {
   "cell_type": "code",
   "execution_count": 3,
   "outputs": [],
   "source": [
    "TRN = Dataset.load_csv(\"ds/TRN_DC\")\n",
    "TST1 = Dataset.load_csv(\"ds/TST_1\")\n",
    "TST2 = Dataset.load_csv(\"ds/TST_2\")"
   ],
   "metadata": {
    "collapsed": false
   }
  },
  {
   "cell_type": "code",
   "execution_count": 4,
   "outputs": [],
   "source": [
    "featurizer = DGL_Graph(\n",
    "    graph_type=\"BI_GRAPH\",\n",
    "    featurize_type=\"Canonical\",\n",
    "    self_loop=True\n",
    ")\n",
    "TRN.X = TRN.featurize(featurizer)\n",
    "TST1.X = TST1.featurize(featurizer)\n",
    "TST2.X = TST2.featurize(featurizer)"
   ],
   "metadata": {
    "collapsed": false
   }
  },
  {
   "cell_type": "code",
   "execution_count": 5,
   "outputs": [],
   "source": [
    "trn_sets, val_sets = TRN.k_fold_split(5)"
   ],
   "metadata": {
    "collapsed": false
   }
  },
  {
   "cell_type": "code",
   "execution_count": 5,
   "outputs": [],
   "source": [
    "RANDOM_STATE = 1234\n",
    "SPACE = {\n",
    "    \"hidden_feats\": tune.choice([[64], [64, 64], [64, 64, 64], [64, 128], [64, 128, 256]]),\n",
    "    \"num_heads\": tune.randint(2, 6),\n",
    "    \"feat_drops\": tune.uniform(0, 1),\n",
    "    \"attn_drops\": tune.uniform(0, 1),\n",
    "    \"alphas\": tune.uniform(0, 1),\n",
    "    \"residuals\": tune.choice([True, False]),\n",
    "    \"agg_modes\": tune.choice([\"flatten\", \"mean\"]),\n",
    "    \"biases\": tune.choice([True, False]),\n",
    "    \"lr\": tune.choice([0.1, 0.01, 0.001]),\n",
    "    \"weight_decay\": tune.uniform(0, 1),\n",
    "    \"epoch\": tune.choice([100, 150, 200, 250, 300]),\n",
    "}"
   ],
   "metadata": {
    "collapsed": false
   }
  },
  {
   "cell_type": "code",
   "execution_count": 6,
   "outputs": [],
   "source": [
    "def trainable_func(config: dict, dataset: Dataset):\n",
    "    AbstractModel.set_seed(RANDOM_STATE)\n",
    "    trn, val = dataset.split()\n",
    "    model = GAT(\n",
    "        task_type=\"regression\",\n",
    "        # GAT Configuration\n",
    "        n_tasks=1,\n",
    "        in_feats=featurizer.get_node_feat_size(),\n",
    "        hidden_feats=config[\"hidden_feats\"],\n",
    "        num_heads=config[\"num_heads\"],\n",
    "        feat_drops=config[\"feat_drops\"],\n",
    "        attn_drops=config[\"attn_drops\"],\n",
    "        alphas=config[\"alphas\"],\n",
    "        residuals=config[\"residuals\"],\n",
    "        agg_modes=config[\"agg_modes\"],\n",
    "        biases=config[\"biases\"],\n",
    "        classifier_hidden_feats=128,\n",
    "        classifier_dropout=0,\n",
    "        predictor_hidden_feats=128,\n",
    "        predictor_dropout=0,\n",
    "        # Abstract DGL Configuration\n",
    "        lr=config[\"lr\"],\n",
    "        y_name=\"LogS exp (mol/L)\",\n",
    "        weight_decay=config[\"weight_decay\"],\n",
    "        batch_size=4096,\n",
    "        verbose=False\n",
    "    )\n",
    "    scores = model.fit(trn, val=val, epochs=config[\"epoch\"], verbose=False)\n",
    "    tune.report(rmse=scores[\"rmse\"][-1])"
   ],
   "metadata": {
    "collapsed": false
   }
  },
  {
   "cell_type": "code",
   "execution_count": 7,
   "outputs": [
    {
     "data": {
      "text/plain": "<IPython.core.display.HTML object>",
      "text/html": ""
     },
     "metadata": {},
     "output_type": "display_data"
    },
    {
     "name": "stderr",
     "output_type": "stream",
     "text": [
      "2023-03-14 13:10:37,453\tINFO worker.py:1544 -- Started a local Ray instance. View the dashboard at \u001B[1m\u001B[32m127.0.0.1:8265 \u001B[39m\u001B[22m\n"
     ]
    },
    {
     "data": {
      "text/plain": "<IPython.core.display.HTML object>",
      "text/html": "<div class=\"trialProgress\">\n  <h3>Trial Progress</h3>\n  <table>\n<thead>\n<tr><th>Trial name                </th><th>date               </th><th>done  </th><th>episodes_total  </th><th>experiment_id                   </th><th>hostname      </th><th style=\"text-align: right;\">  iterations_since_restore</th><th>node_ip  </th><th style=\"text-align: right;\">  pid</th><th style=\"text-align: right;\">  rmse</th><th style=\"text-align: right;\">  time_since_restore</th><th style=\"text-align: right;\">  time_this_iter_s</th><th style=\"text-align: right;\">  time_total_s</th><th style=\"text-align: right;\">  timestamp</th><th style=\"text-align: right;\">  timesteps_since_restore</th><th>timesteps_total  </th><th style=\"text-align: right;\">  training_iteration</th><th>trial_id   </th><th style=\"text-align: right;\">  warmup_time</th></tr>\n</thead>\n<tbody>\n<tr><td>trainable_func_9a153_00000</td><td>2023-03-14_13-11-11</td><td>False </td><td>                </td><td>fa270f4fec6640e4982001bc0faf6e04</td><td>64-4090-13700K</td><td style=\"text-align: right;\">                         1</td><td>127.0.0.1</td><td style=\"text-align: right;\">37236</td><td style=\"text-align: right;\"> 2.273</td><td style=\"text-align: right;\">             28.0222</td><td style=\"text-align: right;\">           28.0222</td><td style=\"text-align: right;\">       28.0222</td><td style=\"text-align: right;\"> 1678799471</td><td style=\"text-align: right;\">                        0</td><td>                 </td><td style=\"text-align: right;\">                   1</td><td>9a153_00000</td><td style=\"text-align: right;\">   0.00299954</td></tr>\n</tbody>\n</table>\n</div>\n<style>\n.trialProgress {\n  display: flex;\n  flex-direction: column;\n  color: var(--jp-ui-font-color1);\n}\n.trialProgress h3 {\n  font-weight: bold;\n}\n.trialProgress td {\n  white-space: nowrap;\n}\n</style>\n"
     },
     "metadata": {},
     "output_type": "display_data"
    },
    {
     "name": "stderr",
     "output_type": "stream",
     "text": [
      "2023-03-14 14:05:51,270\tINFO tune.py:798 -- Total run time: 3310.45 seconds (3310.35 seconds for the tuning loop).\n"
     ]
    }
   ],
   "source": [
    "from ray.tune.search import BasicVariantGenerator\n",
    "\n",
    "tuner = DGLModel.tuner(\n",
    "    trainable_func,\n",
    "    SPACE,\n",
    "    num_samples=50,\n",
    "    search_alg=BasicVariantGenerator(max_concurrent=1),\n",
    "    dataset=TRN\n",
    ")\n",
    "tune_result = tuner.fit()"
   ],
   "metadata": {
    "collapsed": false
   }
  },
  {
   "cell_type": "code",
   "execution_count": 8,
   "outputs": [
    {
     "data": {
      "text/plain": "{'hidden_feats': [64],\n 'num_heads': 5,\n 'feat_drops': 0.2023595030995624,\n 'attn_drops': 0.26105451494398646,\n 'alphas': 0.5288055588532301,\n 'residuals': True,\n 'agg_modes': 'flatten',\n 'biases': True,\n 'lr': 0.001,\n 'weight_decay': 0.022066762838043652,\n 'epoch': 250}"
     },
     "execution_count": 8,
     "metadata": {},
     "output_type": "execute_result"
    }
   ],
   "source": [
    "best_result = tune_result.get_best_result(metric=\"rmse\", mode=\"min\")\n",
    "best_result.config"
   ],
   "metadata": {
    "collapsed": false
   }
  },
  {
   "cell_type": "code",
   "execution_count": 5,
   "outputs": [
    {
     "name": "stdout",
     "output_type": "stream",
     "text": [
      "[INFO] Expect to use 'DGL_Graph' to featurize SMILES\n",
      "[INFO] Device cuda\n"
     ]
    },
    {
     "name": "stderr",
     "output_type": "stream",
     "text": [
      "100%|██████████| 250/250 [01:18<00:00,  3.18it/s, loss: 0.878 rmse: 1.198]\n"
     ]
    }
   ],
   "source": [
    "MODEL = GAT(\n",
    "    task_type=\"regression\",\n",
    "    # GAT Configuration\n",
    "    n_tasks=1,\n",
    "    in_feats=featurizer.get_node_feat_size(),\n",
    "    hidden_feats=[64],\n",
    "    num_heads=5,\n",
    "    feat_drops=0.2023595030995624,\n",
    "    attn_drops=0.26105451494398646,\n",
    "    alphas=0.5288055588532301,\n",
    "    residuals=True,\n",
    "    agg_modes=\"flatten\",\n",
    "    biases=True,\n",
    "    classifier_hidden_feats=128,\n",
    "    classifier_dropout=0,\n",
    "    predictor_hidden_feats=128,\n",
    "    predictor_dropout=0,\n",
    "    # Abstract DGL Configuration\n",
    "    lr=0.001,\n",
    "    y_name=\"LogS exp (mol/L)\",\n",
    "    weight_decay=0,\n",
    "    batch_size=4096\n",
    ")\n",
    "trn, val = TRN.split()\n",
    "scores = MODEL.fit(trn, val=val, epochs=250)"
   ],
   "metadata": {
    "collapsed": false
   }
  },
  {
   "cell_type": "code",
   "execution_count": 6,
   "outputs": [
    {
     "data": {
      "text/plain": "<AxesSubplot: >"
     },
     "execution_count": 6,
     "metadata": {},
     "output_type": "execute_result"
    },
    {
     "data": {
      "text/plain": "<Figure size 640x480 with 1 Axes>",
      "image/png": "[encoded data removed]"
     },
     "metadata": {},
     "output_type": "display_data"
    }
   ],
   "source": [
    "pd.DataFrame({\n",
    "    \"loss\": [v.item() for v in MODEL.scores[\"loss\"]],\n",
    "    \"rmse\": [v.item() for v in MODEL.scores[\"rmse\"]]\n",
    "}).plot()"
   ],
   "metadata": {
    "collapsed": false
   }
  },
  {
   "cell_type": "code",
   "execution_count": 7,
   "outputs": [
    {
     "name": "stderr",
     "output_type": "stream",
     "text": [
      "[CV 0]: 100%|██████████| 250/250 [01:14<00:00,  3.37it/s, loss: 1.316, val_rmse: 1.287]\n",
      "[CV 1]: 100%|██████████| 250/250 [01:14<00:00,  3.33it/s, loss: 1.086, val_rmse: 1.973]\n",
      "[CV 2]: 100%|██████████| 250/250 [01:14<00:00,  3.37it/s, loss: 1.125, val_rmse: 1.632]\n",
      "[CV 3]: 100%|██████████| 250/250 [01:14<00:00,  3.34it/s, loss: 1.264, val_rmse: 1.063]\n",
      "[CV 4]: 100%|██████████| 250/250 [01:14<00:00,  3.36it/s, loss: 1.233, val_rmse: 1.127]\n"
     ]
    }
   ],
   "source": [
    "result = MODEL.cross_validate(\n",
    "    dataset=TRN,\n",
    "    epochs=250,\n",
    "    extra_eval_set=TST1,\n",
    "    cv=5,\n",
    "    verbose=True\n",
    ")"
   ],
   "metadata": {
    "collapsed": false
   }
  },
  {
   "cell_type": "code",
   "execution_count": 10,
   "outputs": [
    {
     "data": {
      "text/plain": "(1.0250312, 1.5049723)"
     },
     "execution_count": 10,
     "metadata": {},
     "output_type": "execute_result"
    }
   ],
   "source": [
    "np.std(result[\"rmse\"]), np.mean(result[\"rmse\"])"
   ],
   "metadata": {
    "collapsed": false
   }
  },
  {
   "cell_type": "code",
   "execution_count": 11,
   "outputs": [
    {
     "name": "stdout",
     "output_type": "stream",
     "text": [
      "TST1 : RMSE 1.0110822959921273\n",
      "TST2 : RMSE 2.056503992488948\n"
     ]
    }
   ],
   "source": [
    "print(f\"TST1 : RMSE {mean_squared_error(TST1.y, MODEL.predict(TST1).cpu(), squared=False)}\")\n",
    "print(f\"TST2 : RMSE {mean_squared_error(TST2.y, MODEL.predict(TST2).cpu(), squared=False)}\")"
   ],
   "metadata": {
    "collapsed": false
   }
  },
  {
   "cell_type": "code",
   "execution_count": 6,
   "outputs": [],
   "source": [
    "SPACE = {\n",
    "    \"num_heads\": tune.uniform(4, 8),\n",
    "    \"feat_drops\": tune.uniform(0, 0.4),\n",
    "    \"attn_drops\": tune.uniform(0, 0.4),\n",
    "    \"alphas\": tune.uniform(0, 1),\n",
    "    \"weight_decay\": tune.uniform(0, 1),\n",
    "    \"epoch\": tune.uniform(200, 400),\n",
    "}"
   ],
   "metadata": {
    "collapsed": false
   }
  },
  {
   "cell_type": "code",
   "execution_count": 7,
   "outputs": [],
   "source": [
    "def trainable_func(config: dict, dataset: Dataset):\n",
    "    trn, val = dataset.split()\n",
    "    model = GAT(\n",
    "        task_type=\"regression\",\n",
    "        # GAT Configuration\n",
    "        n_tasks=1,\n",
    "        in_feats=featurizer.get_node_feat_size(),\n",
    "        hidden_feats=[64, 64],\n",
    "        num_heads=int(config[\"num_heads\"]),\n",
    "        feat_drops=config[\"feat_drops\"],\n",
    "        attn_drops=config[\"attn_drops\"],\n",
    "        alphas=config[\"alphas\"],\n",
    "        residuals=True,\n",
    "        agg_modes=\"flatten\",\n",
    "        biases=True,\n",
    "        classifier_hidden_feats=128,\n",
    "        classifier_dropout=0,\n",
    "        predictor_hidden_feats=128,\n",
    "        predictor_dropout=0,\n",
    "        # Abstract DGL Configuration\n",
    "        lr=0.001,\n",
    "        y_name=\"LogS exp (mol/L)\",\n",
    "        weight_decay=config[\"weight_decay\"],\n",
    "        batch_size=4096,\n",
    "        verbose=False\n",
    "    )\n",
    "    scores = model.fit(trn, val=val, epochs=int(config[\"epoch\"]), verbose=False)\n",
    "    tune.report(rmse=scores[\"rmse\"][-1])"
   ],
   "metadata": {
    "collapsed": false
   }
  },
  {
   "cell_type": "code",
   "execution_count": 8,
   "outputs": [
    {
     "data": {
      "text/plain": "<IPython.core.display.HTML object>",
      "text/html": ""
     },
     "metadata": {},
     "output_type": "display_data"
    },
    {
     "name": "stderr",
     "output_type": "stream",
     "text": [
      "2023-03-14 17:27:31,852\tINFO worker.py:1544 -- Started a local Ray instance. View the dashboard at \u001B[1m\u001B[32m127.0.0.1:8265 \u001B[39m\u001B[22m\n"
     ]
    },
    {
     "data": {
      "text/plain": "<IPython.core.display.HTML object>",
      "text/html": "<div class=\"trialProgress\">\n  <h3>Trial Progress</h3>\n  <table>\n<thead>\n<tr><th>Trial name             </th><th>date               </th><th>done  </th><th>episodes_total  </th><th>experiment_id                   </th><th>hostname      </th><th style=\"text-align: right;\">  iterations_since_restore</th><th>node_ip  </th><th style=\"text-align: right;\">  pid</th><th style=\"text-align: right;\">   rmse</th><th style=\"text-align: right;\">  time_since_restore</th><th style=\"text-align: right;\">  time_this_iter_s</th><th style=\"text-align: right;\">  time_total_s</th><th style=\"text-align: right;\">  timestamp</th><th style=\"text-align: right;\">  timesteps_since_restore</th><th>timesteps_total  </th><th style=\"text-align: right;\">  training_iteration</th><th>trial_id  </th><th style=\"text-align: right;\">  warmup_time</th></tr>\n</thead>\n<tbody>\n<tr><td>trainable_func_8cf40aef</td><td>2023-03-14_17-30-05</td><td>False </td><td>                </td><td>69c068a309fe4d24a26e0c31f942e100</td><td>64-4090-13700K</td><td style=\"text-align: right;\">                         1</td><td>127.0.0.1</td><td style=\"text-align: right;\">24920</td><td style=\"text-align: right;\">1.52187</td><td style=\"text-align: right;\">             146.872</td><td style=\"text-align: right;\">           146.872</td><td style=\"text-align: right;\">       146.872</td><td style=\"text-align: right;\"> 1678815005</td><td style=\"text-align: right;\">                        0</td><td>                 </td><td style=\"text-align: right;\">                   1</td><td>8cf40aef  </td><td style=\"text-align: right;\">   0.00200129</td></tr>\n</tbody>\n</table>\n</div>\n<style>\n.trialProgress {\n  display: flex;\n  flex-direction: column;\n  color: var(--jp-ui-font-color1);\n}\n.trialProgress h3 {\n  font-weight: bold;\n}\n.trialProgress td {\n  white-space: nowrap;\n}\n</style>\n"
     },
     "metadata": {},
     "output_type": "display_data"
    },
    {
     "name": "stderr",
     "output_type": "stream",
     "text": [
      "2023-03-14 18:48:01,077\tINFO tune.py:798 -- Total run time: 4825.75 seconds (4825.65 seconds for the tuning loop).\n"
     ]
    }
   ],
   "source": [
    "from ray.tune.search.bayesopt import BayesOptSearch\n",
    "from ray.tune.search import ConcurrencyLimiter\n",
    "\n",
    "tuner = DGLModel.tuner(\n",
    "    trainable_func,\n",
    "    space=SPACE,\n",
    "    num_samples=50,\n",
    "    search_alg=ConcurrencyLimiter(BayesOptSearch(metric=\"rmse\", mode=\"min\"), max_concurrent=1),\n",
    "    dataset=TRN\n",
    ")\n",
    "tune_result = tuner.fit()"
   ],
   "metadata": {
    "collapsed": false
   }
  },
  {
   "cell_type": "code",
   "execution_count": 9,
   "outputs": [
    {
     "data": {
      "text/plain": "{'num_heads': 5.728851734733783,\n 'feat_drops': 0.0,\n 'attn_drops': 0.0,\n 'alphas': 0.0,\n 'weight_decay': 0.0,\n 'epoch': 349.82262756404924}"
     },
     "execution_count": 9,
     "metadata": {},
     "output_type": "execute_result"
    }
   ],
   "source": [
    "best_result = tune_result.get_best_result(metric=\"rmse\", mode=\"min\")\n",
    "best_result.config"
   ],
   "metadata": {
    "collapsed": false
   }
  },
  {
   "cell_type": "code",
   "execution_count": 11,
   "outputs": [
    {
     "name": "stdout",
     "output_type": "stream",
     "text": [
      "[INFO] Expect to use 'DGL_Graph' to featurize SMILES\n",
      "[INFO] Device cuda\n"
     ]
    },
    {
     "name": "stderr",
     "output_type": "stream",
     "text": [
      " 62%|██████▎   | 250/400 [01:34<00:56,  2.65it/s, loss: 0.534 rmse: 1.271]\n"
     ]
    },
    {
     "name": "stdout",
     "output_type": "stream",
     "text": [
      "[INFO] Expect to use 'DGL_Graph' to featurize SMILES\n",
      "[INFO] Device cuda\n"
     ]
    },
    {
     "name": "stderr",
     "output_type": "stream",
     "text": [
      " 56%|█████▌    | 223/400 [01:23<01:06,  2.68it/s, loss: 0.408 rmse: 1.856]\n"
     ]
    },
    {
     "name": "stdout",
     "output_type": "stream",
     "text": [
      "[INFO] Expect to use 'DGL_Graph' to featurize SMILES\n",
      "[INFO] Device cuda\n"
     ]
    },
    {
     "name": "stderr",
     "output_type": "stream",
     "text": [
      " 56%|█████▌    | 223/400 [01:25<01:07,  2.61it/s, loss: 0.425 rmse: 1.338]\n"
     ]
    },
    {
     "name": "stdout",
     "output_type": "stream",
     "text": [
      "[INFO] Expect to use 'DGL_Graph' to featurize SMILES\n",
      "[INFO] Device cuda\n"
     ]
    },
    {
     "name": "stderr",
     "output_type": "stream",
     "text": [
      " 54%|█████▍    | 216/400 [01:23<01:11,  2.58it/s, loss: 0.570 rmse: 0.954]\n"
     ]
    },
    {
     "name": "stdout",
     "output_type": "stream",
     "text": [
      "[INFO] Expect to use 'DGL_Graph' to featurize SMILES\n",
      "[INFO] Device cuda\n"
     ]
    },
    {
     "name": "stderr",
     "output_type": "stream",
     "text": [
      " 54%|█████▍    | 216/400 [01:23<01:10,  2.60it/s, loss: 0.535 rmse: 1.184]\n"
     ]
    }
   ],
   "source": [
    "num_heads = 5\n",
    "AbstractModel.set_seed(2387)\n",
    "\n",
    "k_pred_tst1 = []\n",
    "k_pred_tst2 = []\n",
    "\n",
    "for trn, val in zip(trn_sets, val_sets):\n",
    "    model = GAT(\n",
    "        task_type=\"regression\",\n",
    "        # GAT Configuration\n",
    "        n_tasks=1,\n",
    "        in_feats=featurizer.get_node_feat_size(),\n",
    "        hidden_feats=[64, 64 * num_heads],\n",
    "        num_heads=num_heads,\n",
    "        feat_drops=0,\n",
    "        attn_drops=0,\n",
    "        alphas=0,\n",
    "        residuals=True,\n",
    "        agg_modes=\"flatten\",\n",
    "        biases=True,\n",
    "        classifier_hidden_feats=128,\n",
    "        classifier_dropout=0,\n",
    "        predictor_hidden_feats=128,\n",
    "        predictor_dropout=0,\n",
    "        # Abstract DGL Configuration\n",
    "        lr=0.001,\n",
    "        y_name=\"LogS exp (mol/L)\",\n",
    "        weight_decay=0,\n",
    "        batch_size=4096,\n",
    "    )\n",
    "    model.fit(trn, val=val, epochs=400, min_epoch=195, early_stop=20)\n",
    "\n",
    "    k_pred_tst1.append(model.predict(TST1).cpu())\n",
    "    k_pred_tst2.append(model.predict(TST2).cpu())"
   ],
   "metadata": {
    "collapsed": false
   }
  },
  {
   "cell_type": "code",
   "execution_count": null,
   "outputs": [],
   "source": [
    "pred_tst1 = [torch.mean(pred_i).item() for pred_i in torch.cat(k_pred_tst1, 1)]\n",
    "pred_tst2 = [torch.mean(pred_i).item() for pred_i in torch.cat(k_pred_tst2, 1)]"
   ],
   "metadata": {
    "collapsed": false
   }
  },
  {
   "cell_type": "code",
   "execution_count": 13,
   "outputs": [
    {
     "name": "stdout",
     "output_type": "stream",
     "text": [
      "TST1 : RMSE 0.6541950652927421\n",
      "TST2 : RMSE 1.379693717714225\n"
     ]
    }
   ],
   "source": [
    "print(f\"TST1 : RMSE {mean_squared_error(TST1.y, pred_tst1, squared=False)}\")\n",
    "print(f\"TST2 : RMSE {mean_squared_error(TST2.y, pred_tst2, squared=False)}\")"
   ],
   "metadata": {
    "collapsed": false
   }
  },
  {
   "cell_type": "code",
   "execution_count": 16,
   "outputs": [
    {
     "name": "stdout",
     "output_type": "stream",
     "text": [
      "TST1 : R^2 0.7329273975878594\n",
      "TST2 : R^2 0.5850074198064612\n"
     ]
    }
   ],
   "source": [
    "print(f\"TST1 : R^2 {r2_score(TST1.y, pred_tst1)}\")\n",
    "print(f\"TST2 : R^2 {r2_score(TST2.y, pred_tst2)}\")"
   ],
   "metadata": {
    "collapsed": false
   }
  },
  {
   "cell_type": "code",
   "execution_count": 18,
   "outputs": [
    {
     "data": {
      "text/plain": "Text(0.5, 1.0, '2019 Solubility Challenge Test Set 2 (GAT)\\nRMSE: 1.380, $R^2$: 0.585')"
     },
     "execution_count": 18,
     "metadata": {},
     "output_type": "execute_result"
    },
    {
     "data": {
      "text/plain": "<Figure size 1200x500 with 2 Axes>",
      "image/png": "[encoded data removed]"
     },
     "metadata": {},
     "output_type": "display_data"
    }
   ],
   "source": [
    "model_name = \"GAT\"\n",
    "min_ax1, max_ax1 = -7, -1\n",
    "min_ax2, max_ax2 = -11, -1\n",
    "\n",
    "fig, (ax1, ax2) = plt.subplots(nrows=1, ncols=2, figsize=(12, 5))\n",
    "\n",
    "sns.lineplot(x=[min_ax1, max_ax1], y=[min_ax1, max_ax1], ax=ax1, color=\"black\")\n",
    "sns.lineplot(x=[min_ax2, max_ax2], y=[min_ax2, max_ax2], ax=ax2, color=\"black\")\n",
    "\n",
    "sns.regplot(\n",
    "    data=pd.DataFrame({\n",
    "        \"True logS (mol/L)\": TST1.y.values[:, 0],\n",
    "        \"Predicted logS (mol/L)\": pred_tst1\n",
    "    }),\n",
    "    x=\"True logS (mol/L)\",\n",
    "    y=\"Predicted logS (mol/L)\",\n",
    "    ax=ax1\n",
    ")\n",
    "sns.regplot(\n",
    "    data=pd.DataFrame({\n",
    "        \"True logS (mol/L)\": TST2.y.values[:, 0],\n",
    "        \"Predicted logS (mol/L)\": pred_tst2\n",
    "    }),\n",
    "    x=\"True logS (mol/L)\",\n",
    "    y=\"Predicted logS (mol/L)\",\n",
    "    ax=ax2\n",
    ")\n",
    "\n",
    "ax1.set_xlim(min_ax1, max_ax1)\n",
    "ax1.set_ylim(min_ax1, max_ax1)\n",
    "ax2.set_xlim(min_ax2, max_ax2)\n",
    "ax2.set_ylim(min_ax2, max_ax2)\n",
    "\n",
    "ax1.set_title(f\"2019 Solubility Challenge Test Set 1 ({model_name})\\n\"\n",
    "              f\"RMSE: {mean_squared_error(TST1.y, pred_tst1, squared=False):.3f}, $R^2$: {r2_score(TST1.y, pred_tst1):.3f}\")\n",
    "ax2.set_title(f\"2019 Solubility Challenge Test Set 2 ({model_name})\\n\"\n",
    "              f\"RMSE: {mean_squared_error(TST2.y, pred_tst2, squared=False):.3f}, $R^2$: {r2_score(TST2.y, pred_tst2):.3f}\")\n",
    "\n",
    "# plt.axis(\"equal\")"
   ],
   "metadata": {
    "collapsed": false
   }
  },
  {
   "cell_type": "markdown",
   "source": [
    "Try a smaller dataset"
   ],
   "metadata": {
    "collapsed": false
   }
  },
  {
   "cell_type": "code",
   "execution_count": 7,
   "outputs": [],
   "source": [
    "TRN = Dataset.load_csv(\"ds/exclude_CSD/TRN_DC\")\n",
    "TST1 = Dataset.load_csv(\"ds/all/TST_1\")\n",
    "TST2 = Dataset.load_csv(\"ds/all/TST_2\")"
   ],
   "metadata": {
    "collapsed": false
   }
  },
  {
   "cell_type": "code",
   "execution_count": 8,
   "outputs": [],
   "source": [
    "featurizer = DGL_Graph(\n",
    "    graph_type=\"BI_GRAPH\",\n",
    "    featurize_type=\"Canonical\",\n",
    "    self_loop=True\n",
    ")\n",
    "TRN.X = TRN.featurize(featurizer)\n",
    "TST1.X = TST1.featurize(featurizer)\n",
    "TST2.X = TST2.featurize(featurizer)"
   ],
   "metadata": {
    "collapsed": false
   }
  },
  {
   "cell_type": "code",
   "execution_count": 9,
   "outputs": [],
   "source": [
    "trn_sets, val_sets = TRN.k_fold_split(5)"
   ],
   "metadata": {
    "collapsed": false
   }
  },
  {
   "cell_type": "code",
   "execution_count": 13,
   "outputs": [
    {
     "name": "stdout",
     "output_type": "stream",
     "text": [
      "[INFO] Expect to use 'DGL_Graph' to featurize SMILES\n",
      "[INFO] Device cuda\n"
     ]
    },
    {
     "name": "stderr",
     "output_type": "stream",
     "text": [
      " 57%|█████▊    | 230/400 [00:14<00:11, 15.35it/s, loss: 0.011 rmse: 1.102]\n"
     ]
    },
    {
     "name": "stdout",
     "output_type": "stream",
     "text": [
      "[INFO] Expect to use 'DGL_Graph' to featurize SMILES\n",
      "[INFO] Device cuda\n"
     ]
    },
    {
     "name": "stderr",
     "output_type": "stream",
     "text": [
      " 63%|██████▎   | 252/400 [00:17<00:10, 14.60it/s, loss: 0.008 rmse: 0.576] \n"
     ]
    },
    {
     "name": "stdout",
     "output_type": "stream",
     "text": [
      "[INFO] Expect to use 'DGL_Graph' to featurize SMILES\n",
      "[INFO] Device cuda\n"
     ]
    },
    {
     "name": "stderr",
     "output_type": "stream",
     "text": [
      " 55%|█████▌    | 221/400 [00:14<00:12, 14.86it/s, loss: 0.011 rmse: 0.725]\n"
     ]
    },
    {
     "name": "stdout",
     "output_type": "stream",
     "text": [
      "[INFO] Expect to use 'DGL_Graph' to featurize SMILES\n",
      "[INFO] Device cuda\n"
     ]
    },
    {
     "name": "stderr",
     "output_type": "stream",
     "text": [
      " 56%|█████▌    | 224/400 [00:15<00:11, 14.88it/s, loss: 0.011 rmse: 0.928]\n"
     ]
    },
    {
     "name": "stdout",
     "output_type": "stream",
     "text": [
      "[INFO] Expect to use 'DGL_Graph' to featurize SMILES\n",
      "[INFO] Device cuda\n"
     ]
    },
    {
     "name": "stderr",
     "output_type": "stream",
     "text": [
      " 59%|█████▉    | 236/400 [00:15<00:11, 14.87it/s, loss: 0.019 rmse: 0.720] \n"
     ]
    }
   ],
   "source": [
    "num_heads = 5\n",
    "AbstractModel.set_seed(2387)\n",
    "\n",
    "k_pred_tst1 = []\n",
    "k_pred_tst2 = []\n",
    "\n",
    "for trn, val in zip(trn_sets, val_sets):\n",
    "    model = GAT(\n",
    "        task_type=\"regression\",\n",
    "        # GAT Configuration\n",
    "        n_tasks=1,\n",
    "        in_feats=featurizer.get_node_feat_size(),\n",
    "        hidden_feats=[64, 64 * num_heads],\n",
    "        num_heads=num_heads,\n",
    "        feat_drops=0,\n",
    "        attn_drops=0,\n",
    "        alphas=0,\n",
    "        residuals=True,\n",
    "        agg_modes=\"flatten\",\n",
    "        biases=True,\n",
    "        classifier_hidden_feats=128,\n",
    "        classifier_dropout=0,\n",
    "        predictor_hidden_feats=128,\n",
    "        predictor_dropout=0,\n",
    "        # Abstract DGL Configuration\n",
    "        lr=0.001,\n",
    "        y_name=\"LogS exp (mol/L)\",\n",
    "        weight_decay=0,\n",
    "        batch_size=4096,\n",
    "    )\n",
    "    model.fit(trn, val=val, epochs=400, min_epoch=200, early_stop=20)\n",
    "\n",
    "    k_pred_tst1.append(model.predict(TST1).cpu())\n",
    "    k_pred_tst2.append(model.predict(TST2).cpu())"
   ],
   "metadata": {
    "collapsed": false
   }
  },
  {
   "cell_type": "code",
   "execution_count": 14,
   "outputs": [],
   "source": [
    "pred_tst1 = [torch.mean(pred_i).item() for pred_i in torch.cat(k_pred_tst1, 1)]\n",
    "pred_tst2 = [torch.mean(pred_i).item() for pred_i in torch.cat(k_pred_tst2, 1)]"
   ],
   "metadata": {
    "collapsed": false
   }
  },
  {
   "cell_type": "code",
   "execution_count": 15,
   "outputs": [
    {
     "name": "stdout",
     "output_type": "stream",
     "text": [
      "TST1 : RMSE 0.843630206439343\n",
      "TST2 : RMSE 1.2310581211722678\n",
      "TST1 : R^2 0.5558608537573719\n",
      "TST2 : R^2 0.6696060597956218\n"
     ]
    }
   ],
   "source": [
    "print(f\"TST1 : RMSE {mean_squared_error(TST1.y, pred_tst1, squared=False)}\")\n",
    "print(f\"TST2 : RMSE {mean_squared_error(TST2.y, pred_tst2, squared=False)}\")\n",
    "print(f\"TST1 : R^2 {r2_score(TST1.y, pred_tst1)}\")\n",
    "print(f\"TST2 : R^2 {r2_score(TST2.y, pred_tst2)}\")"
   ],
   "metadata": {
    "collapsed": false
   }
  },
  {
   "cell_type": "code",
   "execution_count": null,
   "outputs": [],
   "source": [],
   "metadata": {
    "collapsed": false
   }
  }
 ],
 "metadata": {
  "kernelspec": {
   "display_name": "Python 3",
   "language": "python",
   "name": "python3"
  },
  "language_info": {
   "codemirror_mode": {
    "name": "ipython",
    "version": 2
   },
   "file_extension": ".py",
   "mimetype": "text/x-python",
   "name": "python",
   "nbconvert_exporter": "python",
   "pygments_lexer": "ipython2",
   "version": "2.7.6"
  }
 },
 "nbformat": 4,
 "nbformat_minor": 0
}
