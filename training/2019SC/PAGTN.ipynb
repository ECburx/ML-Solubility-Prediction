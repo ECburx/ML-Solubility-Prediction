{
 "cells": [
  {
   "cell_type": "code",
   "execution_count": 1,
   "metadata": {
    "collapsed": true
   },
   "outputs": [],
   "source": [
    "import sys\n",
    "\n",
    "sys.path.insert(0, '..')"
   ]
  },
  {
   "cell_type": "code",
   "execution_count": 2,
   "outputs": [],
   "source": [
    "from data.dataset import Dataset\n",
    "from sklearn.metrics import mean_squared_error"
   ],
   "metadata": {
    "collapsed": false
   }
  },
  {
   "cell_type": "code",
   "execution_count": 3,
   "outputs": [],
   "source": [
    "TRN = Dataset.load_csv(\"ds/TRN_LARGE\")\n",
    "TST1 = Dataset.load_csv(\"ds/TST_1\")\n",
    "TST2 = Dataset.load_csv(\"ds/TST_2\")"
   ],
   "metadata": {
    "collapsed": false
   }
  },
  {
   "cell_type": "code",
   "execution_count": 4,
   "outputs": [],
   "source": [
    "from data.featurization.dgl_Graph import DGL_Graph\n",
    "\n",
    "featurizer = DGL_Graph(\n",
    "        graph_type=\"BI_GRAPH\",\n",
    "        featurize_type=\"Canonical\",\n",
    "        self_loop=True\n",
    ")\n",
    "TRN.X = TRN.featurize(featurizer)\n",
    "TST1.X = TST1.featurize(featurizer)\n",
    "TST2.X = TST2.featurize(featurizer)"
   ],
   "metadata": {
    "collapsed": false
   }
  },
  {
   "cell_type": "code",
   "execution_count": 6,
   "outputs": [
    {
     "name": "stdout",
     "output_type": "stream",
     "text": [
      "[INFO] Expect to use 'DGL_Graph' to featurize SMILES\n",
      "[INFO] Device cuda\n"
     ]
    },
    {
     "name": "stderr",
     "output_type": "stream",
     "text": [
      "[CV 0]: 100%|██████████| 80/80 [02:08<00:00,  1.60s/it, loss: 1.709, val_rmse: 1.934, extra_rmse: 1.571]   \n",
      "[CV 1]: 100%|██████████| 80/80 [02:14<00:00,  1.68s/it, loss: 1.108, val_rmse: 3.533, extra_rmse: 1.988]\n",
      "[CV 2]: 100%|██████████| 80/80 [02:24<00:00,  1.81s/it, loss: 0.969, val_rmse: 2.342, extra_rmse: 1.750]\n",
      "[CV 3]: 100%|██████████| 80/80 [02:22<00:00,  1.78s/it, loss: 1.080, val_rmse: 0.803, extra_rmse: 1.609]\n",
      "[CV 4]: 100%|██████████| 80/80 [02:23<00:00,  1.80s/it, loss: 0.875, val_rmse: 0.963, extra_rmse: 1.186]\n"
     ]
    },
    {
     "name": "stdout",
     "output_type": "stream",
     "text": [
      "TST1 : RMSE 1.1859362750577056\n",
      "TST2 : RMSE 3.2553124059535175\n",
      "TST1^: RMSE 1.3620400190203243\n",
      "TST2^: RMSE 4.221227331709656\n"
     ]
    }
   ],
   "source": [
    "from model.dgl.PAGTN import PAGTN\n",
    "import torch\n",
    "\n",
    "MODEL = PAGTN(\n",
    "        task_type=\"regression\",\n",
    "        # PAGTN Configuration\n",
    "        n_tasks=1,\n",
    "        node_in_feats=featurizer.get_node_feat_size(),\n",
    "        node_out_feats=featurizer.get_node_feat_size(),\n",
    "        node_hid_feats=200,\n",
    "        edge_feats=featurizer.get_edge_feat_size(),\n",
    "        depth=5,\n",
    "        nheads=1,\n",
    "        dropout=0.1,\n",
    "        activation=torch.nn.functional.leaky_relu,\n",
    "        mode=\"mean\",\n",
    "        # Abstract DGL Configuration\n",
    "        lr=0.01,\n",
    "        y_name=\"LogS exp (mol/L)\",\n",
    "        weight_decay=0,\n",
    "        batch_size=4096\n",
    ")\n",
    "MODEL.fit(\n",
    "        dataset=TRN,\n",
    "        epochs=80,\n",
    "        extra_eval_set=TST1,\n",
    "        cv=5\n",
    ")\n",
    "\n",
    "print(f\"TST1 : RMSE {mean_squared_error(TST1.y, MODEL.predict(TST1).cpu())}\")\n",
    "print(f\"TST2 : RMSE {mean_squared_error(TST2.y, MODEL.predict(TST2).cpu())}\")\n",
    "print(f\"TST1^: RMSE {mean_squared_error(TST1.y, MODEL.predict(TST1, True).cpu())}\")\n",
    "print(f\"TST2^: RMSE {mean_squared_error(TST2.y, MODEL.predict(TST2, True).cpu())}\")"
   ],
   "metadata": {
    "collapsed": false
   }
  },
  {
   "cell_type": "code",
   "execution_count": null,
   "outputs": [],
   "source": [],
   "metadata": {
    "collapsed": false
   }
  }
 ],
 "metadata": {
  "kernelspec": {
   "display_name": "Python 3",
   "language": "python",
   "name": "python3"
  },
  "language_info": {
   "codemirror_mode": {
    "name": "ipython",
    "version": 2
   },
   "file_extension": ".py",
   "mimetype": "text/x-python",
   "name": "python",
   "nbconvert_exporter": "python",
   "pygments_lexer": "ipython2",
   "version": "2.7.6"
  }
 },
 "nbformat": 4,
 "nbformat_minor": 0
}
