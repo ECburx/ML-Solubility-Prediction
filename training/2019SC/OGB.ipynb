{
 "cells": [
  {
   "cell_type": "code",
   "execution_count": 1,
   "metadata": {
    "collapsed": true
   },
   "outputs": [],
   "source": [
    "import sys\n",
    "\n",
    "sys.path.insert(0, '..')"
   ]
  },
  {
   "cell_type": "code",
   "execution_count": 2,
   "outputs": [],
   "source": [
    "from data.dataset import Dataset\n",
    "from sklearn.metrics import mean_squared_error"
   ],
   "metadata": {
    "collapsed": false
   }
  },
  {
   "cell_type": "code",
   "execution_count": 13,
   "outputs": [],
   "source": [
    "TRN = Dataset.load_csv(\"ds/TRN_LARGE\")\n",
    "TST1 = Dataset.load_csv(\"ds/TST_1\")\n",
    "TST2 = Dataset.load_csv(\"ds/TST_2\")"
   ],
   "metadata": {
    "collapsed": false
   }
  },
  {
   "cell_type": "code",
   "execution_count": 15,
   "outputs": [],
   "source": [
    "from data.featurization.dgl_Graph import DGL_Graph\n",
    "\n",
    "featurizer = DGL_Graph(\n",
    "        graph_type=\"BI_GRAPH\",\n",
    "        featurize_type=\"Canonical\",\n",
    "        self_loop=True\n",
    ")\n",
    "TRN.X = TRN.featurize(featurizer)\n",
    "TST1.X = TST1.featurize(featurizer)\n",
    "TST2.X = TST2.featurize(featurizer)"
   ],
   "metadata": {
    "collapsed": false
   }
  },
  {
   "cell_type": "code",
   "execution_count": null,
   "outputs": [],
   "source": [
    "from model.dgl.OGB import OGB\n",
    "import torch\n",
    "\n",
    "MODEL = OGB(\n",
    "        task_type=\"regression\",\n",
    "        # OGB Configuration\n",
    "        n_tasks=1,\n",
    "        in_edge_feats=featurizer.get_edge_feat_size(),\n",
    "        num_node_types=1,\n",
    "        hidden_feats=300,\n",
    "        n_layers=5,\n",
    "        batchnorm=True,\n",
    "        activation=torch.nn.functional.relu,\n",
    "        dropout=0,\n",
    "        gnn_type=\"gcn\",\n",
    "        virtual_node=True,\n",
    "        residual=False,\n",
    "        jk=True,\n",
    "        readout=\"mean\",\n",
    "        # Abstract DGL Configuration\n",
    "        lr=0.01,\n",
    "        y_name=\"LogS exp (mol/L)\",\n",
    "        weight_decay=0,\n",
    "        batch_size=4096,\n",
    "        device=torch.device(\"cpu\")\n",
    ")\n",
    "MODEL.fit(\n",
    "        dataset=TRN,\n",
    "        epochs=80,\n",
    "        extra_eval_set=TST1,\n",
    "        cv=5\n",
    ")\n",
    "\n",
    "print(f\"TST1 : RMSE {mean_squared_error(TST1.y, MODEL.predict(TST1).cpu())}\")\n",
    "print(f\"TST2 : RMSE {mean_squared_error(TST2.y, MODEL.predict(TST2).cpu())}\")\n",
    "print(f\"TST1^: RMSE {mean_squared_error(TST1.y, MODEL.predict(TST1, True).cpu())}\")\n",
    "print(f\"TST2^: RMSE {mean_squared_error(TST2.y, MODEL.predict(TST2, True).cpu())}\")"
   ],
   "metadata": {
    "collapsed": false,
    "pycharm": {
     "is_executing": true
    }
   }
  },
  {
   "cell_type": "code",
   "execution_count": null,
   "outputs": [],
   "source": [],
   "metadata": {
    "collapsed": false
   }
  }
 ],
 "metadata": {
  "kernelspec": {
   "display_name": "Python 3",
   "language": "python",
   "name": "python3"
  },
  "language_info": {
   "codemirror_mode": {
    "name": "ipython",
    "version": 2
   },
   "file_extension": ".py",
   "mimetype": "text/x-python",
   "name": "python",
   "nbconvert_exporter": "python",
   "pygments_lexer": "ipython2",
   "version": "2.7.6"
  }
 },
 "nbformat": 4,
 "nbformat_minor": 0
}
