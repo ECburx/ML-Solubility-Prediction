{
 "cells": [
  {
   "cell_type": "code",
   "execution_count": 1,
   "id": "initial_id",
   "metadata": {
    "collapsed": true,
    "ExecuteTime": {
     "end_time": "2024-01-29T16:37:25.217270Z",
     "start_time": "2024-01-29T16:37:25.202757900Z"
    }
   },
   "outputs": [],
   "source": [
    "RANDOM_STATE = 1234"
   ]
  },
  {
   "cell_type": "code",
   "execution_count": 2,
   "outputs": [],
   "source": [
    "import numpy as np\n",
    "import pandas as pd\n",
    "import torch\n",
    "from data.featurization.dgl_Graph import DGL_Graph\n",
    "from model.dgl.AttentiveFP import AttentiveFP\n",
    "from sklearn.metrics import mean_squared_error, r2_score\n",
    "from sklearn.model_selection import KFold\n",
    "from hyperopt import STATUS_OK, Trials, fmin, hp, tpe"
   ],
   "metadata": {
    "collapsed": false,
    "ExecuteTime": {
     "end_time": "2024-01-29T16:37:32.175815500Z",
     "start_time": "2024-01-29T16:37:25.205761800Z"
    }
   },
   "id": "10fd241afac1a3d3"
  },
  {
   "cell_type": "code",
   "execution_count": 3,
   "outputs": [],
   "source": [
    "torch.manual_seed(RANDOM_STATE)\n",
    "np.random.seed(RANDOM_STATE)\n",
    "if torch.cuda.is_available():\n",
    "    torch.cuda.manual_seed_all(RANDOM_STATE)"
   ],
   "metadata": {
    "collapsed": false,
    "ExecuteTime": {
     "end_time": "2024-01-29T16:37:32.186028300Z",
     "start_time": "2024-01-29T16:37:32.174816800Z"
    }
   },
   "id": "41bde2a28c2b0393"
  },
  {
   "cell_type": "code",
   "execution_count": 4,
   "outputs": [],
   "source": [
    "import warnings\n",
    "\n",
    "warnings.simplefilter(action='ignore', category=FutureWarning)"
   ],
   "metadata": {
    "collapsed": false,
    "ExecuteTime": {
     "end_time": "2024-01-29T16:37:32.186028300Z",
     "start_time": "2024-01-29T16:37:32.183071900Z"
    }
   },
   "id": "27352fc36ec0bbae"
  },
  {
   "cell_type": "code",
   "execution_count": 14,
   "outputs": [],
   "source": [
    "trn = pd.read_csv(\"../data/processed/trn.csv\")\n",
    "tst_08SC = pd.read_csv(\"../data/processed/tst.08SC.csv\")\n",
    "tst1_19SC = pd.read_csv(\"../data/processed/tst.19SC.1.csv\")\n",
    "tst2_19SC = pd.read_csv(\"../data/processed/tst.19SC.2.csv\")\n",
    "\n",
    "trn_y, trn_X = trn[\"Solubility\"], trn[\"SMILES\"]\n",
    "tst_08SC_y, tst_08SC_X = tst_08SC[\"Solubility\"], tst_08SC[\"SMILES\"]\n",
    "tst1_19SC_y, tst1_19SC_X = tst1_19SC[\"Solubility\"], tst1_19SC[\"SMILES\"]\n",
    "tst2_19SC_y, tst2_19SC_X = tst2_19SC[\"Solubility\"], tst2_19SC[\"SMILES\"]"
   ],
   "metadata": {
    "collapsed": false,
    "ExecuteTime": {
     "end_time": "2024-01-29T17:18:51.045231700Z",
     "start_time": "2024-01-29T17:18:51.029094500Z"
    }
   },
   "id": "c378dad72c9b25ff"
  },
  {
   "cell_type": "code",
   "execution_count": 15,
   "outputs": [],
   "source": [
    "featurizer = DGL_Graph(\n",
    "    graph_type=\"BI_GRAPH\",\n",
    "    featurize_type=\"Canonical\",\n",
    "    self_loop=True\n",
    ")\n",
    "trn_X = featurizer.convert(trn_X)\n",
    "tst_08SC_X = featurizer.convert(tst_08SC_X)\n",
    "tst1_19SC_X = featurizer.convert(tst1_19SC_X)\n",
    "tst2_19SC_X = featurizer.convert(tst2_19SC_X)"
   ],
   "metadata": {
    "collapsed": false,
    "ExecuteTime": {
     "end_time": "2024-01-29T17:18:53.489875200Z",
     "start_time": "2024-01-29T17:18:51.578956900Z"
    }
   },
   "id": "fde862792efb356d"
  },
  {
   "cell_type": "code",
   "execution_count": 11,
   "outputs": [],
   "source": [
    "tune_space = {\n",
    "    \"dropout\": hp.uniform(\"attn_drops\", 0, 1),\n",
    "    \"graph_feat_size\": hp.choice(\"graph_feat_size\", [200, 400, 600]),\n",
    "    \"num_layers\": hp.randint(\"num_layers\", 2, 8),\n",
    "    \"num_timesteps\": hp.randint(\"num_timesteps\", 2, 8),\n",
    "    \"lr\": hp.choice(\"lr\", [0.1, 0.01, 0.001]),\n",
    "    \"weight_decay\": hp.uniform(\"weight_decay\", 0, 1),\n",
    "}"
   ],
   "metadata": {
    "collapsed": false,
    "ExecuteTime": {
     "end_time": "2024-01-28T23:22:05.395153300Z",
     "start_time": "2024-01-28T23:22:05.393554600Z"
    }
   },
   "id": "c2a1970858bb9a0"
  },
  {
   "cell_type": "code",
   "execution_count": 12,
   "outputs": [],
   "source": [
    "def tune_obj(space):\n",
    "    kf = KFold(n_splits=3, shuffle=True, random_state=RANDOM_STATE)\n",
    "    rmse = []\n",
    "\n",
    "    for trn_idx, val_idx in kf.split(trn_X):\n",
    "        tX, vX = trn_X[trn_idx], trn_X[val_idx]\n",
    "        ty, vy = trn_y[trn_idx], trn_y[val_idx]\n",
    "        \n",
    "        model = AttentiveFP(\n",
    "            n_tasks=1,\n",
    "            node_feat_size=featurizer.get_node_feat_size(),\n",
    "            edge_feat_size=featurizer.get_edge_feat_size(),\n",
    "            graph_feat_size=space[\"graph_feat_size\"],\n",
    "            num_layers=space[\"num_layers\"],\n",
    "            num_timesteps=space[\"num_timesteps\"],\n",
    "            dropout=space[\"dropout\"],\n",
    "            # General DGL Configuration\n",
    "            lr=space[\"lr\"],\n",
    "            weight_decay=space[\"weight_decay\"],\n",
    "            batch_size=4096,\n",
    "        )\n",
    "        scores = model.fit(tX, ty,\n",
    "                           val_X=vX, val_y=vy,\n",
    "                           epochs=400, min_epochs=200, early_stop_epochs=10, verbose=False)\n",
    "        rmse.append(scores[\"rmse\"][-1])\n",
    "\n",
    "    return {\"loss\": np.mean(rmse), 'status': STATUS_OK}"
   ],
   "metadata": {
    "collapsed": false,
    "ExecuteTime": {
     "end_time": "2024-01-28T23:22:08.722191200Z",
     "start_time": "2024-01-28T23:22:08.717608400Z"
    }
   },
   "id": "c5d71a1acb930a04"
  },
  {
   "cell_type": "code",
   "execution_count": 14,
   "outputs": [
    {
     "name": "stdout",
     "output_type": "stream",
     "text": [
      "[DEVICE] cuda                                          \n",
      "[DEVICE] cuda                                          \n",
      "[DEVICE] cuda                                          \n",
      "[DEVICE] cuda                                                                       \n",
      "[DEVICE] cuda                                                                       \n",
      "[DEVICE] cuda                                                                       \n",
      "[DEVICE] cuda                                                                       \n",
      "[DEVICE] cuda                                                                       \n",
      "[DEVICE] cuda                                                                       \n",
      "[DEVICE] cuda                                                                       \n",
      "[DEVICE] cuda                                                                       \n",
      "[DEVICE] cuda                                                                       \n",
      "[DEVICE] cuda                                                                       \n",
      "[DEVICE] cuda                                                                       \n",
      "[DEVICE] cuda                                                                       \n",
      "[DEVICE] cuda                                                                       \n",
      "[DEVICE] cuda                                                                       \n",
      "[DEVICE] cuda                                                                       \n",
      "[DEVICE] cuda                                                                       \n",
      "[DEVICE] cuda                                                                       \n",
      "[DEVICE] cuda                                                                       \n",
      "[DEVICE] cuda                                                                       \n",
      "[DEVICE] cuda                                                                       \n",
      "[DEVICE] cuda                                                                       \n",
      "[DEVICE] cuda                                                                       \n",
      "[DEVICE] cuda                                                                       \n",
      "[DEVICE] cuda                                                                       \n",
      "[DEVICE] cuda                                                                       \n",
      "[DEVICE] cuda                                                                       \n",
      "[DEVICE] cuda                                                                       \n",
      "[DEVICE] cuda                                                                       \n",
      "[DEVICE] cuda                                                                       \n",
      "[DEVICE] cuda                                                                       \n",
      "[DEVICE] cuda                                                                       \n",
      "[DEVICE] cuda                                                                       \n",
      "[DEVICE] cuda                                                                       \n",
      "[DEVICE] cuda                                                                       \n",
      "[DEVICE] cuda                                                                       \n",
      "[DEVICE] cuda                                                                       \n",
      "[DEVICE] cuda                                                                       \n",
      "[DEVICE] cuda                                                                       \n",
      "[DEVICE] cuda                                                                       \n",
      "[DEVICE] cuda                                                                       \n",
      "[DEVICE] cuda                                                                       \n",
      "[DEVICE] cuda                                                                       \n",
      "[DEVICE] cuda                                                                       \n",
      "[DEVICE] cuda                                                                       \n",
      "[DEVICE] cuda                                                                       \n",
      "[DEVICE] cuda                                                                       \n",
      "[DEVICE] cuda                                                                       \n",
      "[DEVICE] cuda                                                                       \n",
      "[DEVICE] cuda                                                                       \n",
      "[DEVICE] cuda                                                                       \n",
      "[DEVICE] cuda                                                                       \n",
      "[DEVICE] cuda                                                                       \n",
      "[DEVICE] cuda                                                                       \n",
      "[DEVICE] cuda                                                                       \n",
      "[DEVICE] cuda                                                                        \n",
      "[DEVICE] cuda                                                                        \n",
      "[DEVICE] cuda                                                                        \n",
      "[DEVICE] cuda                                                                        \n",
      "[DEVICE] cuda                                                                       \n",
      "[DEVICE] cuda                                                                       \n",
      "[DEVICE] cuda                                                                       \n",
      "[DEVICE] cuda                                                                       \n",
      "[DEVICE] cuda                                                                       \n",
      "[DEVICE] cuda                                                                       \n",
      "[DEVICE] cuda                                                                       \n",
      "[DEVICE] cuda                                                                       \n",
      "[DEVICE] cuda                                                                       \n",
      "[DEVICE] cuda                                                                       \n",
      "[DEVICE] cuda                                                                       \n",
      "[DEVICE] cuda                                                                       \n",
      "[DEVICE] cuda                                                                       \n",
      "[DEVICE] cuda                                                                       \n",
      "[DEVICE] cuda                                                                       \n",
      "[DEVICE] cuda                                                                       \n",
      "[DEVICE] cuda                                                                       \n",
      "[DEVICE] cuda                                                                       \n",
      "[DEVICE] cuda                                                                       \n",
      "[DEVICE] cuda                                                                       \n",
      "[DEVICE] cuda                                                                       \n",
      "[DEVICE] cuda                                                                       \n",
      "[DEVICE] cuda                                                                       \n",
      "[DEVICE] cuda                                                                        \n",
      "[DEVICE] cuda                                                                        \n",
      "[DEVICE] cuda                                                                        \n",
      "[DEVICE] cuda                                                                        \n",
      "[DEVICE] cuda                                                                        \n",
      "[DEVICE] cuda                                                                        \n",
      "[DEVICE] cuda                                                                        \n",
      "[DEVICE] cuda                                                                        \n",
      "[DEVICE] cuda                                                                        \n",
      "[DEVICE] cuda                                                                        \n",
      "[DEVICE] cuda                                                                        \n",
      "[DEVICE] cuda                                                                        \n",
      "[DEVICE] cuda                                                                        \n",
      "[DEVICE] cuda                                                                        \n",
      "[DEVICE] cuda                                                                        \n",
      "[DEVICE] cuda                                                                        \n",
      "[DEVICE] cuda                                                                        \n",
      "[DEVICE] cuda                                                                        \n",
      "[DEVICE] cuda                                                                          \n",
      "[DEVICE] cuda                                                                          \n",
      "[DEVICE] cuda                                                                          \n",
      "[DEVICE] cuda                                                                          \n",
      "[DEVICE] cuda                                                                          \n",
      "[DEVICE] cuda                                                                          \n",
      "[DEVICE] cuda                                                                          \n",
      "[DEVICE] cuda                                                                          \n",
      "[DEVICE] cuda                                                                          \n",
      "[DEVICE] cuda                                                                          \n",
      "[DEVICE] cuda                                                                          \n",
      "[DEVICE] cuda                                                                          \n",
      "[DEVICE] cuda                                                                          \n",
      "[DEVICE] cuda                                                                          \n",
      "[DEVICE] cuda                                                                          \n",
      "[DEVICE] cuda                                                                          \n",
      "[DEVICE] cuda                                                                          \n",
      "[DEVICE] cuda                                                                          \n",
      "[DEVICE] cuda                                                                          \n",
      "[DEVICE] cuda                                                                          \n",
      "[DEVICE] cuda                                                                          \n",
      "[DEVICE] cuda                                                                          \n",
      "[DEVICE] cuda                                                                          \n",
      "[DEVICE] cuda                                                                          \n",
      "[DEVICE] cuda                                                                          \n",
      "[DEVICE] cuda                                                                          \n",
      "[DEVICE] cuda                                                                          \n",
      "[DEVICE] cuda                                                                          \n",
      "[DEVICE] cuda                                                                          \n",
      "[DEVICE] cuda                                                                          \n",
      "[DEVICE] cuda                                                                          \n",
      "[DEVICE] cuda                                                                          \n",
      "[DEVICE] cuda                                                                          \n",
      "[DEVICE] cuda                                                                          \n",
      "[DEVICE] cuda                                                                         \n",
      "[DEVICE] cuda                                                                         \n",
      "[DEVICE] cuda                                                                         \n",
      "[DEVICE] cuda                                                                         \n",
      "[DEVICE] cuda                                                                         \n",
      "[DEVICE] cuda                                                                         \n",
      "[DEVICE] cuda                                                                         \n",
      "[DEVICE] cuda                                                                         \n",
      "[DEVICE] cuda                                                                          \n",
      "[DEVICE] cuda                                                                          \n",
      "[DEVICE] cuda                                                                          \n",
      "[DEVICE] cuda                                                                          \n",
      "[DEVICE] cuda                                                                          \n",
      "[DEVICE] cuda                                                                          \n",
      "[DEVICE] cuda                                                                          \n",
      "[DEVICE] cuda                                                                          \n",
      "[DEVICE] cuda                                                                          \n",
      "[DEVICE] cuda                                                                          \n",
      "[DEVICE] cuda                                                                         \n",
      "[DEVICE] cuda                                                                         \n",
      "[DEVICE] cuda                                                                          \n",
      "[DEVICE] cuda                                                                          \n",
      "[DEVICE] cuda                                                                          \n",
      "[DEVICE] cuda                                                                          \n",
      "[DEVICE] cuda                                                                          \n",
      "[DEVICE] cuda                                                                          \n",
      "[DEVICE] cuda                                                                          \n",
      "[DEVICE] cuda                                                                          \n",
      "[DEVICE] cuda                                                                          \n",
      "[DEVICE] cuda                                                                          \n",
      "[DEVICE] cuda                                                                         \n",
      "[DEVICE] cuda                                                                         \n",
      "[DEVICE] cuda                                                                         \n",
      "[DEVICE] cuda                                                                         \n",
      "[DEVICE] cuda                                                                         \n",
      "[DEVICE] cuda                                                                         \n",
      "[DEVICE] cuda                                                                         \n",
      "[DEVICE] cuda                                                                         \n",
      "[DEVICE] cuda                                                                         \n",
      "[DEVICE] cuda                                                                       \n",
      "[DEVICE] cuda                                                                       \n",
      "[DEVICE] cuda                                                                          \n",
      "[DEVICE] cuda                                                                          \n",
      "[DEVICE] cuda                                                                          \n",
      "[DEVICE] cuda                                                                          \n",
      "[DEVICE] cuda                                                                         \n",
      "[DEVICE] cuda                                                                         \n",
      "[DEVICE] cuda                                                                          \n",
      "[DEVICE] cuda                                                                          \n",
      "[DEVICE] cuda                                                                          \n",
      "[DEVICE] cuda                                                                          \n",
      "[DEVICE] cuda                                                                          \n",
      "[DEVICE] cuda                                                                          \n",
      "[DEVICE] cuda                                                                          \n",
      "[DEVICE] cuda                                                                         \n",
      "[DEVICE] cuda                                                                         \n",
      "[DEVICE] cuda                                                                          \n",
      "[DEVICE] cuda                                                                          \n",
      "[DEVICE] cuda                                                                          \n",
      "[DEVICE] cuda                                                                          \n",
      "[DEVICE] cuda                                                                          \n",
      "[DEVICE] cuda                                                                          \n",
      "[DEVICE] cuda                                                                          \n",
      "[DEVICE] cuda                                                                          \n",
      "[DEVICE] cuda                                                                          \n",
      "[DEVICE] cuda                                                                          \n",
      "[DEVICE] cuda                                                                          \n",
      "[DEVICE] cuda                                                                          \n",
      "[DEVICE] cuda                                                                          \n",
      "[DEVICE] cuda                                                                          \n",
      "[DEVICE] cuda                                                                          \n",
      "[DEVICE] cuda                                                                          \n",
      "[DEVICE] cuda                                                                          \n",
      "[DEVICE] cuda                                                                          \n",
      "[DEVICE] cuda                                                                          \n",
      "[DEVICE] cuda                                                                          \n",
      "[DEVICE] cuda                                                                          \n",
      "[DEVICE] cuda                                                                          \n",
      "[DEVICE] cuda                                                                        \n",
      "[DEVICE] cuda                                                                        \n",
      "[DEVICE] cuda                                                                        \n",
      "[DEVICE] cuda                                                                        \n",
      "[DEVICE] cuda                                                                        \n",
      "[DEVICE] cuda                                                                        \n",
      "[DEVICE] cuda                                                                        \n",
      "[DEVICE] cuda                                                                        \n",
      "[DEVICE] cuda                                                                        \n",
      "[DEVICE] cuda                                                                        \n",
      "[DEVICE] cuda                                                                        \n",
      "[DEVICE] cuda                                                                        \n",
      "[DEVICE] cuda                                                                        \n",
      "[DEVICE] cuda                                                                        \n",
      "[DEVICE] cuda                                                                        \n",
      "[DEVICE] cuda                                                                        \n",
      "[DEVICE] cuda                                                                        \n",
      "[DEVICE] cuda                                                                        \n",
      "[DEVICE] cuda                                                                       \n",
      "[DEVICE] cuda                                                                       \n",
      "[DEVICE] cuda                                                                       \n",
      "[DEVICE] cuda                                                                       \n",
      "[DEVICE] cuda                                                                       \n",
      "[DEVICE] cuda                                                                       \n",
      "[DEVICE] cuda                                                                       \n",
      "[DEVICE] cuda                                                                       \n",
      "[DEVICE] cuda                                                                       \n",
      "[DEVICE] cuda                                                                       \n",
      "[DEVICE] cuda                                                                       \n",
      "[DEVICE] cuda                                                                       \n",
      "[DEVICE] cuda                                                                       \n",
      "[DEVICE] cuda                                                                       \n",
      "[DEVICE] cuda                                                                       \n",
      "[DEVICE] cuda                                                                       \n",
      "[DEVICE] cuda                                                                       \n",
      "[DEVICE] cuda                                                                       \n",
      "[DEVICE] cuda                                                                       \n",
      "[DEVICE] cuda                                                                       \n",
      "[DEVICE] cuda                                                                       \n",
      "[DEVICE] cuda                                                                       \n",
      "[DEVICE] cuda                                                                       \n",
      "[DEVICE] cuda                                                                        \n",
      "[DEVICE] cuda                                                                        \n",
      "[DEVICE] cuda                                                                        \n",
      "[DEVICE] cuda                                                                        \n",
      "[DEVICE] cuda                                                                       \n",
      "[DEVICE] cuda                                                                       \n",
      "[DEVICE] cuda                                                                       \n",
      "[DEVICE] cuda                                                                       \n",
      "[DEVICE] cuda                                                                       \n",
      "[DEVICE] cuda                                                                       \n",
      "[DEVICE] cuda                                                                       \n",
      "[DEVICE] cuda                                                                       \n",
      "[DEVICE] cuda                                                                       \n",
      "[DEVICE] cuda                                                                       \n",
      "[DEVICE] cuda                                                                       \n",
      "[DEVICE] cuda                                                                       \n",
      "[DEVICE] cuda                                                                       \n",
      "[DEVICE] cuda                                                                       \n",
      "[DEVICE] cuda                                                                       \n",
      "[DEVICE] cuda                                                                       \n",
      "[DEVICE] cuda                                                                       \n",
      "[DEVICE] cuda                                                                       \n",
      "[DEVICE] cuda                                                                       \n",
      "[DEVICE] cuda                                                                       \n",
      "[DEVICE] cuda                                                                       \n",
      "[DEVICE] cuda                                                                       \n",
      "[DEVICE] cuda                                                                       \n",
      "[DEVICE] cuda                                                                       \n",
      "[DEVICE] cuda                                                                       \n",
      "[DEVICE] cuda                                                                       \n",
      "[DEVICE] cuda                                                                        \n",
      "[DEVICE] cuda                                                                        \n",
      "[DEVICE] cuda                                                                        \n",
      "[DEVICE] cuda                                                                        \n",
      "[DEVICE] cuda                                                                       \n",
      "[DEVICE] cuda                                                                       \n",
      "[DEVICE] cuda                                                                        \n",
      "[DEVICE] cuda                                                                        \n",
      "[DEVICE] cuda                                                                        \n",
      "[DEVICE] cuda                                                                        \n",
      "[DEVICE] cuda                                                                       \n",
      "[DEVICE] cuda                                                                       \n",
      "[DEVICE] cuda                                                                       \n",
      "[DEVICE] cuda                                                                       \n",
      "[DEVICE] cuda                                                                       \n",
      "100%|██████████| 100/100 [2:54:15<00:00, 104.56s/trial, best loss: 0.7353239059448242]\n"
     ]
    }
   ],
   "source": [
    "trials = Trials()\n",
    "best_params = fmin(\n",
    "    fn=tune_obj,\n",
    "    space=tune_space,\n",
    "    algo=tpe.suggest,\n",
    "    max_evals=100,\n",
    "    trials=trials\n",
    ")"
   ],
   "metadata": {
    "collapsed": false,
    "ExecuteTime": {
     "end_time": "2024-01-29T02:16:37.239440600Z",
     "start_time": "2024-01-28T23:22:21.360610900Z"
    }
   },
   "id": "6e7c6bf4c0bcd57f"
  },
  {
   "cell_type": "code",
   "execution_count": 16,
   "outputs": [
    {
     "data": {
      "text/plain": "{'attn_drops': 0.22753620553535292,\n 'graph_feat_size': 2,\n 'lr': 2,\n 'num_layers': 5,\n 'num_timesteps': 2,\n 'weight_decay': 0.0002571348715221869}"
     },
     "execution_count": 16,
     "metadata": {},
     "output_type": "execute_result"
    }
   ],
   "source": [
    "best_params"
   ],
   "metadata": {
    "collapsed": false,
    "ExecuteTime": {
     "end_time": "2024-01-29T02:29:37.423615300Z",
     "start_time": "2024-01-29T02:29:37.419613300Z"
    }
   },
   "id": "4e63e01d1bc3449a"
  },
  {
   "cell_type": "code",
   "execution_count": 16,
   "outputs": [],
   "source": [
    "best_params = {\n",
    "    \"graph_feat_size\": 600,\n",
    "    \"num_layers\": 5,\n",
    "    \"num_timesteps\": 2,\n",
    "    \"dropout\": 0.2106440254404503,\n",
    "    \"lr\": 0.001,\n",
    "    \"weight_decay\": 0.0002571348715221869,\n",
    "    \"batch_size\": 4096,\n",
    "}"
   ],
   "metadata": {
    "collapsed": false,
    "ExecuteTime": {
     "end_time": "2024-01-29T17:18:59.969123700Z",
     "start_time": "2024-01-29T17:18:59.964616600Z"
    }
   },
   "id": "233541937c7cbfaf"
  },
  {
   "cell_type": "code",
   "execution_count": 35,
   "outputs": [
    {
     "name": "stdout",
     "output_type": "stream",
     "text": [
      "[DEVICE] cuda\n"
     ]
    },
    {
     "name": "stderr",
     "output_type": "stream",
     "text": [
      " 63%|██████▎   | 502/800 [01:10<00:41,  7.10it/s, trn_loss:0.117 val_loss:0.202 rmse:0.698 r2:0.875]\n"
     ]
    },
    {
     "name": "stdout",
     "output_type": "stream",
     "text": [
      "[DEVICE] cuda\n"
     ]
    },
    {
     "name": "stderr",
     "output_type": "stream",
     "text": [
      " 62%|██████▏   | 495/800 [01:09<00:42,  7.12it/s, trn_loss:0.123 val_loss:0.176 rmse:0.623 r2:0.897]\n"
     ]
    },
    {
     "name": "stdout",
     "output_type": "stream",
     "text": [
      "[DEVICE] cuda\n"
     ]
    },
    {
     "name": "stderr",
     "output_type": "stream",
     "text": [
      " 56%|█████▌    | 448/800 [01:03<00:50,  7.02it/s, trn_loss:0.146 val_loss:0.220 rmse:0.741 r2:0.842]\n"
     ]
    },
    {
     "name": "stdout",
     "output_type": "stream",
     "text": [
      "[DEVICE] cuda\n"
     ]
    },
    {
     "name": "stderr",
     "output_type": "stream",
     "text": [
      " 66%|██████▌   | 528/800 [01:13<00:38,  7.15it/s, trn_loss:0.152 val_loss:0.193 rmse:0.656 r2:0.899]\n"
     ]
    },
    {
     "name": "stdout",
     "output_type": "stream",
     "text": [
      "[DEVICE] cuda\n"
     ]
    },
    {
     "name": "stderr",
     "output_type": "stream",
     "text": [
      " 63%|██████▎   | 501/800 [01:09<00:41,  7.18it/s, trn_loss:0.146 val_loss:0.220 rmse:0.707 r2:0.891]\n"
     ]
    }
   ],
   "source": [
    "kf = KFold(n_splits=5, shuffle=True, random_state=RANDOM_STATE)\n",
    "\n",
    "pred_19t1, pred_19t2, pred_08t = [], [], []\n",
    "\n",
    "for trn_idx, val_idx in kf.split(trn_X):\n",
    "    tX, vX = trn_X[trn_idx], trn_X[val_idx]\n",
    "    ty, vy = trn_y[trn_idx], trn_y[val_idx]\n",
    "\n",
    "    model = AttentiveFP(\n",
    "        n_tasks=1,\n",
    "        node_feat_size=featurizer.get_node_feat_size(),\n",
    "        edge_feat_size=featurizer.get_edge_feat_size(),\n",
    "        graph_feat_size=best_params[\"graph_feat_size\"],\n",
    "        num_layers=best_params[\"num_layers\"],\n",
    "        num_timesteps=best_params[\"num_timesteps\"],\n",
    "        dropout=best_params[\"dropout\"],\n",
    "        # General DGL Configuration\n",
    "        lr=best_params[\"lr\"],\n",
    "        weight_decay=best_params[\"weight_decay\"],\n",
    "        batch_size=4096,\n",
    "    )\n",
    "\n",
    "    scores = model.fit(tX, ty, val_X=vX, val_y=vy, epochs=800, min_epochs=400, early_stop_epochs=20)\n",
    "\n",
    "    pred_19t1.append(model.predict(tst1_19SC_X).cpu())\n",
    "    pred_19t2.append(model.predict(tst2_19SC_X).cpu())\n",
    "    pred_08t.append(model.predict(tst_08SC_X).cpu())"
   ],
   "metadata": {
    "collapsed": false,
    "ExecuteTime": {
     "end_time": "2024-01-29T18:44:01.487095Z",
     "start_time": "2024-01-29T18:38:13.078372900Z"
    }
   },
   "id": "4bbc2097490d651f"
  },
  {
   "cell_type": "code",
   "execution_count": 36,
   "outputs": [],
   "source": [
    "pred_19t1 = [torch.mean(pred_i).item() for pred_i in torch.cat(pred_19t1, 1)]\n",
    "pred_19t2 = [torch.mean(pred_i).item() for pred_i in torch.cat(pred_19t2, 1)]\n",
    "pred_08t = [torch.mean(pred_i).item() for pred_i in torch.cat(pred_08t, 1)]"
   ],
   "metadata": {
    "collapsed": false,
    "ExecuteTime": {
     "end_time": "2024-01-29T18:44:01.494183800Z",
     "start_time": "2024-01-29T18:44:01.487095Z"
    }
   },
   "id": "3d6c5dd1be36f45e"
  },
  {
   "cell_type": "code",
   "execution_count": 37,
   "outputs": [
    {
     "data": {
      "text/plain": "{'2019SC TST1 (RMSE)': 0.8433281082616711,\n '2019SC TST2 (RMSE)': 1.4942950874574226,\n '2008SC TST  (RMSE)': 0.8108587236987512,\n '2019SC TST1 (R^2)': 0.4142558346239108,\n '2019SC TST2 (R^2)': 0.4449521380779079,\n '2008SC TST  (R^2)': 0.6429826352291494}"
     },
     "execution_count": 37,
     "metadata": {},
     "output_type": "execute_result"
    }
   ],
   "source": [
    "performance = {\n",
    "    \"2019SC TST1 (RMSE)\": mean_squared_error(tst1_19SC_y, pred_19t1, squared=False),\n",
    "    \"2019SC TST2 (RMSE)\": mean_squared_error(tst2_19SC_y, pred_19t2, squared=False),\n",
    "    \"2008SC TST  (RMSE)\": mean_squared_error(tst_08SC_y, pred_08t, squared=False),\n",
    "    \"2019SC TST1 (R^2)\": r2_score(tst1_19SC_y, pred_19t1),\n",
    "    \"2019SC TST2 (R^2)\": r2_score(tst2_19SC_y, pred_19t2),\n",
    "    \"2008SC TST  (R^2)\": r2_score(tst_08SC_y, pred_08t),\n",
    "}\n",
    "performance"
   ],
   "metadata": {
    "collapsed": false,
    "ExecuteTime": {
     "end_time": "2024-01-29T18:44:01.514620500Z",
     "start_time": "2024-01-29T18:44:01.491181200Z"
    }
   },
   "id": "f12b2b3af5072873"
  },
  {
   "cell_type": "code",
   "execution_count": 20,
   "outputs": [
    {
     "data": {
      "text/plain": "<Figure size 1200x400 with 3 Axes>",
      "image/png": "[encoded data removed]"
     },
     "metadata": {},
     "output_type": "display_data"
    }
   ],
   "source": [
    "import matplotlib.pyplot as plt\n",
    "import seaborn as sns\n",
    "\n",
    "model_name = \"AttentiveFP\"\n",
    "min_ax1, max_ax1 = -7, -1\n",
    "min_ax2, max_ax2 = -10.5, -1\n",
    "min_ax3, max_ax3 = -8, -1\n",
    "\n",
    "fig, (ax1, ax2, ax3) = plt.subplots(nrows=1, ncols=3, figsize=(12, 4))\n",
    "\n",
    "sns.lineplot(x=[min_ax1, max_ax1], y=[min_ax1, max_ax1], ax=ax1, color=\"black\")\n",
    "sns.lineplot(x=[min_ax2, max_ax2], y=[min_ax2, max_ax2], ax=ax2, color=\"black\")\n",
    "sns.lineplot(x=[min_ax3, max_ax3], y=[min_ax3, max_ax3], ax=ax3, color=\"black\")\n",
    "\n",
    "sns.regplot(\n",
    "    data=pd.DataFrame({\n",
    "        \"True log$S$ (mol/L)\": tst1_19SC_y.values,\n",
    "        \"Predicted log$S$ (mol/L)\": pred_19t1\n",
    "    }),\n",
    "    x=\"True log$S$ (mol/L)\",\n",
    "    y=\"Predicted log$S$ (mol/L)\",\n",
    "    ax=ax1\n",
    ")\n",
    "sns.regplot(\n",
    "    data=pd.DataFrame({\n",
    "        \"True log$S$ (mol/L)\": tst2_19SC_y.values,\n",
    "        \"Predicted log$S$ (mol/L)\": pred_19t2\n",
    "    }),\n",
    "    x=\"True log$S$ (mol/L)\",\n",
    "    y=\"Predicted log$S$ (mol/L)\",\n",
    "    ax=ax2\n",
    ")\n",
    "sns.regplot(\n",
    "    data=pd.DataFrame({\n",
    "        \"True log$S$ (mol/L)\": tst_08SC_y.values,\n",
    "        \"Predicted log$S$ (mol/L)\": pred_08t\n",
    "    }),\n",
    "    x=\"True log$S$ (mol/L)\",\n",
    "    y=\"Predicted log$S$ (mol/L)\",\n",
    "    ax=ax3\n",
    ")\n",
    "\n",
    "ax1.set_xlim(min_ax1, max_ax1)\n",
    "ax1.set_ylim(min_ax1, max_ax1)\n",
    "ax2.set_xlim(min_ax2, max_ax2)\n",
    "ax2.set_ylim(min_ax2, max_ax2)\n",
    "ax3.set_xlim(min_ax3, max_ax3)\n",
    "ax3.set_ylim(min_ax3, max_ax3)\n",
    "\n",
    "ax1.set_title(f\"2019SC Tst1 ({model_name})\\n\"\n",
    "              f\"RMSE: {performance['2019SC TST1 (RMSE)']:.3f}, \"\n",
    "              f\"$R^2$: {performance['2019SC TST1 (R^2)']:.3f}\")\n",
    "ax2.set_title(f\"2019SC Tst2 ({model_name})\\n\"\n",
    "              f\"RMSE: {performance['2019SC TST2 (RMSE)']:.3f}, \"\n",
    "              f\"$R^2$: {performance['2019SC TST2 (R^2)']:.3f}\")\n",
    "ax3.set_title(f\"2008SC Tst  ({model_name})\\n\"\n",
    "              f\"RMSE: {performance['2008SC TST  (RMSE)']:.3f}, \"\n",
    "              f\"$R^2$: {performance['2008SC TST  (R^2)']:.3f}\")\n",
    "\n",
    "plt.axis(\"equal\")\n",
    "plt.tight_layout()"
   ],
   "metadata": {
    "collapsed": false,
    "ExecuteTime": {
     "end_time": "2023-10-25T21:06:15.493533400Z",
     "start_time": "2023-10-25T21:06:14.450668700Z"
    }
   },
   "id": "43e614f6c089119b"
  },
  {
   "cell_type": "code",
   "execution_count": null,
   "outputs": [],
   "source": [],
   "metadata": {
    "collapsed": false
   },
   "id": "99a23b241274f180"
  }
 ],
 "metadata": {
  "kernelspec": {
   "display_name": "Python 3",
   "language": "python",
   "name": "python3"
  },
  "language_info": {
   "codemirror_mode": {
    "name": "ipython",
    "version": 2
   },
   "file_extension": ".py",
   "mimetype": "text/x-python",
   "name": "python",
   "nbconvert_exporter": "python",
   "pygments_lexer": "ipython2",
   "version": "2.7.6"
  }
 },
 "nbformat": 4,
 "nbformat_minor": 5
}
