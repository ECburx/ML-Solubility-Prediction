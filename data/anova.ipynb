{
 "cells": [
  {
   "cell_type": "code",
   "execution_count": 1,
   "id": "initial_id",
   "metadata": {
    "collapsed": true,
    "ExecuteTime": {
     "end_time": "2024-01-28T15:43:57.916179600Z",
     "start_time": "2024-01-28T15:43:57.642677200Z"
    }
   },
   "outputs": [],
   "source": [
    "import pandas as pd\n",
    "import statsmodels.api as sm\n",
    "from statsmodels.formula.api import ols"
   ]
  },
  {
   "cell_type": "code",
   "execution_count": 5,
   "outputs": [
    {
     "data": {
      "text/plain": "    RMSE     R2 TstSet    Model\n0  0.866  0.381  19SC1  XGBoost\n1  0.797  0.476  19SC1  XGBoost\n2  0.875  0.368  19SC1  XGBoost\n3  0.799  0.473  19SC1  XGBoost\n4  0.796  0.477  19SC1  XGBoost",
      "text/html": "<div>\n<style scoped>\n    .dataframe tbody tr th:only-of-type {\n        vertical-align: middle;\n    }\n\n    .dataframe tbody tr th {\n        vertical-align: top;\n    }\n\n    .dataframe thead th {\n        text-align: right;\n    }\n</style>\n<table border=\"1\" class=\"dataframe\">\n  <thead>\n    <tr style=\"text-align: right;\">\n      <th></th>\n      <th>RMSE</th>\n      <th>R2</th>\n      <th>TstSet</th>\n      <th>Model</th>\n    </tr>\n  </thead>\n  <tbody>\n    <tr>\n      <th>0</th>\n      <td>0.866</td>\n      <td>0.381</td>\n      <td>19SC1</td>\n      <td>XGBoost</td>\n    </tr>\n    <tr>\n      <th>1</th>\n      <td>0.797</td>\n      <td>0.476</td>\n      <td>19SC1</td>\n      <td>XGBoost</td>\n    </tr>\n    <tr>\n      <th>2</th>\n      <td>0.875</td>\n      <td>0.368</td>\n      <td>19SC1</td>\n      <td>XGBoost</td>\n    </tr>\n    <tr>\n      <th>3</th>\n      <td>0.799</td>\n      <td>0.473</td>\n      <td>19SC1</td>\n      <td>XGBoost</td>\n    </tr>\n    <tr>\n      <th>4</th>\n      <td>0.796</td>\n      <td>0.477</td>\n      <td>19SC1</td>\n      <td>XGBoost</td>\n    </tr>\n  </tbody>\n</table>\n</div>"
     },
     "execution_count": 5,
     "metadata": {},
     "output_type": "execute_result"
    }
   ],
   "source": [
    "data = pd.read_csv(\"results.csv\")\n",
    "data.head()"
   ],
   "metadata": {
    "collapsed": false,
    "ExecuteTime": {
     "end_time": "2024-01-28T15:44:43.834869200Z",
     "start_time": "2024-01-28T15:44:43.817746500Z"
    }
   },
   "id": "1549083feaa846c1"
  },
  {
   "cell_type": "code",
   "execution_count": 12,
   "outputs": [
    {
     "data": {
      "text/plain": "            df    sum_sq   mean_sq          F        PR(>F)\nC(Model)   2.0  0.086126  0.043063  24.853355  7.553715e-07\nResidual  27.0  0.046783  0.001733        NaN           NaN",
      "text/html": "<div>\n<style scoped>\n    .dataframe tbody tr th:only-of-type {\n        vertical-align: middle;\n    }\n\n    .dataframe tbody tr th {\n        vertical-align: top;\n    }\n\n    .dataframe thead th {\n        text-align: right;\n    }\n</style>\n<table border=\"1\" class=\"dataframe\">\n  <thead>\n    <tr style=\"text-align: right;\">\n      <th></th>\n      <th>df</th>\n      <th>sum_sq</th>\n      <th>mean_sq</th>\n      <th>F</th>\n      <th>PR(&gt;F)</th>\n    </tr>\n  </thead>\n  <tbody>\n    <tr>\n      <th>C(Model)</th>\n      <td>2.0</td>\n      <td>0.086126</td>\n      <td>0.043063</td>\n      <td>24.853355</td>\n      <td>7.553715e-07</td>\n    </tr>\n    <tr>\n      <th>Residual</th>\n      <td>27.0</td>\n      <td>0.046783</td>\n      <td>0.001733</td>\n      <td>NaN</td>\n      <td>NaN</td>\n    </tr>\n  </tbody>\n</table>\n</div>"
     },
     "execution_count": 12,
     "metadata": {},
     "output_type": "execute_result"
    }
   ],
   "source": [
    "model = ols('RMSE ~ C(Model)', data=data[data['TstSet'] == '19SC1']).fit()\n",
    "anova_results = sm.stats.anova_lm(model, typ=1)\n",
    "anova_results"
   ],
   "metadata": {
    "collapsed": false,
    "ExecuteTime": {
     "end_time": "2024-01-28T16:17:34.850941300Z",
     "start_time": "2024-01-28T16:17:34.834689300Z"
    }
   },
   "id": "a7ebec540de43e47"
  },
  {
   "cell_type": "code",
   "execution_count": null,
   "outputs": [],
   "source": [],
   "metadata": {
    "collapsed": false
   },
   "id": "e03c08f8ebd5766a"
  }
 ],
 "metadata": {
  "kernelspec": {
   "display_name": "Python 3",
   "language": "python",
   "name": "python3"
  },
  "language_info": {
   "codemirror_mode": {
    "name": "ipython",
    "version": 2
   },
   "file_extension": ".py",
   "mimetype": "text/x-python",
   "name": "python",
   "nbconvert_exporter": "python",
   "pygments_lexer": "ipython2",
   "version": "2.7.6"
  }
 },
 "nbformat": 4,
 "nbformat_minor": 5
}
